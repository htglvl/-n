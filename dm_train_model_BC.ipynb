{
 "cells": [
  {
   "cell_type": "code",
   "execution_count": 5,
   "metadata": {},
   "outputs": [],
   "source": [
    "import os\n",
    "import tensorflow as tf\n",
    "import numpy as np\n",
    "import time\n",
    "import datetime\n",
    "import pickle\n",
    "import random\n",
    "import h5py\n",
    "from tensorflow.keras.models import Sequential, Model\n",
    "from tensorflow.keras.layers import Dense, Dropout, Activation, Flatten, BatchNormalization, Add, ReLU, LSTM, ConvLSTM2D\n",
    "from tensorflow.keras.layers import Conv2D, Conv3D, MaxPooling2D, concatenate, Input, AveragePooling2D, TimeDistributed, Dropout\n",
    "from tensorflow.keras import optimizers\n",
    "from tensorflow.keras import losses\n",
    "from tensorflow import keras\n",
    "import tensorflow.keras.backend as K\n",
    "from tensorflow.keras.applications import EfficientNetB0\n",
    "from tensorflow.keras.utils import register_keras_serializable\n",
    "from config import *\n",
    "# tf.config.run_functions_eagerly(True)\n",
    "# TF_USE_LEGACY_KERAS=True"
   ]
  },
  {
   "cell_type": "code",
   "execution_count": 2,
   "metadata": {},
   "outputs": [
    {
     "data": {
      "text/plain": [
       "'2.18.0'"
      ]
     },
     "execution_count": 2,
     "metadata": {},
     "output_type": "execute_result"
    }
   ],
   "source": [
    "tf.__version__"
   ]
  },
  {
   "cell_type": "code",
   "execution_count": 3,
   "metadata": {},
   "outputs": [],
   "source": [
    "# inputs\n",
    "batch_size = 1 # this is total batchsize using all GPUs, so make divisible by num_gpus!\n",
    "l_rate = 0.0001\n",
    "\n",
    "# training data location\n",
    "file_name_stub = 'hdf5_dm_test_auto_' # dm_july2021_ aim_july2021_expert_ dm_july2021_expert_\n",
    "# file_name_stub = 'dm_6nov_aim_' \n",
    "folder_name = 'raw_data' \n",
    "starting_num = 1 # lowest file name to use in training\n",
    "highest_num = 10 # highest file name to use in training 4000, 5500, 190, 45, 10\n",
    "\n",
    "# whether to save model if training and where\n",
    "model_name = 'ak47_m41a_55k_sub_drop_'\n",
    "save_dir = 'save_model_BC'\n",
    "SAVE_MODEL = True\n",
    "\n",
    "# whether to resume training from a previous model\n",
    "IS_LOAD_WEIGHTS_AND_MODEL=False\n",
    "model_name = 'test_model_1'"
   ]
  },
  {
   "cell_type": "code",
   "execution_count": 4,
   "metadata": {},
   "outputs": [
    {
     "data": {
      "text/plain": [
       "(150, 412, 3)"
      ]
     },
     "execution_count": 4,
     "metadata": {},
     "output_type": "execute_result"
    }
   ],
   "source": [
    "input_shape[1:]"
   ]
  },
  {
   "cell_type": "code",
   "execution_count": 5,
   "metadata": {},
   "outputs": [
    {
     "data": {
      "text/plain": [
       "(32, 150, 412, 3)"
      ]
     },
     "execution_count": 5,
     "metadata": {},
     "output_type": "execute_result"
    }
   ],
   "source": [
    "input_shape"
   ]
  },
  {
   "cell_type": "code",
   "execution_count": 6,
   "metadata": {},
   "outputs": [],
   "source": [
    "# from keras.layers import Reshape\n",
    "# from keras.layers import GlobalAveragePooling1D\n",
    "# start_time=time.time()\n",
    "\n",
    "# if IS_LOAD_WEIGHTS_AND_MODEL:\n",
    "#     # pick up training from earlier spot\n",
    "#     print('-- loading model from saved file --')\n",
    "#     model = tp_load_model(save_dir, weights_name)\n",
    "#     # TODO: if .p file exists, load and check if matches current config\n",
    "#     hypers_load = pickle.load(open(save_dir+'/'+weights_name+'.p', 'rb'))\n",
    "#     print(hypers_load)\n",
    "\n",
    "# else:\n",
    "#     # useful tutorial for building, https://keras.io/getting-started/functional-api-guide/\n",
    "#     print('-- building model from scratch --')\n",
    "\n",
    "#     base_model = EfficientNetB0(weights='imagenet',input_shape=(input_shape[1:]),include_top=False)#input_shape[1:](150,412,3)\n",
    "#     if 'randinit' in model_name:\n",
    "#         print('random initialisation!\\n\\n') \n",
    "#         base_model = EfficientNetB0(weights='imagenet',input_shape=(input_shape[1:]),include_top=False)#input_shape[1:]\n",
    "#     base_model.trainable = True\n",
    "\n",
    "#     intermediate_model= Model(inputs=base_model.input, outputs=base_model.layers[161].output)\n",
    "#     intermediate_model.trainable = True\n",
    "\n",
    "#     # input_1 = Input(shape=(1,150,280,3),name='main_in')#input_shape ##\n",
    "#     input_1 = Input(batch_shape=(None, 1,150,412,3),name='main_in')#input_shape ##\n",
    "#     x = TimeDistributed(intermediate_model)(input_1) ##\n",
    "#     x = ConvLSTM2D(filters=256,kernel_size=(3,3),stateful=False,return_sequences=True,dropout=0.5, recurrent_dropout=0.5)(x)\n",
    "#     # x = TimeDistributed(Reshape((-1,)))(x)\n",
    "#     # x = LSTM(256,stateful=False,return_sequences=True,dropout=0.2, recurrent_dropout=0.2)(x)\n",
    "#     x = TimeDistributed(Flatten())(x) ##\n",
    "#     # x = TimeDistributed(Dropout(0.5))(x)\n",
    "#     # x = TimeDistributed(Dropout(0.5))(x)\n",
    "#     # x = LSTM(256,stateful=False,return_sequences=True,dropout=0., recurrent_dropout=0.)(x)\n",
    "#     # x = TimeDistributed(Dropout(0.5))(x)\n",
    "\n",
    "#     dense_5 = x ##\n",
    "#     output_1 = Dense(n_keys, activation='sigmoid')(dense_5) ##\n",
    "#     output_2 = Dense(n_clicks, activation='sigmoid')(dense_5) ##\n",
    "#     output_3 = Dense(n_mouse_x, activation='softmax')(dense_5) # softmax since mouse is mutually exclusive ##\n",
    "#     output_4 = Dense(n_mouse_y, activation='softmax')(dense_5) ## \n",
    "#     output_5 = Dense(1, activation='linear')(dense_5)  ##\n",
    "#     # output_all = concatenate([output_1,output_2,output_3,output_4], axis=-1)\n",
    "#     output_all = concatenate([output_1,output_2,output_3,output_4,output_5], axis=-1) ##\n",
    "#     # output_all = GlobalAveragePooling1D()(output_all)\n",
    "#     model = Model(input_1, output_all)\n"
   ]
  },
  {
   "cell_type": "code",
   "execution_count": 7,
   "metadata": {},
   "outputs": [
    {
     "name": "stdout",
     "output_type": "stream",
     "text": [
      "INFO:tensorflow:Using MirroredStrategy with devices ('/job:localhost/replica:0/task:0/device:GPU:0',)\n",
      "\n",
      "number of devices using for training: 1\n"
     ]
    },
    {
     "name": "stderr",
     "output_type": "stream",
     "text": [
      "I0000 00:00:1732392683.343899   75828 gpu_device.cc:2022] Created device /job:localhost/replica:0/task:0/device:GPU:0 with 5563 MB memory:  -> device: 0, name: NVIDIA GeForce RTX 4060 Laptop GPU, pci bus id: 0000:01:00.0, compute capability: 8.9\n"
     ]
    }
   ],
   "source": [
    "strategy = tf.distribute.MirroredStrategy([\"GPU:0\"])\n",
    "# strategy = tf.distribute.MirroredStrategy([\"GPU:0\",\"GPU:1\",\"GPU:2\", \"GPU:3\"])\n",
    "print('\\nnumber of devices using for training: {}'.format(strategy.num_replicas_in_sync))"
   ]
  },
  {
   "cell_type": "code",
   "execution_count": 8,
   "metadata": {},
   "outputs": [
    {
     "name": "stdout",
     "output_type": "stream",
     "text": [
      "WARNING:tensorflow:From /tmp/ipykernel_75828/337460670.py:1: is_gpu_available (from tensorflow.python.framework.test_util) is deprecated and will be removed in a future version.\n",
      "Instructions for updating:\n",
      "Use `tf.config.list_physical_devices('GPU')` instead.\n"
     ]
    },
    {
     "name": "stderr",
     "output_type": "stream",
     "text": [
      "I0000 00:00:1732392683.534975   75828 gpu_device.cc:2022] Created device /device:GPU:0 with 5563 MB memory:  -> device: 0, name: NVIDIA GeForce RTX 4060 Laptop GPU, pci bus id: 0000:01:00.0, compute capability: 8.9\n"
     ]
    },
    {
     "data": {
      "text/plain": [
       "True"
      ]
     },
     "execution_count": 8,
     "metadata": {},
     "output_type": "execute_result"
    }
   ],
   "source": [
    "tf.test.is_gpu_available()"
   ]
  },
  {
   "cell_type": "code",
   "execution_count": 8,
   "metadata": {},
   "outputs": [
    {
     "name": "stdout",
     "output_type": "stream",
     "text": [
      "-- building model from scratch --\n",
      "here1\n",
      "here2\n"
     ]
    },
    {
     "data": {
      "text/html": [
       "<pre style=\"white-space:pre;overflow-x:auto;line-height:normal;font-family:Menlo,'DejaVu Sans Mono',consolas,'Courier New',monospace\"><span style=\"font-weight: bold\">Model: \"functional_1\"</span>\n",
       "</pre>\n"
      ],
      "text/plain": [
       "\u001b[1mModel: \"functional_1\"\u001b[0m\n"
      ]
     },
     "metadata": {},
     "output_type": "display_data"
    },
    {
     "data": {
      "text/html": [
       "<pre style=\"white-space:pre;overflow-x:auto;line-height:normal;font-family:Menlo,'DejaVu Sans Mono',consolas,'Courier New',monospace\">┏━━━━━━━━━━━━━━━━━━━━━┳━━━━━━━━━━━━━━━━━━━┳━━━━━━━━━━━━┳━━━━━━━━━━━━━━━━━━━┓\n",
       "┃<span style=\"font-weight: bold\"> Layer (type)        </span>┃<span style=\"font-weight: bold\"> Output Shape      </span>┃<span style=\"font-weight: bold\">    Param # </span>┃<span style=\"font-weight: bold\"> Connected to      </span>┃\n",
       "┡━━━━━━━━━━━━━━━━━━━━━╇━━━━━━━━━━━━━━━━━━━╇━━━━━━━━━━━━╇━━━━━━━━━━━━━━━━━━━┩\n",
       "│ main_in             │ (<span style=\"color: #00d7ff; text-decoration-color: #00d7ff\">None</span>, <span style=\"color: #00af00; text-decoration-color: #00af00\">32</span>, <span style=\"color: #00af00; text-decoration-color: #00af00\">150</span>,   │          <span style=\"color: #00af00; text-decoration-color: #00af00\">0</span> │ -                 │\n",
       "│ (<span style=\"color: #0087ff; text-decoration-color: #0087ff\">InputLayer</span>)        │ <span style=\"color: #00af00; text-decoration-color: #00af00\">412</span>, <span style=\"color: #00af00; text-decoration-color: #00af00\">3</span>)           │            │                   │\n",
       "├─────────────────────┼───────────────────┼────────────┼───────────────────┤\n",
       "│ time_distributed    │ (<span style=\"color: #00d7ff; text-decoration-color: #00d7ff\">None</span>, <span style=\"color: #00af00; text-decoration-color: #00af00\">32</span>, <span style=\"color: #00af00; text-decoration-color: #00af00\">10</span>,    │    <span style=\"color: #00af00; text-decoration-color: #00af00\">867,975</span> │ main_in[<span style=\"color: #00af00; text-decoration-color: #00af00\">0</span>][<span style=\"color: #00af00; text-decoration-color: #00af00\">0</span>]     │\n",
       "│ (<span style=\"color: #0087ff; text-decoration-color: #0087ff\">TimeDistributed</span>)   │ <span style=\"color: #00af00; text-decoration-color: #00af00\">26</span>, <span style=\"color: #00af00; text-decoration-color: #00af00\">112</span>)          │            │                   │\n",
       "├─────────────────────┼───────────────────┼────────────┼───────────────────┤\n",
       "│ conv_lstm2d         │ (<span style=\"color: #00d7ff; text-decoration-color: #00d7ff\">None</span>, <span style=\"color: #00af00; text-decoration-color: #00af00\">32</span>, <span style=\"color: #00af00; text-decoration-color: #00af00\">8</span>, <span style=\"color: #00af00; text-decoration-color: #00af00\">24</span>, │  <span style=\"color: #00af00; text-decoration-color: #00af00\">3,392,512</span> │ time_distributed… │\n",
       "│ (<span style=\"color: #0087ff; text-decoration-color: #0087ff\">ConvLSTM2D</span>)        │ <span style=\"color: #00af00; text-decoration-color: #00af00\">256</span>)              │            │                   │\n",
       "├─────────────────────┼───────────────────┼────────────┼───────────────────┤\n",
       "│ time_distributed_1  │ (<span style=\"color: #00d7ff; text-decoration-color: #00d7ff\">None</span>, <span style=\"color: #00af00; text-decoration-color: #00af00\">32</span>, <span style=\"color: #00af00; text-decoration-color: #00af00\">49152</span>) │          <span style=\"color: #00af00; text-decoration-color: #00af00\">0</span> │ conv_lstm2d[<span style=\"color: #00af00; text-decoration-color: #00af00\">0</span>][<span style=\"color: #00af00; text-decoration-color: #00af00\">0</span>] │\n",
       "│ (<span style=\"color: #0087ff; text-decoration-color: #0087ff\">TimeDistributed</span>)   │                   │            │                   │\n",
       "├─────────────────────┼───────────────────┼────────────┼───────────────────┤\n",
       "│ time_distributed_2  │ (<span style=\"color: #00d7ff; text-decoration-color: #00d7ff\">None</span>, <span style=\"color: #00af00; text-decoration-color: #00af00\">32</span>, <span style=\"color: #00af00; text-decoration-color: #00af00\">11</span>)    │    <span style=\"color: #00af00; text-decoration-color: #00af00\">540,683</span> │ time_distributed… │\n",
       "│ (<span style=\"color: #0087ff; text-decoration-color: #0087ff\">TimeDistributed</span>)   │                   │            │                   │\n",
       "├─────────────────────┼───────────────────┼────────────┼───────────────────┤\n",
       "│ time_distributed_3  │ (<span style=\"color: #00d7ff; text-decoration-color: #00d7ff\">None</span>, <span style=\"color: #00af00; text-decoration-color: #00af00\">32</span>, <span style=\"color: #00af00; text-decoration-color: #00af00\">2</span>)     │     <span style=\"color: #00af00; text-decoration-color: #00af00\">98,306</span> │ time_distributed… │\n",
       "│ (<span style=\"color: #0087ff; text-decoration-color: #0087ff\">TimeDistributed</span>)   │                   │            │                   │\n",
       "├─────────────────────┼───────────────────┼────────────┼───────────────────┤\n",
       "│ time_distributed_4  │ (<span style=\"color: #00d7ff; text-decoration-color: #00d7ff\">None</span>, <span style=\"color: #00af00; text-decoration-color: #00af00\">32</span>, <span style=\"color: #00af00; text-decoration-color: #00af00\">23</span>)    │  <span style=\"color: #00af00; text-decoration-color: #00af00\">1,130,519</span> │ time_distributed… │\n",
       "│ (<span style=\"color: #0087ff; text-decoration-color: #0087ff\">TimeDistributed</span>)   │                   │            │                   │\n",
       "├─────────────────────┼───────────────────┼────────────┼───────────────────┤\n",
       "│ time_distributed_5  │ (<span style=\"color: #00d7ff; text-decoration-color: #00d7ff\">None</span>, <span style=\"color: #00af00; text-decoration-color: #00af00\">32</span>, <span style=\"color: #00af00; text-decoration-color: #00af00\">15</span>)    │    <span style=\"color: #00af00; text-decoration-color: #00af00\">737,295</span> │ time_distributed… │\n",
       "│ (<span style=\"color: #0087ff; text-decoration-color: #0087ff\">TimeDistributed</span>)   │                   │            │                   │\n",
       "├─────────────────────┼───────────────────┼────────────┼───────────────────┤\n",
       "│ time_distributed_6  │ (<span style=\"color: #00d7ff; text-decoration-color: #00d7ff\">None</span>, <span style=\"color: #00af00; text-decoration-color: #00af00\">32</span>, <span style=\"color: #00af00; text-decoration-color: #00af00\">1</span>)     │     <span style=\"color: #00af00; text-decoration-color: #00af00\">49,153</span> │ time_distributed… │\n",
       "│ (<span style=\"color: #0087ff; text-decoration-color: #0087ff\">TimeDistributed</span>)   │                   │            │                   │\n",
       "├─────────────────────┼───────────────────┼────────────┼───────────────────┤\n",
       "│ concatenate         │ (<span style=\"color: #00d7ff; text-decoration-color: #00d7ff\">None</span>, <span style=\"color: #00af00; text-decoration-color: #00af00\">32</span>, <span style=\"color: #00af00; text-decoration-color: #00af00\">52</span>)    │          <span style=\"color: #00af00; text-decoration-color: #00af00\">0</span> │ time_distributed… │\n",
       "│ (<span style=\"color: #0087ff; text-decoration-color: #0087ff\">Concatenate</span>)       │                   │            │ time_distributed… │\n",
       "│                     │                   │            │ time_distributed… │\n",
       "│                     │                   │            │ time_distributed… │\n",
       "│                     │                   │            │ time_distributed… │\n",
       "└─────────────────────┴───────────────────┴────────────┴───────────────────┘\n",
       "</pre>\n"
      ],
      "text/plain": [
       "┏━━━━━━━━━━━━━━━━━━━━━┳━━━━━━━━━━━━━━━━━━━┳━━━━━━━━━━━━┳━━━━━━━━━━━━━━━━━━━┓\n",
       "┃\u001b[1m \u001b[0m\u001b[1mLayer (type)       \u001b[0m\u001b[1m \u001b[0m┃\u001b[1m \u001b[0m\u001b[1mOutput Shape     \u001b[0m\u001b[1m \u001b[0m┃\u001b[1m \u001b[0m\u001b[1m   Param #\u001b[0m\u001b[1m \u001b[0m┃\u001b[1m \u001b[0m\u001b[1mConnected to     \u001b[0m\u001b[1m \u001b[0m┃\n",
       "┡━━━━━━━━━━━━━━━━━━━━━╇━━━━━━━━━━━━━━━━━━━╇━━━━━━━━━━━━╇━━━━━━━━━━━━━━━━━━━┩\n",
       "│ main_in             │ (\u001b[38;5;45mNone\u001b[0m, \u001b[38;5;34m32\u001b[0m, \u001b[38;5;34m150\u001b[0m,   │          \u001b[38;5;34m0\u001b[0m │ -                 │\n",
       "│ (\u001b[38;5;33mInputLayer\u001b[0m)        │ \u001b[38;5;34m412\u001b[0m, \u001b[38;5;34m3\u001b[0m)           │            │                   │\n",
       "├─────────────────────┼───────────────────┼────────────┼───────────────────┤\n",
       "│ time_distributed    │ (\u001b[38;5;45mNone\u001b[0m, \u001b[38;5;34m32\u001b[0m, \u001b[38;5;34m10\u001b[0m,    │    \u001b[38;5;34m867,975\u001b[0m │ main_in[\u001b[38;5;34m0\u001b[0m][\u001b[38;5;34m0\u001b[0m]     │\n",
       "│ (\u001b[38;5;33mTimeDistributed\u001b[0m)   │ \u001b[38;5;34m26\u001b[0m, \u001b[38;5;34m112\u001b[0m)          │            │                   │\n",
       "├─────────────────────┼───────────────────┼────────────┼───────────────────┤\n",
       "│ conv_lstm2d         │ (\u001b[38;5;45mNone\u001b[0m, \u001b[38;5;34m32\u001b[0m, \u001b[38;5;34m8\u001b[0m, \u001b[38;5;34m24\u001b[0m, │  \u001b[38;5;34m3,392,512\u001b[0m │ time_distributed… │\n",
       "│ (\u001b[38;5;33mConvLSTM2D\u001b[0m)        │ \u001b[38;5;34m256\u001b[0m)              │            │                   │\n",
       "├─────────────────────┼───────────────────┼────────────┼───────────────────┤\n",
       "│ time_distributed_1  │ (\u001b[38;5;45mNone\u001b[0m, \u001b[38;5;34m32\u001b[0m, \u001b[38;5;34m49152\u001b[0m) │          \u001b[38;5;34m0\u001b[0m │ conv_lstm2d[\u001b[38;5;34m0\u001b[0m][\u001b[38;5;34m0\u001b[0m] │\n",
       "│ (\u001b[38;5;33mTimeDistributed\u001b[0m)   │                   │            │                   │\n",
       "├─────────────────────┼───────────────────┼────────────┼───────────────────┤\n",
       "│ time_distributed_2  │ (\u001b[38;5;45mNone\u001b[0m, \u001b[38;5;34m32\u001b[0m, \u001b[38;5;34m11\u001b[0m)    │    \u001b[38;5;34m540,683\u001b[0m │ time_distributed… │\n",
       "│ (\u001b[38;5;33mTimeDistributed\u001b[0m)   │                   │            │                   │\n",
       "├─────────────────────┼───────────────────┼────────────┼───────────────────┤\n",
       "│ time_distributed_3  │ (\u001b[38;5;45mNone\u001b[0m, \u001b[38;5;34m32\u001b[0m, \u001b[38;5;34m2\u001b[0m)     │     \u001b[38;5;34m98,306\u001b[0m │ time_distributed… │\n",
       "│ (\u001b[38;5;33mTimeDistributed\u001b[0m)   │                   │            │                   │\n",
       "├─────────────────────┼───────────────────┼────────────┼───────────────────┤\n",
       "│ time_distributed_4  │ (\u001b[38;5;45mNone\u001b[0m, \u001b[38;5;34m32\u001b[0m, \u001b[38;5;34m23\u001b[0m)    │  \u001b[38;5;34m1,130,519\u001b[0m │ time_distributed… │\n",
       "│ (\u001b[38;5;33mTimeDistributed\u001b[0m)   │                   │            │                   │\n",
       "├─────────────────────┼───────────────────┼────────────┼───────────────────┤\n",
       "│ time_distributed_5  │ (\u001b[38;5;45mNone\u001b[0m, \u001b[38;5;34m32\u001b[0m, \u001b[38;5;34m15\u001b[0m)    │    \u001b[38;5;34m737,295\u001b[0m │ time_distributed… │\n",
       "│ (\u001b[38;5;33mTimeDistributed\u001b[0m)   │                   │            │                   │\n",
       "├─────────────────────┼───────────────────┼────────────┼───────────────────┤\n",
       "│ time_distributed_6  │ (\u001b[38;5;45mNone\u001b[0m, \u001b[38;5;34m32\u001b[0m, \u001b[38;5;34m1\u001b[0m)     │     \u001b[38;5;34m49,153\u001b[0m │ time_distributed… │\n",
       "│ (\u001b[38;5;33mTimeDistributed\u001b[0m)   │                   │            │                   │\n",
       "├─────────────────────┼───────────────────┼────────────┼───────────────────┤\n",
       "│ concatenate         │ (\u001b[38;5;45mNone\u001b[0m, \u001b[38;5;34m32\u001b[0m, \u001b[38;5;34m52\u001b[0m)    │          \u001b[38;5;34m0\u001b[0m │ time_distributed… │\n",
       "│ (\u001b[38;5;33mConcatenate\u001b[0m)       │                   │            │ time_distributed… │\n",
       "│                     │                   │            │ time_distributed… │\n",
       "│                     │                   │            │ time_distributed… │\n",
       "│                     │                   │            │ time_distributed… │\n",
       "└─────────────────────┴───────────────────┴────────────┴───────────────────┘\n"
      ]
     },
     "metadata": {},
     "output_type": "display_data"
    },
    {
     "data": {
      "text/html": [
       "<pre style=\"white-space:pre;overflow-x:auto;line-height:normal;font-family:Menlo,'DejaVu Sans Mono',consolas,'Courier New',monospace\"><span style=\"font-weight: bold\"> Total params: </span><span style=\"color: #00af00; text-decoration-color: #00af00\">6,816,443</span> (26.00 MB)\n",
       "</pre>\n"
      ],
      "text/plain": [
       "\u001b[1m Total params: \u001b[0m\u001b[38;5;34m6,816,443\u001b[0m (26.00 MB)\n"
      ]
     },
     "metadata": {},
     "output_type": "display_data"
    },
    {
     "data": {
      "text/html": [
       "<pre style=\"white-space:pre;overflow-x:auto;line-height:normal;font-family:Menlo,'DejaVu Sans Mono',consolas,'Courier New',monospace\"><span style=\"font-weight: bold\"> Trainable params: </span><span style=\"color: #00af00; text-decoration-color: #00af00\">6,800,276</span> (25.94 MB)\n",
       "</pre>\n"
      ],
      "text/plain": [
       "\u001b[1m Trainable params: \u001b[0m\u001b[38;5;34m6,800,276\u001b[0m (25.94 MB)\n"
      ]
     },
     "metadata": {},
     "output_type": "display_data"
    },
    {
     "data": {
      "text/html": [
       "<pre style=\"white-space:pre;overflow-x:auto;line-height:normal;font-family:Menlo,'DejaVu Sans Mono',consolas,'Courier New',monospace\"><span style=\"font-weight: bold\"> Non-trainable params: </span><span style=\"color: #00af00; text-decoration-color: #00af00\">16,167</span> (63.16 KB)\n",
       "</pre>\n"
      ],
      "text/plain": [
       "\u001b[1m Non-trainable params: \u001b[0m\u001b[38;5;34m16,167\u001b[0m (63.16 KB)\n"
      ]
     },
     "metadata": {},
     "output_type": "display_data"
    },
    {
     "name": "stdout",
     "output_type": "stream",
     "text": [
      "None\n",
      "successfully compiled model\n"
     ]
    }
   ],
   "source": [
    "with strategy.scope():\n",
    "    model_name = 'ak47_m41a_55k_sub_drop_'\n",
    "    # useful tutorial for building, https://keras.io/getting-started/functional-api-guide/\n",
    "    print('-- building model from scratch --')\n",
    "    base_model = EfficientNetB0(weights='imagenet',input_shape=(input_shape[1:]),include_top=False)\n",
    "    if 'randinit' in model_name:\n",
    "        print('random initialisation!\\n\\n')\n",
    "        base_model = EfficientNetB0(weights=None,input_shape=(input_shape[1:]),include_top=False)\n",
    "    base_model.trainable = True\n",
    "\n",
    "    intermediate_model= Model(inputs=base_model.input, outputs=base_model.layers[161].output)\n",
    "    intermediate_model.trainable = True\n",
    "\n",
    "    input_1 = Input(shape=input_shape,name='main_in')\n",
    "    x = TimeDistributed(intermediate_model)(input_1)\n",
    "\n",
    "    print('here1')\n",
    "    if 'drop' in model_name:\n",
    "        if 'big' in model_name:\n",
    "            x = ConvLSTM2D(filters=512,kernel_size=(3,3),stateful=False,return_sequences=True,dropout=0.5, recurrent_dropout=0.5)(x)\n",
    "        else:\n",
    "            x = ConvLSTM2D(filters=256,kernel_size=(3,3),stateful=False,return_sequences=True,dropout=0.5, recurrent_dropout=0.5)(x)\n",
    "    else:\n",
    "        if 'big' in model_name:\n",
    "            x = ConvLSTM2D(filters=512,kernel_size=(3,3),stateful=False,return_sequences=True)(x)\n",
    "        else:\n",
    "            x = ConvLSTM2D(filters=256,kernel_size=(3,3),stateful=False,return_sequences=True)(x)\n",
    "    if 'extra' in model_name:\n",
    "        if 'drop' in model_name:\n",
    "            x = ConvLSTM2D(filters=256,kernel_size=(3,3),stateful=False,return_sequences=True,dropout=0.5, recurrent_dropout=0.5)(x)\n",
    "        else:\n",
    "            x = ConvLSTM2D(filters=256,kernel_size=(3,3),stateful=False,return_sequences=True)(x)\n",
    "    print('here2')\n",
    "    x = TimeDistributed(Flatten())(x)\n",
    "    if 'LSTM' in model_name:\n",
    "        if 'drop' in model_name:\n",
    "            x = TimeDistributed(Dropout(0.5))(x)\n",
    "            x = LSTM(256,stateful=False,return_sequences=True,dropout=0., recurrent_dropout=0.)(x)\n",
    "            x = TimeDistributed(Dropout(0.5))(x)\n",
    "        else:\n",
    "            x = LSTM(256,stateful=False,return_sequences=True)(x)\n",
    "\n",
    "\n",
    "    # 2) set up auxillary input,  which can have previous actions, as well as aux info like health, ammo, team\n",
    "    # aux_input = Input(shape=(int(ACTIONS_PREV*(aux_input_length))),name='aux_in')\n",
    "    # if AUX_INPUT_ON:\n",
    "    #     flat = concatenate([flat, aux_input], axis=1)\n",
    "    # else:\n",
    "    #     pass\n",
    "\n",
    "    # 3) add shared fc layers\n",
    "    dense_5 = x\n",
    "\n",
    "    # 4) set up outputs, sepearate outputs will allow seperate losses to be applied\n",
    "    output_1 = TimeDistributed(Dense(n_keys, activation='sigmoid'))(dense_5)\n",
    "    output_2 = TimeDistributed(Dense(n_clicks, activation='sigmoid'))(dense_5)\n",
    "    output_3 = TimeDistributed(Dense(n_mouse_x, activation='softmax'))(dense_5) # softmax since mouse is mutually exclusive\n",
    "    output_4 = TimeDistributed(Dense(n_mouse_y, activation='softmax'))(dense_5) \n",
    "    output_5 = TimeDistributed(Dense(1, activation='linear'))(dense_5) \n",
    "    # output_all = concatenate([output_1,output_2,output_3,output_4], axis=-1)\n",
    "    output_all = concatenate([output_1,output_2,output_3,output_4,output_5], axis=-1)\n",
    "\n",
    "\n",
    "    # 5) finish model definition\n",
    "    if AUX_INPUT_ON:\n",
    "        model = Model([input_1, aux_input], output_all)\n",
    "    else:\n",
    "        model = Model(input_1, output_all)\n",
    "\n",
    "    print(model.summary())\n",
    "\n",
    "    @register_keras_serializable(package=\"Custom\", name=\"custom_loss\")\n",
    "    def custom_loss(y_true, y_pred):\n",
    "        # y_true is shape [n_batch, n_timesteps, n_keys+n_clicks+n_mouse_x+n_mouse_y+n_reward+n_advantage]\n",
    "        # where n_reward and n_advantage must =1\n",
    "        # y_pred is shape [n_batch, n_timesteps, n_keys+n_clicks+n_mouse_x+n_mouse_y+n_val]\n",
    "        # we'll use y_true to send in reward and eventually original advantage fn (or could recompute this?)\n",
    "        # wasd keys\n",
    "        loss1a = losses.binary_crossentropy(y_true[:,:,0:4], \n",
    "                                            y_pred[:,:,0:4])\n",
    "        # space key\n",
    "        loss1b = losses.binary_crossentropy(y_true[:,:,4:5], \n",
    "                                            y_pred[:,:,4:5])\n",
    "        # reload key\n",
    "        loss1c = losses.binary_crossentropy(y_true[:,:,n_keys-1:n_keys], \n",
    "                                            y_pred[:,:,n_keys-1:n_keys])\n",
    "\n",
    "        # weapon switches, 1,2,3\n",
    "        loss1d = losses.binary_crossentropy(y_true[:,:,n_keys-4:n_keys-1], \n",
    "                                            y_pred[:,:,n_keys-4:n_keys-1])\n",
    "\n",
    "        # all other keys\n",
    "        # loss1d = losses.binary_crossentropy(y_true[:,:,5:n_keys-1], \n",
    "        #                                     y_pred[:,:,5:n_keys-1])\n",
    "        # left click\n",
    "        loss2a = losses.binary_crossentropy(y_true[:,:,n_keys:n_keys+1], \n",
    "                                            y_pred[:,:,n_keys:n_keys+1])\n",
    "        # right click\n",
    "        loss2b = losses.binary_crossentropy(y_true[:,:,n_keys+1:n_keys+n_clicks], \n",
    "                                            y_pred[:,:,n_keys+1:n_keys+n_clicks])\n",
    "        # mouse move x\n",
    "        loss3 = losses.categorical_crossentropy(y_true[:,:,n_keys+n_clicks:n_keys+n_clicks+n_mouse_x], \n",
    "                                                y_pred[:,:,n_keys+n_clicks:n_keys+n_clicks+n_mouse_x])\n",
    "        # mouse move y\n",
    "        loss4 = losses.categorical_crossentropy(y_true[:,:,n_keys+n_clicks+n_mouse_x:n_keys+n_clicks+n_mouse_x+n_mouse_y], \n",
    "                                                y_pred[:,:,n_keys+n_clicks+n_mouse_x:n_keys+n_clicks+n_mouse_x+n_mouse_y])\n",
    "\n",
    "        # critic loss -- measuring between consecutive time steps\n",
    "        #  = ((reward_t + gamma  v_t+1) - v_t)^2\n",
    "        # can't really decide whether to use reward_t or reward_t+1, but guess it doesn't matter too much\n",
    "        loss_crit = 10*losses.MSE(y_true[:,:-1,n_keys+n_clicks+n_mouse_x+n_mouse_y:n_keys+n_clicks+n_mouse_x+n_mouse_y+1]\n",
    "                            + GAMMA*y_pred[:,1:,n_keys+n_clicks+n_mouse_x+n_mouse_y:n_keys+n_clicks+n_mouse_x+n_mouse_y+1]\n",
    "                            ,y_pred[:,:-1,n_keys+n_clicks+n_mouse_x+n_mouse_y:n_keys+n_clicks+n_mouse_x+n_mouse_y+1])\n",
    "\n",
    "        return K.concatenate([loss1a, loss1b, loss1c, loss2a, loss3, loss4, loss_crit])\n",
    "        # return K.concatenate([loss1a, loss2a, loss3, loss4])\n",
    "\n",
    "\n",
    "\n",
    "\n",
    "    # metrics for each part of interest - useful for debugging\n",
    "    @register_keras_serializable(package=\"Custom\", name=\"wasd_acc\")\n",
    "    def wasd_acc(y_true, y_pred):\n",
    "        return keras.metrics.binary_accuracy(y_true[:,:,0:4], y_pred[:,:,0:4])\n",
    "    @register_keras_serializable(package=\"Custom\", name=\"j_acc\")\n",
    "    def j_acc(y_true, y_pred): # other keys, space, ctrl, shift, 1,2,3, r\n",
    "        return keras.metrics.binary_accuracy(y_true[:,:,4:5], y_pred[:,:,4:5])\n",
    "    @register_keras_serializable(package=\"Custom\", name=\"oth_keys_acc\")\n",
    "    def oth_keys_acc(y_true, y_pred): # other keys, space, ctrl, shift, 1,2,3, r\n",
    "        return keras.metrics.binary_accuracy(y_true[:,:,5:n_keys], y_pred[:,:,5:n_keys])\n",
    "    @register_keras_serializable(package=\"Custom\", name=\"Lclk_acc\")\n",
    "    def Lclk_acc(y_true, y_pred):\n",
    "        return keras.metrics.binary_accuracy(y_true[:,:,n_keys:n_keys+1], y_pred[:,:,n_keys:n_keys+1],threshold=0.5)\n",
    "        # relative to proportion that don't fire \n",
    "        # return keras.metrics.binary_accuracy(y_true[:,n_keys:n_keys+1], y_pred[:,n_keys:n_keys+1],threshold=0.5) - (1 - keras.backend.mean(keras.backend.greater(y_true[:,n_keys:n_keys+1], 0.5)))\n",
    "    @register_keras_serializable(package=\"Custom\", name=\"Rclk_acc\")\n",
    "    def Rclk_acc(y_true, y_pred):\n",
    "        return keras.metrics.binary_accuracy(y_true[:,:,n_keys+1:n_keys+n_clicks], y_pred[:,:,n_keys+1:n_keys+n_clicks],threshold=0.5)\n",
    "    @register_keras_serializable(package=\"Custom\", name=\"m_x_acc\")\n",
    "    def m_x_acc(y_true, y_pred):\n",
    "        return keras.metrics.categorical_accuracy(y_true[:,:,n_keys+n_clicks:n_keys+n_clicks+n_mouse_x], \n",
    "                                                    y_pred[:,:,n_keys+n_clicks:n_keys+n_clicks+n_mouse_x])\n",
    "    @register_keras_serializable(package=\"Custom\", name=\"m_y_acc\")\n",
    "    def m_y_acc(y_true, y_pred):\n",
    "        return keras.metrics.categorical_accuracy(y_true[:,:,n_keys+n_clicks+n_mouse_x:n_keys+n_clicks+n_mouse_x+n_mouse_y], \n",
    "                                                    y_pred[:,:,n_keys+n_clicks+n_mouse_x:n_keys+n_clicks+n_mouse_x+n_mouse_y])\n",
    "\n",
    "    @register_keras_serializable(package=\"Custom\", name=\"crit_mse\")\n",
    "    def crit_mse(y_true, y_pred):\n",
    "        y_true = tf.cast(y_true, tf.float32)  # Cast to float32\n",
    "        y_pred = tf.cast(y_pred, tf.float32)  # Cast to float32\n",
    "        return 100*losses.MSE(y_true[:,:-1,n_keys+n_clicks+n_mouse_x+n_mouse_y:n_keys+n_clicks+n_mouse_x+n_mouse_y+1]\n",
    "                                                + GAMMA*y_pred[:,1:,n_keys+n_clicks+n_mouse_x+n_mouse_y:n_keys+n_clicks+n_mouse_x+n_mouse_y+1]\n",
    "                                                ,y_pred[:,:-1,n_keys+n_clicks+n_mouse_x+n_mouse_y:n_keys+n_clicks+n_mouse_x+n_mouse_y+1])\n",
    "\n",
    "    @register_keras_serializable(package=\"Custom\", name=\"w_1\")\n",
    "    def w_1(y_true, y_pred):\n",
    "        return keras.backend.mean(keras.backend.greater(y_true[:,:,0], 0.5))\n",
    "    @register_keras_serializable(package=\"Custom\", name=\"no_fire\")\n",
    "    def no_fire(y_true, y_pred):\n",
    "        return 1 - keras.backend.mean(keras.backend.greater(y_true[:,:,n_keys:n_keys+1], 0.5))\n",
    "    @register_keras_serializable(package=\"Custom\", name=\"m_x_0\")\n",
    "    def m_x_0(y_true, y_pred):\n",
    "        return keras.backend.mean(keras.backend.greater(y_true[:,:,n_keys+n_clicks+int(np.floor(n_mouse_x/2))], 0.5))\n",
    "    @register_keras_serializable(package=\"Custom\", name=\"m_y_0\")\n",
    "    def m_y_0(y_true, y_pred):\n",
    "        return keras.backend.mean(keras.backend.greater(y_true[:,:,n_keys+n_clicks+n_mouse_x+int(np.floor(n_mouse_y/2))], 0.5))\n",
    "\n",
    "    opt = optimizers.Adam(learning_rate=l_rate)\n",
    "    # model.compile(loss=custom_loss,optimizer=opt, metrics=[Lclk_acc,no_fire,m_x_acc,m_x_0,m_y_acc,m_y_0])\n",
    "    model.compile(loss=custom_loss,optimizer=opt, metrics=[Lclk_acc,no_fire,m_x_acc,m_y_acc,wasd_acc,crit_mse])\n",
    "    print('successfully compiled model')\n",
    "\n",
    "    "
   ]
  },
  {
   "cell_type": "code",
   "execution_count": 9,
   "metadata": {},
   "outputs": [],
   "source": [
    "N_JITTER = 20"
   ]
  },
  {
   "cell_type": "code",
   "execution_count": 10,
   "metadata": {},
   "outputs": [],
   "source": [
    "class DataGenerator(keras.utils.Sequence):\n",
    "# https://stanford.edu/~shervine/blog/keras-how-to-generate-data-on-the-fly\n",
    "    def __init__(self, list_IDs, batch_size=32, shuffle=True):\n",
    "        self.list_IDs = list_IDs\n",
    "        self.batch_size = batch_size\n",
    "        self.shuffle = shuffle\n",
    "        self.on_epoch_end() # run this once to start\n",
    "\n",
    "    def __len__(self):\n",
    "        # the number of batches per epoch - how many times are we calling this generator altogether\n",
    "        return int(np.floor(len(self.list_IDs) / self.batch_size))\n",
    "\n",
    "    def __getitem__(self, index):\n",
    "        # generate one batch of data, index is the batch number\n",
    "\n",
    "        # Generate indexes of the batch\n",
    "        indexes = self.indexes[index*self.batch_size:(index+1)*self.batch_size]\n",
    "\n",
    "        # Find list of IDs\n",
    "        list_IDs_temp = [self.list_IDs[k] for k in indexes]\n",
    "\n",
    "        X, y = self.__data_generation(list_IDs_temp)\n",
    "        return (X, y)\n",
    "\n",
    "    def on_epoch_end(self):\n",
    "        # updates indexes after each epoch\n",
    "        self.indexes = np.arange(len(self.list_IDs))\n",
    "        if self.shuffle == True:\n",
    "            np.random.shuffle(self.indexes)\n",
    "\n",
    "        # could do subsampling at this stage, by \n",
    "        # using ID in format 'filenum-framenum-containkillevent'\n",
    "\n",
    "    def __data_generation(self, list_IDs_temp):\n",
    "\n",
    "        # set up empty arrays to fill\n",
    "        x_shape = list(input_shape)\n",
    "        x_shape.insert(0,self.batch_size)\n",
    "        # y_shape = [self.batch_size,n_keys+n_clicks+n_mouse_x+n_mouse_y]\n",
    "        y_shape = [self.batch_size,N_TIMESTEPS,n_keys+n_clicks+n_mouse_x+n_mouse_y+1+1] # add 1 for reward, 1 for adv\n",
    "\n",
    "        X = np.empty(x_shape)\n",
    "        print(x.shape)\n",
    "        y = np.empty(y_shape)\n",
    "\n",
    "        for i, ID in enumerate(list_IDs_temp): \n",
    "            # print(i,end='\\r')\n",
    "            # ID is in format 'filenum-framenum'\n",
    "            ID = ID.split('-')\n",
    "            file_num = int(ID[0])\n",
    "            frame_num = int(ID[1])+np.random.randint(0,N_JITTER-1)\n",
    "            frame_num = np.minimum(frame_num,999-N_TIMESTEPS)\n",
    "            frame_num = np.maximum(frame_num,0)\n",
    "\n",
    "            # quicker way reading from hdf5\n",
    "            file_name = folder_name +'/'+file_name_stub + str(file_num) + '.hdf5'\n",
    "            h5file = h5py.File(file_name, 'r')\n",
    "\n",
    "            for j in range(N_TIMESTEPS):\n",
    "                X[i,j] = h5file['frame_'+str(frame_num+j)+'_x'][:] # /255\n",
    "                y[i,j,:-2] = h5file['frame_'+str(frame_num+j)+'_y'][:]\n",
    "\n",
    "                help_i = h5file['frame_'+str(frame_num+j)+'_helperarr'][:]\n",
    "                kill_i = help_i[0]\n",
    "                dead_i = help_i[1]\n",
    "                shoot_i = y[i,j,n_keys:n_keys+1] # all these are binary variables\n",
    "                reward_i = kill_i - 0.5*dead_i - 0.01*shoot_i # this is reward function\n",
    "                y[i,j,-2:] = ((reward_i[0]),0.) # 0. is a placeholder for original advantage\n",
    "\n",
    "                # for mouse, we're going to use a manual hack to remove most extreme 2 classes\n",
    "                if y[i,j,n_keys+n_clicks] == 1:\n",
    "                    y[i,j,n_keys+n_clicks] = 0\n",
    "                    y[i,j,n_keys+n_clicks+2] = 1\n",
    "                elif y[i,j,n_keys+n_clicks+1] == 1:\n",
    "                    y[i,j,n_keys+n_clicks+1] = 0\n",
    "                    y[i,j,n_keys+n_clicks+2] = 1\n",
    "                elif y[i,j,n_keys+n_clicks+n_mouse_x-1] == 1:\n",
    "                    y[i,j,n_keys+n_clicks+n_mouse_x-1] = 0\n",
    "                    y[i,j,n_keys+n_clicks+n_mouse_x-3] = 1\n",
    "                elif y[i,j,n_keys+n_clicks+n_mouse_x-2] == 1:\n",
    "                    y[i,j,n_keys+n_clicks+n_mouse_x-2] = 0\n",
    "                    y[i,j,n_keys+n_clicks+n_mouse_x-3] = 1\n",
    "\n",
    "                # same for mouse y as of 20 aug\n",
    "                if y[i,j,n_keys+n_clicks+n_mouse_x] == 1:\n",
    "                    y[i,j,n_keys+n_clicks+n_mouse_x] = 0\n",
    "                    y[i,j,n_keys+n_clicks+n_mouse_x+2] = 1\n",
    "                elif y[i,j,n_keys+n_clicks+n_mouse_x+1] == 1:\n",
    "                    y[i,j,n_keys+n_clicks+n_mouse_x+1] = 0\n",
    "                    y[i,j,n_keys+n_clicks+n_mouse_x+2] = 1\n",
    "                elif y[i,j,n_keys+n_clicks+n_mouse_x+n_mouse_y-1] == 1:\n",
    "                    y[i,j,n_keys+n_clicks+n_mouse_x+n_mouse_y-1] = 0\n",
    "                    y[i,j,n_keys+n_clicks+n_mouse_x+n_mouse_y-3] = 1\n",
    "                elif y[i,j,n_keys+n_clicks+n_mouse_x+n_mouse_y-2] == 1:\n",
    "                    y[i,j,n_keys+n_clicks+n_mouse_x+n_mouse_y-2] = 0\n",
    "                    y[i,j,n_keys+n_clicks+n_mouse_x+n_mouse_y-3] = 1\n",
    "\n",
    "            # add a manual hack here to make sure lclick is down  2 aug 2021\n",
    "            # this is because firing rate of guns is slower than frame rate\n",
    "            # yes I know should have done this at preprocessing stage...\n",
    "            for j in range(1,N_TIMESTEPS-1):\n",
    "                if y[i,j-1,n_keys:n_keys+1] == 1 and y[i,j+1,n_keys:n_keys+1] == 1:\n",
    "                    y[i,j,n_keys:n_keys+1] = 1\n",
    "\n",
    "            # 7 aug seem to need to fill in 1001 as well for spraying\n",
    "            for j in range(1,N_TIMESTEPS-2):\n",
    "                if y[i,j-1,n_keys:n_keys+1] == 1 and y[i,j+2,n_keys:n_keys+1] == 1:\n",
    "                    y[i,j,n_keys:n_keys+1] = 1\n",
    "                    y[i,j+1,n_keys:n_keys+1] = 1\n",
    "\n",
    "            # TODO, include x_aux\n",
    "\n",
    "            h5file.close()\n",
    "\n",
    "            # do data aug\n",
    "            # have the choice of mirroring image \n",
    "            # and accompanying mouse movement\n",
    "            # this seemed to work ok for aim mode, but not deathmatch\n",
    "            if IS_MIRROR:\n",
    "                if np.random.rand()<0.3:\n",
    "                    X[i] = np.flip(X[i],-2) # flip width dim\n",
    "                    # also need to flip mouse x movement\n",
    "                    y[i,:,n_keys+n_clicks:n_keys+n_clicks+n_mouse_x] = np.flip(y[i,:,n_keys+n_clicks:n_keys+n_clicks+n_mouse_x],axis=-1)\n",
    "                    # also must flip 'a' and 'd' keys\n",
    "                    akey = y[i,:,1]\n",
    "                    dkey = y[i,:,3]\n",
    "                    y[i,:,1] = dkey\n",
    "                    y[i,:,3] = akey\n",
    "            if True:\n",
    "                # brightness\n",
    "                if np.random.rand()<0.5: # was 0.2, raised to 0.5\n",
    "                    # adjust in range 0.7 to 1.1, <1 darkesns, >1 brightens\n",
    "                    bright = np.random.rand()*0.6+0.7\n",
    "                    X[i] *= bright\n",
    "                    X[i] = np.clip(X[i],0,255).astype(int)\n",
    "\n",
    "                # contrast\n",
    "                # follow https://stackoverflow.com/questions/49142561/change-contrast-in-numpy/49142934\n",
    "                if np.random.rand()<0.5:\n",
    "                    contrast = np.random.rand()*0.6+0.7\n",
    "                    X[i] = np.clip(128 + contrast * X[i] - contrast * 128, 0, 255).astype(int)\n",
    "\n",
    "        return (X, y)"
   ]
  },
  {
   "cell_type": "code",
   "execution_count": 11,
   "metadata": {},
   "outputs": [
    {
     "name": "stdout",
     "output_type": "stream",
     "text": [
      "['1-0', '1-32', '1-64', '1-96', '1-128', '1-160', '1-192', '1-224', '1-256', '1-288', '1-320', '1-352', '1-384', '1-416', '1-448', '1-480', '1-512', '1-544', '1-576', '1-608', '1-640', '1-672', '1-704', '1-736', '1-768', '1-800', '1-832', '1-864', '1-896', '1-928', '2-0', '2-32', '2-64', '2-96', '2-128', '2-160', '2-192', '2-224', '2-256', '2-288', '2-320', '2-352', '2-384', '2-416', '2-448', '2-480', '2-512', '2-544', '2-576', '2-608', '2-640', '2-672', '2-704', '2-736', '2-768', '2-800', '2-832', '2-864', '2-896', '2-928', '3-0', '3-32', '3-64', '3-96', '3-128', '3-160', '3-192', '3-224', '3-256', '3-288', '3-320', '3-352', '3-384', '3-416', '3-448', '3-480', '3-512', '3-544', '3-576', '3-608', '3-640', '3-672', '3-704', '3-736', '3-768', '3-800', '3-832', '3-864', '3-896', '3-928', '4-0', '4-32', '4-64', '4-96', '4-128', '4-160', '4-192', '4-224', '4-256', '4-288', '4-320', '4-352', '4-384', '4-416', '4-448', '4-480', '4-512', '4-544', '4-576', '4-608', '4-640', '4-672', '4-704', '4-736', '4-768', '4-800', '4-832', '4-864', '4-896', '4-928', '5-0', '5-32', '5-64', '5-96', '5-128', '5-160', '5-192', '5-224', '5-256', '5-288', '5-320', '5-352', '5-384', '5-416', '5-448', '5-480', '5-512', '5-544', '5-576', '5-608', '5-640', '5-672', '5-704', '5-736', '5-768', '5-800', '5-832', '5-864', '5-896', '5-928', '6-0', '6-32', '6-64', '6-96', '6-128', '6-160', '6-192', '6-224', '6-256', '6-288', '6-320', '6-352', '6-384', '6-416', '6-448', '6-480', '6-512', '6-544', '6-576', '6-608', '6-640', '6-672', '6-704', '6-736', '6-768', '6-800', '6-832', '6-864', '6-896', '6-928', '7-0', '7-32', '7-64', '7-96', '7-128', '7-160', '7-192', '7-224', '7-256', '7-288', '7-320', '7-352', '7-384', '7-416', '7-448', '7-480', '7-512', '7-544', '7-576', '7-608', '7-640', '7-672', '7-704', '7-736', '7-768', '7-800', '7-832', '7-864', '7-896', '7-928', '8-0', '8-32', '8-64', '8-96', '8-128', '8-160', '8-192', '8-224', '8-256', '8-288', '8-320', '8-352', '8-384', '8-416', '8-448', '8-480', '8-512', '8-544', '8-576', '8-608', '8-640', '8-672', '8-704', '8-736', '8-768', '8-800', '8-832', '8-864', '8-896', '8-928', '9-0', '9-32', '9-64', '9-96', '9-128', '9-160', '9-192', '9-224', '9-256', '9-288', '9-320', '9-352', '9-384', '9-416', '9-448', '9-480', '9-512', '9-544', '9-576', '9-608', '9-640', '9-672', '9-704', '9-736', '9-768', '9-800', '9-832', '9-864', '9-896', '9-928', '10-0', '10-32', '10-64', '10-96', '10-128', '10-160', '10-192', '10-224', '10-256', '10-288', '10-320', '10-352', '10-384', '10-416', '10-448', '10-480', '10-512', '10-544', '10-576', '10-608', '10-640', '10-672', '10-704', '10-736', '10-768', '10-800', '10-832', '10-864', '10-896', '10-928']\n"
     ]
    }
   ],
   "source": [
    "data_list1 = [str(x1)+'-'+str(x2) for x1 in np.arange(starting_num,highest_num+1) for x2 in np.arange(0,1000-N_TIMESTEPS-int(N_JITTER),N_TIMESTEPS)]\n",
    "print(data_list1)\n",
    "data_list2 = [str(x1)+'-'+str(x2) for x1 in np.arange(starting_num,highest_num+1) for x2 in np.arange(0,1000-N_TIMESTEPS-int(N_JITTER),N_TIMESTEPS)]\n",
    "data_list3 = [str(x1)+'-'+str(x2) for x1 in np.arange(starting_num,highest_num+1) for x2 in np.arange(0,1000-N_TIMESTEPS-int(N_JITTER),N_TIMESTEPS)]\n",
    "data_list4 = [str(x1)+'-'+str(x2) for x1 in np.arange(starting_num,highest_num+1) for x2 in np.arange(0,1000-N_TIMESTEPS-int(N_JITTER),N_TIMESTEPS)]\n",
    "data_list_full = [str(x1)+'-'+str(x2) for x1 in np.arange(starting_num,highest_num+1) for x2 in np.arange(0,1000-N_TIMESTEPS-int(N_JITTER),N_TIMESTEPS)]"
   ]
  },
  {
   "cell_type": "code",
   "execution_count": 12,
   "metadata": {},
   "outputs": [
    {
     "name": "stdout",
     "output_type": "stream",
     "text": [
      "data_list1 training on sequences:  300\n",
      "data_list1 training on frames:  9600\n",
      "data_list2 training on sequences:  300\n",
      "data_list2 training on frames:  9600\n",
      "data_list3 training on sequences:  300\n",
      "data_list3 training on frames:  9600\n",
      "data_list4 training on sequences:  300\n",
      "data_list4 training on frames:  9600\n"
     ]
    }
   ],
   "source": [
    "\n",
    "print('data_list1 training on sequences: ',len(data_list1))\n",
    "print('data_list1 training on frames: ',len(data_list1*N_TIMESTEPS))\n",
    "\n",
    "print('data_list2 training on sequences: ',len(data_list2))\n",
    "print('data_list2 training on frames: ',len(data_list2*N_TIMESTEPS))\n",
    "\n",
    "print('data_list3 training on sequences: ',len(data_list3))\n",
    "print('data_list3 training on frames: ',len(data_list3*N_TIMESTEPS))\n",
    "\n",
    "print('data_list4 training on sequences: ',len(data_list4))\n",
    "print('data_list4 training on frames: ',len(data_list4*N_TIMESTEPS))\n",
    "\n",
    "\n",
    "np.random.shuffle(data_list1) # shuffle it (in place)\n",
    "partition1 = {}\n",
    "partition1['train'] = data_list1[:int(len(data_list1)*1.)]\n",
    "partition1['validation'] = data_list1[int(len(data_list1)*0.995):]\n",
    "\n",
    "np.random.shuffle(data_list2) # shuffle it (in place)\n",
    "partition2 = {}\n",
    "partition2['train'] = data_list2[:int(len(data_list2)*1.)]\n",
    "partition2['validation'] = data_list2[int(len(data_list2)*0.995):]\n",
    "\n",
    "np.random.shuffle(data_list3) # shuffle it (in place)\n",
    "partition3 = {}\n",
    "partition3['train'] = data_list3[:int(len(data_list3)*1.)]\n",
    "partition3['validation'] = data_list3[int(len(data_list3)*0.995):]\n",
    "\n",
    "np.random.shuffle(data_list4) # shuffle it (in place)\n",
    "partition4 = {}\n",
    "partition4['train'] = data_list4[:int(len(data_list4)*1.)]\n",
    "partition4['validation'] = data_list4[int(len(data_list4)*0.995):]\n",
    "\n",
    "# this is not subsampled\n",
    "partition_full = {}\n",
    "partition_full['tmp'] = data_list_full[:int(batch_size*2)]\n",
    "partition_full['train_full'] = data_list_full[:int(len(data_list_full)*1.)]\n",
    "partition_full['validation_full'] = data_list_full[int(len(data_list_full)*0.995):]\n"
   ]
  },
  {
   "cell_type": "code",
   "execution_count": 13,
   "metadata": {},
   "outputs": [],
   "source": [
    "# training_generator1 = data_generation_self_made(partition1['train'], batch_size=batch_size, shuffle=True)\n",
    "# validation_generator1 = data_generation_self_made(partition1['validation'], batch_size=batch_size, shuffle=True)"
   ]
  },
  {
   "cell_type": "code",
   "execution_count": 14,
   "metadata": {},
   "outputs": [],
   "source": [
    "training_generator1 = DataGenerator(list_IDs=partition1['train'], batch_size=batch_size, shuffle=True)\n",
    "validation_generator1 = DataGenerator(list_IDs=partition1['validation'], batch_size=batch_size, shuffle=True)\n",
    "\n",
    "training_generator2 = DataGenerator(list_IDs=partition2['train'], batch_size=batch_size, shuffle=True)\n",
    "validation_generator2 = DataGenerator(list_IDs=partition2['validation'], batch_size=batch_size, shuffle=True)\n",
    "\n",
    "training_generator3 = DataGenerator(list_IDs=partition3['train'], batch_size=batch_size, shuffle=True)\n",
    "validation_generator3 = DataGenerator(list_IDs=partition3['validation'], batch_size=batch_size, shuffle=True)\n",
    "\n",
    "training_generator4 = DataGenerator(list_IDs=partition4['train'], batch_size=batch_size, shuffle=True)\n",
    "validation_generator4 = DataGenerator(list_IDs=partition4['validation'], batch_size=batch_size, shuffle=True)\n",
    "\n",
    "tmp_generator = DataGenerator(list_IDs=partition_full['tmp'], batch_size=batch_size, shuffle=True)\n",
    "training_generator_full = DataGenerator(list_IDs=partition_full['train_full'], batch_size=batch_size, shuffle=True)\n",
    "validation_generator_full = DataGenerator(list_IDs=partition_full['validation_full'], batch_size=batch_size, shuffle=True)"
   ]
  },
  {
   "cell_type": "code",
   "execution_count": 15,
   "metadata": {},
   "outputs": [
    {
     "ename": "NameError",
     "evalue": "name 'x' is not defined",
     "output_type": "error",
     "traceback": [
      "\u001b[0;31m---------------------------------------------------------------------------\u001b[0m",
      "\u001b[0;31mNameError\u001b[0m                                 Traceback (most recent call last)",
      "Cell \u001b[0;32mIn[15], line 1\u001b[0m\n\u001b[0;32m----> 1\u001b[0m \u001b[43mtraining_generator1\u001b[49m\u001b[43m[\u001b[49m\u001b[38;5;241;43m0\u001b[39;49m\u001b[43m]\u001b[49m\n",
      "Cell \u001b[0;32mIn[10], line 22\u001b[0m, in \u001b[0;36mDataGenerator.__getitem__\u001b[0;34m(self, index)\u001b[0m\n\u001b[1;32m     19\u001b[0m \u001b[38;5;66;03m# Find list of IDs\u001b[39;00m\n\u001b[1;32m     20\u001b[0m list_IDs_temp \u001b[38;5;241m=\u001b[39m [\u001b[38;5;28mself\u001b[39m\u001b[38;5;241m.\u001b[39mlist_IDs[k] \u001b[38;5;28;01mfor\u001b[39;00m k \u001b[38;5;129;01min\u001b[39;00m indexes]\n\u001b[0;32m---> 22\u001b[0m X, y \u001b[38;5;241m=\u001b[39m \u001b[38;5;28;43mself\u001b[39;49m\u001b[38;5;241;43m.\u001b[39;49m\u001b[43m__data_generation\u001b[49m\u001b[43m(\u001b[49m\u001b[43mlist_IDs_temp\u001b[49m\u001b[43m)\u001b[49m\n\u001b[1;32m     23\u001b[0m \u001b[38;5;28;01mreturn\u001b[39;00m (X, y)\n",
      "Cell \u001b[0;32mIn[10], line 43\u001b[0m, in \u001b[0;36mDataGenerator.__data_generation\u001b[0;34m(self, list_IDs_temp)\u001b[0m\n\u001b[1;32m     40\u001b[0m y_shape \u001b[38;5;241m=\u001b[39m [\u001b[38;5;28mself\u001b[39m\u001b[38;5;241m.\u001b[39mbatch_size,N_TIMESTEPS,n_keys\u001b[38;5;241m+\u001b[39mn_clicks\u001b[38;5;241m+\u001b[39mn_mouse_x\u001b[38;5;241m+\u001b[39mn_mouse_y\u001b[38;5;241m+\u001b[39m\u001b[38;5;241m1\u001b[39m\u001b[38;5;241m+\u001b[39m\u001b[38;5;241m1\u001b[39m] \u001b[38;5;66;03m# add 1 for reward, 1 for adv\u001b[39;00m\n\u001b[1;32m     42\u001b[0m X \u001b[38;5;241m=\u001b[39m np\u001b[38;5;241m.\u001b[39mempty(x_shape)\n\u001b[0;32m---> 43\u001b[0m \u001b[38;5;28mprint\u001b[39m(\u001b[43mx\u001b[49m\u001b[38;5;241m.\u001b[39mshape)\n\u001b[1;32m     44\u001b[0m y \u001b[38;5;241m=\u001b[39m np\u001b[38;5;241m.\u001b[39mempty(y_shape)\n\u001b[1;32m     46\u001b[0m \u001b[38;5;28;01mfor\u001b[39;00m i, ID \u001b[38;5;129;01min\u001b[39;00m \u001b[38;5;28menumerate\u001b[39m(list_IDs_temp): \n\u001b[1;32m     47\u001b[0m     \u001b[38;5;66;03m# print(i,end='\\r')\u001b[39;00m\n\u001b[1;32m     48\u001b[0m     \u001b[38;5;66;03m# ID is in format 'filenum-framenum'\u001b[39;00m\n",
      "\u001b[0;31mNameError\u001b[0m: name 'x' is not defined"
     ]
    }
   ],
   "source": [
    "training_generator1[0]"
   ]
  },
  {
   "cell_type": "code",
   "execution_count": 16,
   "metadata": {},
   "outputs": [],
   "source": [
    "# hist = model.fit(training_generator1,epochs=1,verbose=1)"
   ]
  },
  {
   "cell_type": "code",
   "execution_count": 17,
   "metadata": {},
   "outputs": [],
   "source": [
    "# hist = model.fit(training_generator1,epochs=1,verbose=1)"
   ]
  },
  {
   "cell_type": "code",
   "execution_count": 2,
   "metadata": {},
   "outputs": [],
   "source": [
    "import os\n",
    "import pickle\n",
    "from tensorflow.keras.models import model_from_json\n",
    "from tensorflow.keras.optimizers import Optimizer\n",
    "\n",
    "def tp_save_model(model, save_dir, model_name):\n",
    "    # Create directory if it doesn't exist\n",
    "    if not os.path.isdir(save_dir):\n",
    "        os.makedirs(save_dir)\n",
    "\n",
    "    # Save model architecture to JSON\n",
    "    model_json = model.to_json()\n",
    "    model_path = os.path.join(save_dir, model_name + '.json')\n",
    "    with open(model_path, 'w') as json_file:\n",
    "        json_file.write(model_json)\n",
    "    print('Saved model architecture to', model_path)\n",
    "\n",
    "    # Save weights to HDF5 with updated naming convention\n",
    "    weights_path = os.path.join(save_dir, model_name + '.weights.h5')\n",
    "    model.save_weights(weights_path)\n",
    "    print('Saved weights to', weights_path)\n",
    "\n",
    "    # Save optimizer state\n",
    "    optimizer_weights = getattr(model.optimizer, 'weights', [])\n",
    "    optimizer_path = os.path.join(save_dir, model_name + '_opt.pkl')\n",
    "    with open(optimizer_path, 'wb') as opt_file:\n",
    "        pickle.dump(optimizer_weights, opt_file)\n",
    "    print('Saved optimizer state to', optimizer_path)\n",
    "\n",
    "    # Save hyperparameters\n",
    "    hypers = {\n",
    "        'csgo_img_dimension': csgo_img_dimension,\n",
    "        'csgo_game_res': csgo_game_res,\n",
    "        'FRAMES_STACK': FRAMES_STACK,\n",
    "        'N_TIMESTEPS': N_TIMESTEPS,\n",
    "        'FRAMES_SKIP': FRAMES_SKIP,\n",
    "        'ACTIONS_PREV': ACTIONS_PREV,\n",
    "        'AUX_INPUT_ON': AUX_INPUT_ON,\n",
    "        'mouse_x_possibles': mouse_x_possibles,\n",
    "        'mouse_y_possibles': mouse_y_possibles,\n",
    "        'n_keys': n_keys,\n",
    "        'n_clicks': n_clicks,\n",
    "        'n_extras': n_extras,\n",
    "        'aux_input_length': aux_input_length,\n",
    "    }\n",
    "    hypers_path = os.path.join(save_dir, model_name + '_hypers.pkl')\n",
    "    with open(hypers_path, 'wb') as hypers_file:\n",
    "        pickle.dump(hypers, hypers_file)\n",
    "    print('Saved hyperparameters to', hypers_path)\n",
    "\n",
    "    return\n",
    "\n",
    "\n",
    "def tp_load_model(save_dir, model_name):\n",
    "\n",
    "    # Load model architecture from JSON\n",
    "    model_path = os.path.join(save_dir, model_name + '.json')\n",
    "    if not os.path.exists(model_path):\n",
    "        raise FileNotFoundError(f\"Model JSON file not found: {model_path}\")\n",
    "    with open(model_path, 'r') as json_file:\n",
    "        model_json = json_file.read()\n",
    "\n",
    "    # Add all custom functions and metrics here\n",
    "    custom_objects = {\n",
    "        \"custom_loss\": custom_loss,\n",
    "        \"wasd_acc\": wasd_acc,\n",
    "        \"j_acc\": j_acc,\n",
    "        \"oth_keys_acc\": oth_keys_acc,\n",
    "        \"Lclk_acc\": Lclk_acc,\n",
    "        \"Rclk_acc\": Rclk_acc,\n",
    "        \"m_x_acc\": m_x_acc,\n",
    "        \"m_y_acc\": m_y_acc,\n",
    "        \"crit_mse\": crit_mse,\n",
    "        \"w_1\": w_1,\n",
    "        \"no_fire\": no_fire,\n",
    "        \"m_x_0\": m_x_0,\n",
    "        \"m_y_0\": m_y_0,\n",
    "    }\n",
    "\n",
    "    # Load the model with custom objects\n",
    "    model = model_from_json(model_json, custom_objects=custom_objects)\n",
    "    print('Loaded model architecture from', model_path)\n",
    "\n",
    "    # Load weights from HDF5\n",
    "    weights_path = os.path.join(save_dir, model_name + '.weights.h5')\n",
    "    if not os.path.exists(weights_path):\n",
    "        raise FileNotFoundError(f\"Model weights file not found: {weights_path}\")\n",
    "    model.load_weights(weights_path)\n",
    "    print('Loaded weights from', weights_path)\n",
    "\n",
    "    return model\n"
   ]
  },
  {
   "cell_type": "code",
   "execution_count": 19,
   "metadata": {},
   "outputs": [
    {
     "data": {
      "text/plain": [
       "(300, 2)"
      ]
     },
     "execution_count": 19,
     "metadata": {},
     "output_type": "execute_result"
    }
   ],
   "source": [
    "len(training_generator1), len(validation_generator1)"
   ]
  },
  {
   "cell_type": "code",
   "execution_count": 20,
   "metadata": {},
   "outputs": [
    {
     "name": "stderr",
     "output_type": "stream",
     "text": [
      "/home/tuan/.pyenv/versions/3.12.0/lib/python3.12/site-packages/keras/src/trainers/data_adapters/py_dataset_adapter.py:121: UserWarning: Your `PyDataset` class should call `super().__init__(**kwargs)` in its constructor. `**kwargs` can include `workers`, `use_multiprocessing`, `max_queue_size`. Do not pass these arguments to `fit()`, as they will be ignored.\n",
      "  self._warn_if_super_not_called()\n"
     ]
    },
    {
     "name": "stdout",
     "output_type": "stream",
     "text": [
      "(None, 32, 49152)\n",
      "(None, 32, 49152)\n",
      "(None, 32, 49152)\n",
      "(None, 32, 49152)\n",
      "(None, 32, 49152)\n",
      "(None, 32, 49152)\n",
      "(None, 32, 49152)\n"
     ]
    },
    {
     "name": "stderr",
     "output_type": "stream",
     "text": [
      "E0000 00:00:1732386067.812690   54641 meta_optimizer.cc:966] layout failed: INVALID_ARGUMENT: Size of values 0 does not match size of permutation 4 @ fanin shape inStatefulPartitionedCall/functional_1_1/time_distributed_1/block2b_drop_63/stateless_dropout/SelectV2-2-TransposeNHWCToNCHW-LayoutOptimizer\n"
     ]
    },
    {
     "name": "stdout",
     "output_type": "stream",
     "text": [
      "(None, 32, 49152)\n",
      "(None, 32, 49152)\n"
     ]
    },
    {
     "name": "stderr",
     "output_type": "stream",
     "text": [
      "I0000 00:00:1732386122.133541   54736 cuda_dnn.cc:529] Loaded cuDNN version 90300\n"
     ]
    },
    {
     "name": "stdout",
     "output_type": "stream",
     "text": [
      "(None, 32, 49152)\n",
      "(None, 32, 49152)\n",
      "(None, 32, 49152)\n",
      "(None, 32, 49152)\n",
      "\u001b[1m  1/300\u001b[0m \u001b[37m━━━━━━━━━━━━━━━━━━━━\u001b[0m \u001b[1m12:18:22\u001b[0m 148s/step - crit_mse: 4.4160 - lclk_acc: 0.4375 - loss: 1.3988 - m_x_acc: 0.0000e+00 - m_y_acc: 0.0312 - no_fire: 0.6875 - wasd_acc: 0.4062(None, 32, 49152)\n",
      "\u001b[1m  2/300\u001b[0m \u001b[37m━━━━━━━━━━━━━━━━━━━━\u001b[0m \u001b[1m7:27\u001b[0m 2s/step - crit_mse: 7.1776 - lclk_acc: 0.4375 - loss: 1.4118 - m_x_acc: 0.0000e+00 - m_y_acc: 0.0703 - no_fire: 0.5156 - wasd_acc: 0.4453      (None, 32, 49152)\n",
      "\u001b[1m  3/300\u001b[0m \u001b[37m━━━━━━━━━━━━━━━━━━━━\u001b[0m \u001b[1m7:37\u001b[0m 2s/step - crit_mse: 8.2955 - lclk_acc: 0.4722 - loss: 1.4092 - m_x_acc: 0.0000e+00 - m_y_acc: 0.0747 - no_fire: 0.4201 - wasd_acc: 0.4696(None, 32, 49152)\n",
      "\u001b[1m  4/300\u001b[0m \u001b[37m━━━━━━━━━━━━━━━━━━━━\u001b[0m \u001b[1m7:26\u001b[0m 2s/step - crit_mse: 8.8137 - lclk_acc: 0.5007 - loss: 1.4004 - m_x_acc: 0.0039 - m_y_acc: 0.0794 - no_fire: 0.3581 - wasd_acc: 0.4909    (None, 32, 49152)\n",
      "\u001b[1m  5/300\u001b[0m \u001b[37m━━━━━━━━━━━━━━━━━━━━\u001b[0m \u001b[1m7:17\u001b[0m 1s/step - crit_mse: 9.3063 - lclk_acc: 0.5168 - loss: 1.3948 - m_x_acc: 0.0106 - m_y_acc: 0.0835 - no_fire: 0.3140 - wasd_acc: 0.5052(None, 32, 49152)\n",
      "\u001b[1m  6/300\u001b[0m \u001b[37m━━━━━━━━━━━━━━━━━━━━\u001b[0m \u001b[1m7:24\u001b[0m 2s/step - crit_mse: 9.5069 - lclk_acc: 0.5357 - loss: 1.3864 - m_x_acc: 0.0149 - m_y_acc: 0.0861 - no_fire: 0.2807 - wasd_acc: 0.5174(None, 32, 49152)\n",
      "\u001b[1m  7/300\u001b[0m \u001b[37m━━━━━━━━━━━━━━━━━━━━\u001b[0m \u001b[1m7:22\u001b[0m 2s/step - crit_mse: 9.6093 - lclk_acc: 0.5427 - loss: 1.3780 - m_x_acc: 0.0173 - m_y_acc: 0.0885 - no_fire: 0.2680 - wasd_acc: 0.5310(None, 32, 49152)\n",
      "\u001b[1m  8/300\u001b[0m \u001b[37m━━━━━━━━━━━━━━━━━━━━\u001b[0m \u001b[1m7:24\u001b[0m 2s/step - crit_mse: 9.7693 - lclk_acc: 0.5486 - loss: 1.3697 - m_x_acc: 0.0205 - m_y_acc: 0.0984 - no_fire: 0.2604 - wasd_acc: 0.5454(None, 32, 49152)\n",
      "\u001b[1m  9/300\u001b[0m \u001b[37m━━━━━━━━━━━━━━━━━━━━\u001b[0m \u001b[1m7:19\u001b[0m 2s/step - crit_mse: 9.9023 - lclk_acc: 0.5509 - loss: 1.3613 - m_x_acc: 0.0240 - m_y_acc: 0.1087 - no_fire: 0.2585 - wasd_acc: 0.5600(None, 32, 49152)\n",
      "\u001b[1m 10/300\u001b[0m \u001b[37m━━━━━━━━━━━━━━━━━━━━\u001b[0m \u001b[1m7:24\u001b[0m 2s/step - crit_mse: 10.1377 - lclk_acc: 0.5564 - loss: 1.3559 - m_x_acc: 0.0266 - m_y_acc: 0.1163 - no_fire: 0.2545 - wasd_acc: 0.5722(None, 32, 49152)\n",
      "\u001b[1m 11/300\u001b[0m \u001b[37m━━━━━━━━━━━━━━━━━━━━\u001b[0m \u001b[1m7:21\u001b[0m 2s/step - crit_mse: 10.3112 - lclk_acc: 0.5588 - loss: 1.3483 - m_x_acc: 0.0301 - m_y_acc: 0.1287 - no_fire: 0.2549 - wasd_acc: 0.5846(None, 32, 49152)\n",
      "\u001b[1m 12/300\u001b[0m \u001b[37m━━━━━━━━━━━━━━━━━━━━\u001b[0m \u001b[1m7:18\u001b[0m 2s/step - crit_mse: 10.4275 - lclk_acc: 0.5637 - loss: 1.3395 - m_x_acc: 0.0332 - m_y_acc: 0.1442 - no_fire: 0.2534 - wasd_acc: 0.5949(None, 32, 49152)\n",
      "\u001b[1m 13/300\u001b[0m \u001b[37m━━━━━━━━━━━━━━━━━━━━\u001b[0m \u001b[1m7:17\u001b[0m 2s/step - crit_mse: 10.5414 - lclk_acc: 0.5669 - loss: 1.3311 - m_x_acc: 0.0386 - m_y_acc: 0.1588 - no_fire: 0.2539 - wasd_acc: 0.6049(None, 32, 49152)\n",
      "\u001b[1m 14/300\u001b[0m \u001b[37m━━━━━━━━━━━━━━━━━━━━\u001b[0m \u001b[1m7:15\u001b[0m 2s/step - crit_mse: 10.6377 - lclk_acc: 0.5717 - loss: 1.3227 - m_x_acc: 0.0427 - m_y_acc: 0.1747 - no_fire: 0.2530 - wasd_acc: 0.6130(None, 32, 49152)\n",
      "\u001b[1m 15/300\u001b[0m \u001b[32m━\u001b[0m\u001b[37m━━━━━━━━━━━━━━━━━━━\u001b[0m \u001b[1m7:15\u001b[0m 2s/step - crit_mse: 10.7233 - lclk_acc: 0.5775 - loss: 1.3139 - m_x_acc: 0.0478 - m_y_acc: 0.1907 - no_fire: 0.2511 - wasd_acc: 0.6201(None, 32, 49152)\n",
      "\u001b[1m 16/300\u001b[0m \u001b[32m━\u001b[0m\u001b[37m━━━━━━━━━━━━━━━━━━━\u001b[0m \u001b[1m7:12\u001b[0m 2s/step - crit_mse: 10.8122 - lclk_acc: 0.5836 - loss: 1.3051 - m_x_acc: 0.0526 - m_y_acc: 0.2069 - no_fire: 0.2486 - wasd_acc: 0.6261(None, 32, 49152)\n",
      "\u001b[1m 17/300\u001b[0m \u001b[32m━\u001b[0m\u001b[37m━━━━━━━━━━━━━━━━━━━\u001b[0m \u001b[1m7:08\u001b[0m 2s/step - crit_mse: 10.8596 - lclk_acc: 0.5881 - loss: 1.2956 - m_x_acc: 0.0588 - m_y_acc: 0.2231 - no_fire: 0.2477 - wasd_acc: 0.6323(None, 32, 49152)\n",
      "\u001b[1m 18/300\u001b[0m \u001b[32m━\u001b[0m\u001b[37m━━━━━━━━━━━━━━━━━━━\u001b[0m \u001b[1m7:04\u001b[0m 2s/step - crit_mse: 10.9137 - lclk_acc: 0.5931 - loss: 1.2871 - m_x_acc: 0.0641 - m_y_acc: 0.2375 - no_fire: 0.2462 - wasd_acc: 0.6379(None, 32, 49152)\n",
      "\u001b[1m 19/300\u001b[0m \u001b[32m━\u001b[0m\u001b[37m━━━━━━━━━━━━━━━━━━━\u001b[0m \u001b[1m7:02\u001b[0m 2s/step - crit_mse: 10.9681 - lclk_acc: 0.5985 - loss: 1.2798 - m_x_acc: 0.0686 - m_y_acc: 0.2494 - no_fire: 0.2442 - wasd_acc: 0.6431(None, 32, 49152)\n",
      "\u001b[1m 20/300\u001b[0m \u001b[32m━\u001b[0m\u001b[37m━━━━━━━━━━━━━━━━━━━\u001b[0m \u001b[1m7:04\u001b[0m 2s/step - crit_mse: 11.0102 - lclk_acc: 0.6042 - loss: 1.2728 - m_x_acc: 0.0731 - m_y_acc: 0.2601 - no_fire: 0.2419 - wasd_acc: 0.6477(None, 32, 49152)\n",
      "\u001b[1m 21/300\u001b[0m \u001b[32m━\u001b[0m\u001b[37m━━━━━━━━━━━━━━━━━━━\u001b[0m \u001b[1m7:02\u001b[0m 2s/step - crit_mse: 11.0555 - lclk_acc: 0.6099 - loss: 1.2666 - m_x_acc: 0.0770 - m_y_acc: 0.2693 - no_fire: 0.2394 - wasd_acc: 0.6520(None, 32, 49152)\n",
      "\u001b[1m 22/300\u001b[0m \u001b[32m━\u001b[0m\u001b[37m━━━━━━━━━━━━━━━━━━━\u001b[0m \u001b[1m7:00\u001b[0m 2s/step - crit_mse: 11.0951 - lclk_acc: 0.6157 - loss: 1.2611 - m_x_acc: 0.0805 - m_y_acc: 0.2772 - no_fire: 0.2367 - wasd_acc: 0.6560(None, 32, 49152)\n",
      "\u001b[1m 23/300\u001b[0m \u001b[32m━\u001b[0m\u001b[37m━━━━━━━━━━━━━━━━━━━\u001b[0m \u001b[1m6:58\u001b[0m 2s/step - crit_mse: 11.1401 - lclk_acc: 0.6215 - loss: 1.2563 - m_x_acc: 0.0837 - m_y_acc: 0.2839 - no_fire: 0.2339 - wasd_acc: 0.6598(None, 32, 49152)\n",
      "\u001b[1m 24/300\u001b[0m \u001b[32m━\u001b[0m\u001b[37m━━━━━━━━━━━━━━━━━━━\u001b[0m \u001b[1m6:56\u001b[0m 2s/step - crit_mse: 11.1744 - lclk_acc: 0.6272 - loss: 1.2519 - m_x_acc: 0.0865 - m_y_acc: 0.2896 - no_fire: 0.2311 - wasd_acc: 0.6635(None, 32, 49152)\n",
      "\u001b[1m 25/300\u001b[0m \u001b[32m━\u001b[0m\u001b[37m━━━━━━━━━━━━━━━━━━━\u001b[0m \u001b[1m6:55\u001b[0m 2s/step - crit_mse: 11.2084 - lclk_acc: 0.6329 - loss: 1.2479 - m_x_acc: 0.0890 - m_y_acc: 0.2946 - no_fire: 0.2282 - wasd_acc: 0.6667(None, 32, 49152)\n",
      "\u001b[1m 26/300\u001b[0m \u001b[32m━\u001b[0m\u001b[37m━━━━━━━━━━━━━━━━━━━\u001b[0m \u001b[1m6:54\u001b[0m 2s/step - crit_mse: 11.2356 - lclk_acc: 0.6384 - loss: 1.2440 - m_x_acc: 0.0917 - m_y_acc: 0.2992 - no_fire: 0.2253 - wasd_acc: 0.6696(None, 32, 49152)\n",
      "\u001b[1m 27/300\u001b[0m \u001b[32m━\u001b[0m\u001b[37m━━━━━━━━━━━━━━━━━━━\u001b[0m \u001b[1m6:52\u001b[0m 2s/step - crit_mse: 11.2551 - lclk_acc: 0.6439 - loss: 1.2399 - m_x_acc: 0.0942 - m_y_acc: 0.3039 - no_fire: 0.2224 - wasd_acc: 0.6724(None, 32, 49152)\n",
      "\u001b[1m 28/300\u001b[0m \u001b[32m━\u001b[0m\u001b[37m━━━━━━━━━━━━━━━━━━━\u001b[0m \u001b[1m6:50\u001b[0m 2s/step - crit_mse: 11.2663 - lclk_acc: 0.6492 - loss: 1.2359 - m_x_acc: 0.0965 - m_y_acc: 0.3082 - no_fire: 0.2195 - wasd_acc: 0.6752(None, 32, 49152)\n",
      "\u001b[1m 29/300\u001b[0m \u001b[32m━\u001b[0m\u001b[37m━━━━━━━━━━━━━━━━━━━\u001b[0m \u001b[1m6:48\u001b[0m 2s/step - crit_mse: 11.2812 - lclk_acc: 0.6545 - loss: 1.2320 - m_x_acc: 0.0988 - m_y_acc: 0.3119 - no_fire: 0.2166 - wasd_acc: 0.6780(None, 32, 49152)\n",
      "\u001b[1m 30/300\u001b[0m \u001b[32m━━\u001b[0m\u001b[37m━━━━━━━━━━━━━━━━━━\u001b[0m \u001b[1m6:46\u001b[0m 2s/step - crit_mse: 11.2884 - lclk_acc: 0.6596 - loss: 1.2280 - m_x_acc: 0.1009 - m_y_acc: 0.3157 - no_fire: 0.2138 - wasd_acc: 0.6807(None, 32, 49152)\n",
      "\u001b[1m 31/300\u001b[0m \u001b[32m━━\u001b[0m\u001b[37m━━━━━━━━━━━━━━━━━━\u001b[0m \u001b[1m6:43\u001b[0m 2s/step - crit_mse: 11.2887 - lclk_acc: 0.6645 - loss: 1.2242 - m_x_acc: 0.1028 - m_y_acc: 0.3189 - no_fire: 0.2111 - wasd_acc: 0.6833(None, 32, 49152)\n",
      "\u001b[1m 32/300\u001b[0m \u001b[32m━━\u001b[0m\u001b[37m━━━━━━━━━━━━━━━━━━\u001b[0m \u001b[1m6:41\u001b[0m 1s/step - crit_mse: 11.2846 - lclk_acc: 0.6694 - loss: 1.2203 - m_x_acc: 0.1044 - m_y_acc: 0.3226 - no_fire: 0.2083 - wasd_acc: 0.6857(None, 32, 49152)\n",
      "\u001b[1m 33/300\u001b[0m \u001b[32m━━\u001b[0m\u001b[37m━━━━━━━━━━━━━━━━━━\u001b[0m \u001b[1m6:40\u001b[0m 1s/step - crit_mse: 11.2817 - lclk_acc: 0.6741 - loss: 1.2166 - m_x_acc: 0.1059 - m_y_acc: 0.3258 - no_fire: 0.2057 - wasd_acc: 0.6880(None, 32, 49152)\n",
      "\u001b[1m 34/300\u001b[0m \u001b[32m━━\u001b[0m\u001b[37m━━━━━━━━━━━━━━━━━━\u001b[0m \u001b[1m6:38\u001b[0m 1s/step - crit_mse: 11.2838 - lclk_acc: 0.6787 - loss: 1.2130 - m_x_acc: 0.1072 - m_y_acc: 0.3290 - no_fire: 0.2031 - wasd_acc: 0.6901(None, 32, 49152)\n",
      "\u001b[1m 35/300\u001b[0m \u001b[32m━━\u001b[0m\u001b[37m━━━━━━━━━━━━━━━━━━\u001b[0m \u001b[1m6:37\u001b[0m 1s/step - crit_mse: 11.2836 - lclk_acc: 0.6831 - loss: 1.2093 - m_x_acc: 0.1087 - m_y_acc: 0.3325 - no_fire: 0.2005 - wasd_acc: 0.6921(None, 32, 49152)\n",
      "\u001b[1m 36/300\u001b[0m \u001b[32m━━\u001b[0m\u001b[37m━━━━━━━━━━━━━━━━━━\u001b[0m \u001b[1m6:35\u001b[0m 1s/step - crit_mse: 11.2848 - lclk_acc: 0.6875 - loss: 1.2059 - m_x_acc: 0.1100 - m_y_acc: 0.3355 - no_fire: 0.1980 - wasd_acc: 0.6939(None, 32, 49152)\n",
      "\u001b[1m 37/300\u001b[0m \u001b[32m━━\u001b[0m\u001b[37m━━━━━━━━━━━━━━━━━━\u001b[0m \u001b[1m6:33\u001b[0m 1s/step - crit_mse: 11.2877 - lclk_acc: 0.6917 - loss: 1.2025 - m_x_acc: 0.1112 - m_y_acc: 0.3387 - no_fire: 0.1955 - wasd_acc: 0.6957(None, 32, 49152)\n",
      "\u001b[1m 38/300\u001b[0m \u001b[32m━━\u001b[0m\u001b[37m━━━━━━━━━━━━━━━━━━\u001b[0m \u001b[1m6:30\u001b[0m 1s/step - crit_mse: 11.2923 - lclk_acc: 0.6958 - loss: 1.1993 - m_x_acc: 0.1122 - m_y_acc: 0.3416 - no_fire: 0.1931 - wasd_acc: 0.6974(None, 32, 49152)\n",
      "\u001b[1m 39/300\u001b[0m \u001b[32m━━\u001b[0m\u001b[37m━━━━━━━━━━━━━━━━━━\u001b[0m \u001b[1m6:28\u001b[0m 1s/step - crit_mse: 11.2971 - lclk_acc: 0.6998 - loss: 1.1963 - m_x_acc: 0.1132 - m_y_acc: 0.3442 - no_fire: 0.1908 - wasd_acc: 0.6990(None, 32, 49152)\n",
      "\u001b[1m 40/300\u001b[0m \u001b[32m━━\u001b[0m\u001b[37m━━━━━━━━━━━━━━━━━━\u001b[0m \u001b[1m6:26\u001b[0m 1s/step - crit_mse: 11.3003 - lclk_acc: 0.7037 - loss: 1.1934 - m_x_acc: 0.1141 - m_y_acc: 0.3466 - no_fire: 0.1885 - wasd_acc: 0.7005(None, 32, 49152)\n",
      "\u001b[1m 41/300\u001b[0m \u001b[32m━━\u001b[0m\u001b[37m━━━━━━━━━━━━━━━━━━\u001b[0m \u001b[1m6:23\u001b[0m 1s/step - crit_mse: 11.3010 - lclk_acc: 0.7075 - loss: 1.1904 - m_x_acc: 0.1150 - m_y_acc: 0.3492 - no_fire: 0.1863 - wasd_acc: 0.7019(None, 32, 49152)\n",
      "\u001b[1m 42/300\u001b[0m \u001b[32m━━\u001b[0m\u001b[37m━━━━━━━━━━━━━━━━━━\u001b[0m \u001b[1m6:23\u001b[0m 1s/step - crit_mse: 11.2987 - lclk_acc: 0.7109 - loss: 1.1875 - m_x_acc: 0.1162 - m_y_acc: 0.3517 - no_fire: 0.1843 - wasd_acc: 0.7034(None, 32, 49152)\n",
      "\u001b[1m 43/300\u001b[0m \u001b[32m━━\u001b[0m\u001b[37m━━━━━━━━━━━━━━━━━━\u001b[0m \u001b[1m6:21\u001b[0m 1s/step - crit_mse: 11.3009 - lclk_acc: 0.7143 - loss: 1.1846 - m_x_acc: 0.1172 - m_y_acc: 0.3543 - no_fire: 0.1824 - wasd_acc: 0.7048(None, 32, 49152)\n",
      "\u001b[1m 44/300\u001b[0m \u001b[32m━━\u001b[0m\u001b[37m━━━━━━━━━━━━━━━━━━\u001b[0m \u001b[1m6:20\u001b[0m 1s/step - crit_mse: 11.3000 - lclk_acc: 0.7176 - loss: 1.1818 - m_x_acc: 0.1181 - m_y_acc: 0.3567 - no_fire: 0.1805 - wasd_acc: 0.7062(None, 32, 49152)\n",
      "\u001b[1m 45/300\u001b[0m \u001b[32m━━━\u001b[0m\u001b[37m━━━━━━━━━━━━━━━━━\u001b[0m \u001b[1m6:18\u001b[0m 1s/step - crit_mse: 11.2989 - lclk_acc: 0.7208 - loss: 1.1791 - m_x_acc: 0.1189 - m_y_acc: 0.3589 - no_fire: 0.1787 - wasd_acc: 0.7074(None, 32, 49152)\n",
      "\u001b[1m 46/300\u001b[0m \u001b[32m━━━\u001b[0m\u001b[37m━━━━━━━━━━━━━━━━━\u001b[0m \u001b[1m6:17\u001b[0m 1s/step - crit_mse: 11.2979 - lclk_acc: 0.7240 - loss: 1.1764 - m_x_acc: 0.1197 - m_y_acc: 0.3612 - no_fire: 0.1768 - wasd_acc: 0.7086(None, 32, 49152)\n",
      "\u001b[1m 47/300\u001b[0m \u001b[32m━━━\u001b[0m\u001b[37m━━━━━━━━━━━━━━━━━\u001b[0m \u001b[1m6:16\u001b[0m 1s/step - crit_mse: 11.2972 - lclk_acc: 0.7270 - loss: 1.1738 - m_x_acc: 0.1204 - m_y_acc: 0.3637 - no_fire: 0.1751 - wasd_acc: 0.7097(None, 32, 49152)\n",
      "\u001b[1m 48/300\u001b[0m \u001b[32m━━━\u001b[0m\u001b[37m━━━━━━━━━━━━━━━━━\u001b[0m \u001b[1m6:14\u001b[0m 1s/step - crit_mse: 11.2955 - lclk_acc: 0.7300 - loss: 1.1711 - m_x_acc: 0.1211 - m_y_acc: 0.3659 - no_fire: 0.1733 - wasd_acc: 0.7107(None, 32, 49152)\n",
      "\u001b[1m 49/300\u001b[0m \u001b[32m━━━\u001b[0m\u001b[37m━━━━━━━━━━━━━━━━━\u001b[0m \u001b[1m6:12\u001b[0m 1s/step - crit_mse: 11.2932 - lclk_acc: 0.7329 - loss: 1.1685 - m_x_acc: 0.1219 - m_y_acc: 0.3683 - no_fire: 0.1716 - wasd_acc: 0.7117(None, 32, 49152)\n",
      "\u001b[1m 50/300\u001b[0m \u001b[32m━━━\u001b[0m\u001b[37m━━━━━━━━━━━━━━━━━\u001b[0m \u001b[1m6:10\u001b[0m 1s/step - crit_mse: 11.2909 - lclk_acc: 0.7358 - loss: 1.1659 - m_x_acc: 0.1226 - m_y_acc: 0.3706 - no_fire: 0.1700 - wasd_acc: 0.7126(None, 32, 49152)\n",
      "\u001b[1m 51/300\u001b[0m \u001b[32m━━━\u001b[0m\u001b[37m━━━━━━━━━━━━━━━━━\u001b[0m \u001b[1m6:08\u001b[0m 1s/step - crit_mse: 11.2876 - lclk_acc: 0.7386 - loss: 1.1635 - m_x_acc: 0.1232 - m_y_acc: 0.3725 - no_fire: 0.1683 - wasd_acc: 0.7135(None, 32, 49152)\n",
      "\u001b[1m 52/300\u001b[0m \u001b[32m━━━\u001b[0m\u001b[37m━━━━━━━━━━━━━━━━━\u001b[0m \u001b[1m6:07\u001b[0m 1s/step - crit_mse: 11.2859 - lclk_acc: 0.7413 - loss: 1.1611 - m_x_acc: 0.1238 - m_y_acc: 0.3746 - no_fire: 0.1667 - wasd_acc: 0.7144(None, 32, 49152)\n",
      "\u001b[1m 53/300\u001b[0m \u001b[32m━━━\u001b[0m\u001b[37m━━━━━━━━━━━━━━━━━\u001b[0m \u001b[1m6:04\u001b[0m 1s/step - crit_mse: 11.2834 - lclk_acc: 0.7439 - loss: 1.1588 - m_x_acc: 0.1244 - m_y_acc: 0.3765 - no_fire: 0.1652 - wasd_acc: 0.7152(None, 32, 49152)\n",
      "\u001b[1m 54/300\u001b[0m \u001b[32m━━━\u001b[0m\u001b[37m━━━━━━━━━━━━━━━━━\u001b[0m \u001b[1m6:03\u001b[0m 1s/step - crit_mse: 11.2803 - lclk_acc: 0.7464 - loss: 1.1565 - m_x_acc: 0.1251 - m_y_acc: 0.3784 - no_fire: 0.1638 - wasd_acc: 0.7160(None, 32, 49152)\n",
      "\u001b[1m 55/300\u001b[0m \u001b[32m━━━\u001b[0m\u001b[37m━━━━━━━━━━━━━━━━━\u001b[0m \u001b[1m6:01\u001b[0m 1s/step - crit_mse: 11.2766 - lclk_acc: 0.7487 - loss: 1.1542 - m_x_acc: 0.1260 - m_y_acc: 0.3804 - no_fire: 0.1625 - wasd_acc: 0.7168(None, 32, 49152)\n",
      "\u001b[1m 56/300\u001b[0m \u001b[32m━━━\u001b[0m\u001b[37m━━━━━━━━━━━━━━━━━\u001b[0m \u001b[1m6:00\u001b[0m 1s/step - crit_mse: 11.2725 - lclk_acc: 0.7510 - loss: 1.1520 - m_x_acc: 0.1267 - m_y_acc: 0.3821 - no_fire: 0.1612 - wasd_acc: 0.7177(None, 32, 49152)\n",
      "\u001b[1m 57/300\u001b[0m \u001b[32m━━━\u001b[0m\u001b[37m━━━━━━━━━━━━━━━━━\u001b[0m \u001b[1m5:58\u001b[0m 1s/step - crit_mse: 11.2703 - lclk_acc: 0.7532 - loss: 1.1499 - m_x_acc: 0.1274 - m_y_acc: 0.3840 - no_fire: 0.1600 - wasd_acc: 0.7185(None, 32, 49152)\n",
      "\u001b[1m 58/300\u001b[0m \u001b[32m━━━\u001b[0m\u001b[37m━━━━━━━━━━━━━━━━━\u001b[0m \u001b[1m5:57\u001b[0m 1s/step - crit_mse: 11.2675 - lclk_acc: 0.7554 - loss: 1.1478 - m_x_acc: 0.1282 - m_y_acc: 0.3856 - no_fire: 0.1588 - wasd_acc: 0.7193(None, 32, 49152)\n",
      "\u001b[1m 59/300\u001b[0m \u001b[32m━━━\u001b[0m\u001b[37m━━━━━━━━━━━━━━━━━\u001b[0m \u001b[1m5:55\u001b[0m 1s/step - crit_mse: 11.2666 - lclk_acc: 0.7575 - loss: 1.1458 - m_x_acc: 0.1288 - m_y_acc: 0.3873 - no_fire: 0.1575 - wasd_acc: 0.7200(None, 32, 49152)\n",
      "\u001b[1m 60/300\u001b[0m \u001b[32m━━━━\u001b[0m\u001b[37m━━━━━━━━━━━━━━━━\u001b[0m \u001b[1m5:54\u001b[0m 1s/step - crit_mse: 11.2669 - lclk_acc: 0.7597 - loss: 1.1438 - m_x_acc: 0.1295 - m_y_acc: 0.3890 - no_fire: 0.1564 - wasd_acc: 0.7208(None, 32, 49152)\n",
      "\u001b[1m 61/300\u001b[0m \u001b[32m━━━━\u001b[0m\u001b[37m━━━━━━━━━━━━━━━━\u001b[0m \u001b[1m5:52\u001b[0m 1s/step - crit_mse: 11.2664 - lclk_acc: 0.7617 - loss: 1.1418 - m_x_acc: 0.1302 - m_y_acc: 0.3906 - no_fire: 0.1552 - wasd_acc: 0.7215(None, 32, 49152)\n",
      "\u001b[1m 62/300\u001b[0m \u001b[32m━━━━\u001b[0m\u001b[37m━━━━━━━━━━━━━━━━\u001b[0m \u001b[1m5:50\u001b[0m 1s/step - crit_mse: 11.2651 - lclk_acc: 0.7638 - loss: 1.1399 - m_x_acc: 0.1308 - m_y_acc: 0.3921 - no_fire: 0.1540 - wasd_acc: 0.7222(None, 32, 49152)\n",
      "\u001b[1m 63/300\u001b[0m \u001b[32m━━━━\u001b[0m\u001b[37m━━━━━━━━━━━━━━━━\u001b[0m \u001b[1m5:48\u001b[0m 1s/step - crit_mse: 11.2629 - lclk_acc: 0.7657 - loss: 1.1379 - m_x_acc: 0.1316 - m_y_acc: 0.3936 - no_fire: 0.1529 - wasd_acc: 0.7229(None, 32, 49152)\n",
      "\u001b[1m 64/300\u001b[0m \u001b[32m━━━━\u001b[0m\u001b[37m━━━━━━━━━━━━━━━━\u001b[0m \u001b[1m5:47\u001b[0m 1s/step - crit_mse: 11.2627 - lclk_acc: 0.7677 - loss: 1.1360 - m_x_acc: 0.1323 - m_y_acc: 0.3951 - no_fire: 0.1517 - wasd_acc: 0.7236(None, 32, 49152)\n",
      "\u001b[1m 65/300\u001b[0m \u001b[32m━━━━\u001b[0m\u001b[37m━━━━━━━━━━━━━━━━\u001b[0m \u001b[1m5:46\u001b[0m 1s/step - crit_mse: 11.2629 - lclk_acc: 0.7696 - loss: 1.1342 - m_x_acc: 0.1330 - m_y_acc: 0.3966 - no_fire: 0.1506 - wasd_acc: 0.7243(None, 32, 49152)\n",
      "\u001b[1m 66/300\u001b[0m \u001b[32m━━━━\u001b[0m\u001b[37m━━━━━━━━━━━━━━━━\u001b[0m \u001b[1m5:45\u001b[0m 1s/step - crit_mse: 11.2618 - lclk_acc: 0.7714 - loss: 1.1323 - m_x_acc: 0.1338 - m_y_acc: 0.3981 - no_fire: 0.1496 - wasd_acc: 0.7250(None, 32, 49152)\n",
      "\u001b[1m 67/300\u001b[0m \u001b[32m━━━━\u001b[0m\u001b[37m━━━━━━━━━━━━━━━━\u001b[0m \u001b[1m5:43\u001b[0m 1s/step - crit_mse: 11.2614 - lclk_acc: 0.7732 - loss: 1.1305 - m_x_acc: 0.1345 - m_y_acc: 0.3997 - no_fire: 0.1486 - wasd_acc: 0.7256(None, 32, 49152)\n",
      "\u001b[1m 68/300\u001b[0m \u001b[32m━━━━\u001b[0m\u001b[37m━━━━━━━━━━━━━━━━\u001b[0m \u001b[1m5:42\u001b[0m 1s/step - crit_mse: 11.2608 - lclk_acc: 0.7750 - loss: 1.1288 - m_x_acc: 0.1352 - m_y_acc: 0.4011 - no_fire: 0.1476 - wasd_acc: 0.7262(None, 32, 49152)\n",
      "\u001b[1m 69/300\u001b[0m \u001b[32m━━━━\u001b[0m\u001b[37m━━━━━━━━━━━━━━━━\u001b[0m \u001b[1m5:40\u001b[0m 1s/step - crit_mse: 11.2605 - lclk_acc: 0.7767 - loss: 1.1270 - m_x_acc: 0.1359 - m_y_acc: 0.4026 - no_fire: 0.1466 - wasd_acc: 0.7268(None, 32, 49152)\n",
      "\u001b[1m 70/300\u001b[0m \u001b[32m━━━━\u001b[0m\u001b[37m━━━━━━━━━━━━━━━━\u001b[0m \u001b[1m5:39\u001b[0m 1s/step - crit_mse: 11.2593 - lclk_acc: 0.7783 - loss: 1.1253 - m_x_acc: 0.1366 - m_y_acc: 0.4041 - no_fire: 0.1457 - wasd_acc: 0.7274(None, 32, 49152)\n",
      "\u001b[1m 71/300\u001b[0m \u001b[32m━━━━\u001b[0m\u001b[37m━━━━━━━━━━━━━━━━\u001b[0m \u001b[1m5:37\u001b[0m 1s/step - crit_mse: 11.2580 - lclk_acc: 0.7799 - loss: 1.1236 - m_x_acc: 0.1373 - m_y_acc: 0.4055 - no_fire: 0.1448 - wasd_acc: 0.7280(None, 32, 49152)\n",
      "\u001b[1m 72/300\u001b[0m \u001b[32m━━━━\u001b[0m\u001b[37m━━━━━━━━━━━━━━━━\u001b[0m \u001b[1m5:36\u001b[0m 1s/step - crit_mse: 11.2567 - lclk_acc: 0.7815 - loss: 1.1219 - m_x_acc: 0.1380 - m_y_acc: 0.4069 - no_fire: 0.1440 - wasd_acc: 0.7286(None, 32, 49152)\n",
      "\u001b[1m 73/300\u001b[0m \u001b[32m━━━━\u001b[0m\u001b[37m━━━━━━━━━━━━━━━━\u001b[0m \u001b[1m5:35\u001b[0m 1s/step - crit_mse: 11.2549 - lclk_acc: 0.7829 - loss: 1.1202 - m_x_acc: 0.1388 - m_y_acc: 0.4084 - no_fire: 0.1432 - wasd_acc: 0.7292(None, 32, 49152)\n",
      "\u001b[1m 74/300\u001b[0m \u001b[32m━━━━\u001b[0m\u001b[37m━━━━━━━━━━━━━━━━\u001b[0m \u001b[1m5:34\u001b[0m 1s/step - crit_mse: 11.2526 - lclk_acc: 0.7843 - loss: 1.1186 - m_x_acc: 0.1395 - m_y_acc: 0.4099 - no_fire: 0.1425 - wasd_acc: 0.7297(None, 32, 49152)\n",
      "\u001b[1m 75/300\u001b[0m \u001b[32m━━━━━\u001b[0m\u001b[37m━━━━━━━━━━━━━━━\u001b[0m \u001b[1m5:32\u001b[0m 1s/step - crit_mse: 11.2500 - lclk_acc: 0.7856 - loss: 1.1169 - m_x_acc: 0.1403 - m_y_acc: 0.4114 - no_fire: 0.1418 - wasd_acc: 0.7303(None, 32, 49152)\n",
      "\u001b[1m 76/300\u001b[0m \u001b[32m━━━━━\u001b[0m\u001b[37m━━━━━━━━━━━━━━━\u001b[0m \u001b[1m5:30\u001b[0m 1s/step - crit_mse: 11.2476 - lclk_acc: 0.7869 - loss: 1.1153 - m_x_acc: 0.1411 - m_y_acc: 0.4129 - no_fire: 0.1412 - wasd_acc: 0.7309(None, 32, 49152)\n",
      "\u001b[1m 77/300\u001b[0m \u001b[32m━━━━━\u001b[0m\u001b[37m━━━━━━━━━━━━━━━\u001b[0m \u001b[1m5:28\u001b[0m 1s/step - crit_mse: 11.2463 - lclk_acc: 0.7882 - loss: 1.1137 - m_x_acc: 0.1418 - m_y_acc: 0.4143 - no_fire: 0.1405 - wasd_acc: 0.7314(None, 32, 49152)\n",
      "\u001b[1m 78/300\u001b[0m \u001b[32m━━━━━\u001b[0m\u001b[37m━━━━━━━━━━━━━━━\u001b[0m \u001b[1m5:27\u001b[0m 1s/step - crit_mse: 11.2453 - lclk_acc: 0.7895 - loss: 1.1122 - m_x_acc: 0.1426 - m_y_acc: 0.4157 - no_fire: 0.1398 - wasd_acc: 0.7319(None, 32, 49152)\n",
      "\u001b[1m 79/300\u001b[0m \u001b[32m━━━━━\u001b[0m\u001b[37m━━━━━━━━━━━━━━━\u001b[0m \u001b[1m5:25\u001b[0m 1s/step - crit_mse: 11.2442 - lclk_acc: 0.7907 - loss: 1.1107 - m_x_acc: 0.1433 - m_y_acc: 0.4171 - no_fire: 0.1392 - wasd_acc: 0.7325(None, 32, 49152)\n",
      "\u001b[1m 80/300\u001b[0m \u001b[32m━━━━━\u001b[0m\u001b[37m━━━━━━━━━━━━━━━\u001b[0m \u001b[1m5:24\u001b[0m 1s/step - crit_mse: 11.2432 - lclk_acc: 0.7920 - loss: 1.1091 - m_x_acc: 0.1441 - m_y_acc: 0.4185 - no_fire: 0.1386 - wasd_acc: 0.7330(None, 32, 49152)\n",
      "\u001b[1m 81/300\u001b[0m \u001b[32m━━━━━\u001b[0m\u001b[37m━━━━━━━━━━━━━━━\u001b[0m \u001b[1m5:22\u001b[0m 1s/step - crit_mse: 11.2419 - lclk_acc: 0.7931 - loss: 1.1076 - m_x_acc: 0.1450 - m_y_acc: 0.4200 - no_fire: 0.1380 - wasd_acc: 0.7335(None, 32, 49152)\n",
      "\u001b[1m 82/300\u001b[0m \u001b[32m━━━━━\u001b[0m\u001b[37m━━━━━━━━━━━━━━━\u001b[0m \u001b[1m5:20\u001b[0m 1s/step - crit_mse: 11.2408 - lclk_acc: 0.7942 - loss: 1.1061 - m_x_acc: 0.1458 - m_y_acc: 0.4214 - no_fire: 0.1375 - wasd_acc: 0.7340(None, 32, 49152)\n",
      "\u001b[1m 83/300\u001b[0m \u001b[32m━━━━━\u001b[0m\u001b[37m━━━━━━━━━━━━━━━\u001b[0m \u001b[1m5:19\u001b[0m 1s/step - crit_mse: 11.2393 - lclk_acc: 0.7953 - loss: 1.1046 - m_x_acc: 0.1465 - m_y_acc: 0.4228 - no_fire: 0.1370 - wasd_acc: 0.7345(None, 32, 49152)\n",
      "\u001b[1m 84/300\u001b[0m \u001b[32m━━━━━\u001b[0m\u001b[37m━━━━━━━━━━━━━━━\u001b[0m \u001b[1m5:18\u001b[0m 1s/step - crit_mse: 11.2376 - lclk_acc: 0.7964 - loss: 1.1032 - m_x_acc: 0.1472 - m_y_acc: 0.4242 - no_fire: 0.1364 - wasd_acc: 0.7350(None, 32, 49152)\n",
      "\u001b[1m 85/300\u001b[0m \u001b[32m━━━━━\u001b[0m\u001b[37m━━━━━━━━━━━━━━━\u001b[0m \u001b[1m5:16\u001b[0m 1s/step - crit_mse: 11.2362 - lclk_acc: 0.7975 - loss: 1.1018 - m_x_acc: 0.1480 - m_y_acc: 0.4255 - no_fire: 0.1359 - wasd_acc: 0.7354(None, 32, 49152)\n",
      "\u001b[1m 86/300\u001b[0m \u001b[32m━━━━━\u001b[0m\u001b[37m━━━━━━━━━━━━━━━\u001b[0m \u001b[1m5:15\u001b[0m 1s/step - crit_mse: 11.2338 - lclk_acc: 0.7985 - loss: 1.1003 - m_x_acc: 0.1487 - m_y_acc: 0.4269 - no_fire: 0.1353 - wasd_acc: 0.7359(None, 32, 49152)\n",
      "\u001b[1m 87/300\u001b[0m \u001b[32m━━━━━\u001b[0m\u001b[37m━━━━━━━━━━━━━━━\u001b[0m \u001b[1m5:14\u001b[0m 1s/step - crit_mse: 11.2313 - lclk_acc: 0.7996 - loss: 1.0989 - m_x_acc: 0.1494 - m_y_acc: 0.4283 - no_fire: 0.1348 - wasd_acc: 0.7363(None, 32, 49152)\n",
      "\u001b[1m 88/300\u001b[0m \u001b[32m━━━━━\u001b[0m\u001b[37m━━━━━━━━━━━━━━━\u001b[0m \u001b[1m5:12\u001b[0m 1s/step - crit_mse: 11.2286 - lclk_acc: 0.8006 - loss: 1.0976 - m_x_acc: 0.1501 - m_y_acc: 0.4295 - no_fire: 0.1343 - wasd_acc: 0.7367(None, 32, 49152)\n",
      "\u001b[1m 89/300\u001b[0m \u001b[32m━━━━━\u001b[0m\u001b[37m━━━━━━━━━━━━━━━\u001b[0m \u001b[1m5:11\u001b[0m 1s/step - crit_mse: 11.2259 - lclk_acc: 0.8017 - loss: 1.0962 - m_x_acc: 0.1508 - m_y_acc: 0.4307 - no_fire: 0.1337 - wasd_acc: 0.7371(None, 32, 49152)\n",
      "\u001b[1m 90/300\u001b[0m \u001b[32m━━━━━━\u001b[0m\u001b[37m━━━━━━━━━━━━━━\u001b[0m \u001b[1m5:09\u001b[0m 1s/step - crit_mse: 11.2227 - lclk_acc: 0.8027 - loss: 1.0950 - m_x_acc: 0.1514 - m_y_acc: 0.4319 - no_fire: 0.1332 - wasd_acc: 0.7375(None, 32, 49152)\n",
      "\u001b[1m 91/300\u001b[0m \u001b[32m━━━━━━\u001b[0m\u001b[37m━━━━━━━━━━━━━━\u001b[0m \u001b[1m5:08\u001b[0m 1s/step - crit_mse: 11.2201 - lclk_acc: 0.8037 - loss: 1.0937 - m_x_acc: 0.1520 - m_y_acc: 0.4330 - no_fire: 0.1326 - wasd_acc: 0.7378(None, 32, 49152)\n",
      "\u001b[1m 92/300\u001b[0m \u001b[32m━━━━━━\u001b[0m\u001b[37m━━━━━━━━━━━━━━\u001b[0m \u001b[1m5:06\u001b[0m 1s/step - crit_mse: 11.2170 - lclk_acc: 0.8047 - loss: 1.0925 - m_x_acc: 0.1526 - m_y_acc: 0.4340 - no_fire: 0.1321 - wasd_acc: 0.7382(None, 32, 49152)\n",
      "\u001b[1m 93/300\u001b[0m \u001b[32m━━━━━━\u001b[0m\u001b[37m━━━━━━━━━━━━━━\u001b[0m \u001b[1m5:05\u001b[0m 1s/step - crit_mse: 11.2136 - lclk_acc: 0.8057 - loss: 1.0913 - m_x_acc: 0.1532 - m_y_acc: 0.4351 - no_fire: 0.1316 - wasd_acc: 0.7385(None, 32, 49152)\n",
      "\u001b[1m 94/300\u001b[0m \u001b[32m━━━━━━\u001b[0m\u001b[37m━━━━━━━━━━━━━━\u001b[0m \u001b[1m5:04\u001b[0m 1s/step - crit_mse: 11.2108 - lclk_acc: 0.8067 - loss: 1.0901 - m_x_acc: 0.1537 - m_y_acc: 0.4361 - no_fire: 0.1311 - wasd_acc: 0.7388(None, 32, 49152)\n",
      "\u001b[1m 95/300\u001b[0m \u001b[32m━━━━━━\u001b[0m\u001b[37m━━━━━━━━━━━━━━\u001b[0m \u001b[1m5:02\u001b[0m 1s/step - crit_mse: 11.2077 - lclk_acc: 0.8077 - loss: 1.0889 - m_x_acc: 0.1543 - m_y_acc: 0.4371 - no_fire: 0.1306 - wasd_acc: 0.7391(None, 32, 49152)\n",
      "\u001b[1m 96/300\u001b[0m \u001b[32m━━━━━━\u001b[0m\u001b[37m━━━━━━━━━━━━━━\u001b[0m \u001b[1m5:01\u001b[0m 1s/step - crit_mse: 11.2041 - lclk_acc: 0.8086 - loss: 1.0878 - m_x_acc: 0.1548 - m_y_acc: 0.4381 - no_fire: 0.1301 - wasd_acc: 0.7394(None, 32, 49152)\n",
      "\u001b[1m 97/300\u001b[0m \u001b[32m━━━━━━\u001b[0m\u001b[37m━━━━━━━━━━━━━━\u001b[0m \u001b[1m4:59\u001b[0m 1s/step - crit_mse: 11.2003 - lclk_acc: 0.8095 - loss: 1.0866 - m_x_acc: 0.1554 - m_y_acc: 0.4391 - no_fire: 0.1296 - wasd_acc: 0.7397(None, 32, 49152)\n",
      "\u001b[1m 98/300\u001b[0m \u001b[32m━━━━━━\u001b[0m\u001b[37m━━━━━━━━━━━━━━\u001b[0m \u001b[1m4:58\u001b[0m 1s/step - crit_mse: 11.1965 - lclk_acc: 0.8104 - loss: 1.0855 - m_x_acc: 0.1560 - m_y_acc: 0.4401 - no_fire: 0.1292 - wasd_acc: 0.7401(None, 32, 49152)\n",
      "\u001b[1m 99/300\u001b[0m \u001b[32m━━━━━━\u001b[0m\u001b[37m━━━━━━━━━━━━━━\u001b[0m \u001b[1m4:57\u001b[0m 1s/step - crit_mse: 11.1929 - lclk_acc: 0.8112 - loss: 1.0843 - m_x_acc: 0.1565 - m_y_acc: 0.4411 - no_fire: 0.1288 - wasd_acc: 0.7403(None, 32, 49152)\n",
      "\u001b[1m100/300\u001b[0m \u001b[32m━━━━━━\u001b[0m\u001b[37m━━━━━━━━━━━━━━\u001b[0m \u001b[1m4:55\u001b[0m 1s/step - crit_mse: 11.1891 - lclk_acc: 0.8121 - loss: 1.0832 - m_x_acc: 0.1571 - m_y_acc: 0.4420 - no_fire: 0.1283 - wasd_acc: 0.7406(None, 32, 49152)\n",
      "\u001b[1m101/300\u001b[0m \u001b[32m━━━━━━\u001b[0m\u001b[37m━━━━━━━━━━━━━━\u001b[0m \u001b[1m4:54\u001b[0m 1s/step - crit_mse: 11.1851 - lclk_acc: 0.8130 - loss: 1.0821 - m_x_acc: 0.1576 - m_y_acc: 0.4430 - no_fire: 0.1279 - wasd_acc: 0.7409(None, 32, 49152)\n",
      "\u001b[1m102/300\u001b[0m \u001b[32m━━━━━━\u001b[0m\u001b[37m━━━━━━━━━━━━━━\u001b[0m \u001b[1m4:53\u001b[0m 1s/step - crit_mse: 11.1812 - lclk_acc: 0.8138 - loss: 1.0810 - m_x_acc: 0.1581 - m_y_acc: 0.4440 - no_fire: 0.1274 - wasd_acc: 0.7412(None, 32, 49152)\n",
      "\u001b[1m103/300\u001b[0m \u001b[32m━━━━━━\u001b[0m\u001b[37m━━━━━━━━━━━━━━\u001b[0m \u001b[1m4:51\u001b[0m 1s/step - crit_mse: 11.1776 - lclk_acc: 0.8147 - loss: 1.0799 - m_x_acc: 0.1586 - m_y_acc: 0.4449 - no_fire: 0.1270 - wasd_acc: 0.7414(None, 32, 49152)\n",
      "\u001b[1m104/300\u001b[0m \u001b[32m━━━━━━\u001b[0m\u001b[37m━━━━━━━━━━━━━━\u001b[0m \u001b[1m4:50\u001b[0m 1s/step - crit_mse: 11.1747 - lclk_acc: 0.8155 - loss: 1.0789 - m_x_acc: 0.1590 - m_y_acc: 0.4458 - no_fire: 0.1265 - wasd_acc: 0.7417(None, 32, 49152)\n",
      "\u001b[1m105/300\u001b[0m \u001b[32m━━━━━━━\u001b[0m\u001b[37m━━━━━━━━━━━━━\u001b[0m \u001b[1m4:48\u001b[0m 1s/step - crit_mse: 11.1720 - lclk_acc: 0.8163 - loss: 1.0779 - m_x_acc: 0.1595 - m_y_acc: 0.4466 - no_fire: 0.1261 - wasd_acc: 0.7419(None, 32, 49152)\n",
      "\u001b[1m106/300\u001b[0m \u001b[32m━━━━━━━\u001b[0m\u001b[37m━━━━━━━━━━━━━\u001b[0m \u001b[1m4:47\u001b[0m 1s/step - crit_mse: 11.1689 - lclk_acc: 0.8171 - loss: 1.0769 - m_x_acc: 0.1599 - m_y_acc: 0.4474 - no_fire: 0.1256 - wasd_acc: 0.7422(None, 32, 49152)\n",
      "\u001b[1m107/300\u001b[0m \u001b[32m━━━━━━━\u001b[0m\u001b[37m━━━━━━━━━━━━━\u001b[0m \u001b[1m4:46\u001b[0m 1s/step - crit_mse: 11.1655 - lclk_acc: 0.8180 - loss: 1.0759 - m_x_acc: 0.1604 - m_y_acc: 0.4482 - no_fire: 0.1252 - wasd_acc: 0.7424(None, 32, 49152)\n",
      "\u001b[1m108/300\u001b[0m \u001b[32m━━━━━━━\u001b[0m\u001b[37m━━━━━━━━━━━━━\u001b[0m \u001b[1m4:44\u001b[0m 1s/step - crit_mse: 11.1620 - lclk_acc: 0.8188 - loss: 1.0749 - m_x_acc: 0.1608 - m_y_acc: 0.4490 - no_fire: 0.1248 - wasd_acc: 0.7427(None, 32, 49152)\n",
      "\u001b[1m109/300\u001b[0m \u001b[32m━━━━━━━\u001b[0m\u001b[37m━━━━━━━━━━━━━\u001b[0m \u001b[1m4:43\u001b[0m 1s/step - crit_mse: 11.1588 - lclk_acc: 0.8196 - loss: 1.0739 - m_x_acc: 0.1612 - m_y_acc: 0.4498 - no_fire: 0.1243 - wasd_acc: 0.7429(None, 32, 49152)\n",
      "\u001b[1m110/300\u001b[0m \u001b[32m━━━━━━━\u001b[0m\u001b[37m━━━━━━━━━━━━━\u001b[0m \u001b[1m4:41\u001b[0m 1s/step - crit_mse: 11.1554 - lclk_acc: 0.8204 - loss: 1.0730 - m_x_acc: 0.1616 - m_y_acc: 0.4506 - no_fire: 0.1239 - wasd_acc: 0.7431(None, 32, 49152)\n",
      "\u001b[1m111/300\u001b[0m \u001b[32m━━━━━━━\u001b[0m\u001b[37m━━━━━━━━━━━━━\u001b[0m \u001b[1m4:40\u001b[0m 1s/step - crit_mse: 11.1523 - lclk_acc: 0.8211 - loss: 1.0720 - m_x_acc: 0.1620 - m_y_acc: 0.4514 - no_fire: 0.1235 - wasd_acc: 0.7434(None, 32, 49152)\n",
      "\u001b[1m112/300\u001b[0m \u001b[32m━━━━━━━\u001b[0m\u001b[37m━━━━━━━━━━━━━\u001b[0m \u001b[1m4:38\u001b[0m 1s/step - crit_mse: 11.1489 - lclk_acc: 0.8219 - loss: 1.0711 - m_x_acc: 0.1624 - m_y_acc: 0.4522 - no_fire: 0.1231 - wasd_acc: 0.7436(None, 32, 49152)\n",
      "\u001b[1m113/300\u001b[0m \u001b[32m━━━━━━━\u001b[0m\u001b[37m━━━━━━━━━━━━━\u001b[0m \u001b[1m4:37\u001b[0m 1s/step - crit_mse: 11.1461 - lclk_acc: 0.8226 - loss: 1.0701 - m_x_acc: 0.1628 - m_y_acc: 0.4530 - no_fire: 0.1227 - wasd_acc: 0.7438(None, 32, 49152)\n",
      "\u001b[1m114/300\u001b[0m \u001b[32m━━━━━━━\u001b[0m\u001b[37m━━━━━━━━━━━━━\u001b[0m \u001b[1m4:35\u001b[0m 1s/step - crit_mse: 11.1430 - lclk_acc: 0.8234 - loss: 1.0692 - m_x_acc: 0.1632 - m_y_acc: 0.4538 - no_fire: 0.1223 - wasd_acc: 0.7441(None, 32, 49152)\n",
      "\u001b[1m115/300\u001b[0m \u001b[32m━━━━━━━\u001b[0m\u001b[37m━━━━━━━━━━━━━\u001b[0m \u001b[1m4:34\u001b[0m 1s/step - crit_mse: 11.1398 - lclk_acc: 0.8241 - loss: 1.0683 - m_x_acc: 0.1635 - m_y_acc: 0.4545 - no_fire: 0.1219 - wasd_acc: 0.7443(None, 32, 49152)\n",
      "\u001b[1m116/300\u001b[0m \u001b[32m━━━━━━━\u001b[0m\u001b[37m━━━━━━━━━━━━━\u001b[0m \u001b[1m4:32\u001b[0m 1s/step - crit_mse: 11.1365 - lclk_acc: 0.8249 - loss: 1.0674 - m_x_acc: 0.1638 - m_y_acc: 0.4553 - no_fire: 0.1214 - wasd_acc: 0.7445(None, 32, 49152)\n",
      "\u001b[1m117/300\u001b[0m \u001b[32m━━━━━━━\u001b[0m\u001b[37m━━━━━━━━━━━━━\u001b[0m \u001b[1m4:30\u001b[0m 1s/step - crit_mse: 11.1331 - lclk_acc: 0.8256 - loss: 1.0666 - m_x_acc: 0.1642 - m_y_acc: 0.4560 - no_fire: 0.1210 - wasd_acc: 0.7447(None, 32, 49152)\n",
      "\u001b[1m118/300\u001b[0m \u001b[32m━━━━━━━\u001b[0m\u001b[37m━━━━━━━━━━━━━\u001b[0m \u001b[1m4:29\u001b[0m 1s/step - crit_mse: 11.1294 - lclk_acc: 0.8263 - loss: 1.0657 - m_x_acc: 0.1645 - m_y_acc: 0.4567 - no_fire: 0.1206 - wasd_acc: 0.7449(None, 32, 49152)\n",
      "\u001b[1m119/300\u001b[0m \u001b[32m━━━━━━━\u001b[0m\u001b[37m━━━━━━━━━━━━━\u001b[0m \u001b[1m4:27\u001b[0m 1s/step - crit_mse: 11.1253 - lclk_acc: 0.8270 - loss: 1.0648 - m_x_acc: 0.1648 - m_y_acc: 0.4574 - no_fire: 0.1202 - wasd_acc: 0.7451(None, 32, 49152)\n",
      "\u001b[1m120/300\u001b[0m \u001b[32m━━━━━━━━\u001b[0m\u001b[37m━━━━━━━━━━━━\u001b[0m \u001b[1m4:26\u001b[0m 1s/step - crit_mse: 11.1213 - lclk_acc: 0.8278 - loss: 1.0640 - m_x_acc: 0.1651 - m_y_acc: 0.4580 - no_fire: 0.1198 - wasd_acc: 0.7453(None, 32, 49152)\n",
      "\u001b[1m121/300\u001b[0m \u001b[32m━━━━━━━━\u001b[0m\u001b[37m━━━━━━━━━━━━\u001b[0m \u001b[1m4:24\u001b[0m 1s/step - crit_mse: 11.1176 - lclk_acc: 0.8285 - loss: 1.0632 - m_x_acc: 0.1654 - m_y_acc: 0.4587 - no_fire: 0.1194 - wasd_acc: 0.7455(None, 32, 49152)\n",
      "\u001b[1m122/300\u001b[0m \u001b[32m━━━━━━━━\u001b[0m\u001b[37m━━━━━━━━━━━━\u001b[0m \u001b[1m4:23\u001b[0m 1s/step - crit_mse: 11.1136 - lclk_acc: 0.8292 - loss: 1.0623 - m_x_acc: 0.1656 - m_y_acc: 0.4593 - no_fire: 0.1190 - wasd_acc: 0.7457(None, 32, 49152)\n",
      "\u001b[1m123/300\u001b[0m \u001b[32m━━━━━━━━\u001b[0m\u001b[37m━━━━━━━━━━━━\u001b[0m \u001b[1m4:21\u001b[0m 1s/step - crit_mse: 11.1094 - lclk_acc: 0.8299 - loss: 1.0615 - m_x_acc: 0.1659 - m_y_acc: 0.4600 - no_fire: 0.1186 - wasd_acc: 0.7459(None, 32, 49152)\n",
      "\u001b[1m124/300\u001b[0m \u001b[32m━━━━━━━━\u001b[0m\u001b[37m━━━━━━━━━━━━\u001b[0m \u001b[1m4:20\u001b[0m 1s/step - crit_mse: 11.1051 - lclk_acc: 0.8306 - loss: 1.0607 - m_x_acc: 0.1661 - m_y_acc: 0.4606 - no_fire: 0.1182 - wasd_acc: 0.7461(None, 32, 49152)\n",
      "\u001b[1m125/300\u001b[0m \u001b[32m━━━━━━━━\u001b[0m\u001b[37m━━━━━━━━━━━━\u001b[0m \u001b[1m4:18\u001b[0m 1s/step - crit_mse: 11.1007 - lclk_acc: 0.8312 - loss: 1.0599 - m_x_acc: 0.1664 - m_y_acc: 0.4612 - no_fire: 0.1179 - wasd_acc: 0.7462(None, 32, 49152)\n",
      "\u001b[1m126/300\u001b[0m \u001b[32m━━━━━━━━\u001b[0m\u001b[37m━━━━━━━━━━━━\u001b[0m \u001b[1m4:17\u001b[0m 1s/step - crit_mse: 11.0961 - lclk_acc: 0.8319 - loss: 1.0591 - m_x_acc: 0.1666 - m_y_acc: 0.4617 - no_fire: 0.1175 - wasd_acc: 0.7464(None, 32, 49152)\n",
      "\u001b[1m127/300\u001b[0m \u001b[32m━━━━━━━━\u001b[0m\u001b[37m━━━━━━━━━━━━\u001b[0m \u001b[1m4:15\u001b[0m 1s/step - crit_mse: 11.0914 - lclk_acc: 0.8326 - loss: 1.0583 - m_x_acc: 0.1668 - m_y_acc: 0.4622 - no_fire: 0.1171 - wasd_acc: 0.7466(None, 32, 49152)\n",
      "\u001b[1m128/300\u001b[0m \u001b[32m━━━━━━━━\u001b[0m\u001b[37m━━━━━━━━━━━━\u001b[0m \u001b[1m4:14\u001b[0m 1s/step - crit_mse: 11.0863 - lclk_acc: 0.8333 - loss: 1.0576 - m_x_acc: 0.1670 - m_y_acc: 0.4627 - no_fire: 0.1167 - wasd_acc: 0.7467(None, 32, 49152)\n",
      "\u001b[1m129/300\u001b[0m \u001b[32m━━━━━━━━\u001b[0m\u001b[37m━━━━━━━━━━━━\u001b[0m \u001b[1m4:13\u001b[0m 1s/step - crit_mse: 11.0811 - lclk_acc: 0.8339 - loss: 1.0568 - m_x_acc: 0.1672 - m_y_acc: 0.4632 - no_fire: 0.1163 - wasd_acc: 0.7469(None, 32, 49152)\n",
      "\u001b[1m130/300\u001b[0m \u001b[32m━━━━━━━━\u001b[0m\u001b[37m━━━━━━━━━━━━\u001b[0m \u001b[1m4:11\u001b[0m 1s/step - crit_mse: 11.0762 - lclk_acc: 0.8346 - loss: 1.0561 - m_x_acc: 0.1674 - m_y_acc: 0.4637 - no_fire: 0.1159 - wasd_acc: 0.7471(None, 32, 49152)\n",
      "\u001b[1m131/300\u001b[0m \u001b[32m━━━━━━━━\u001b[0m\u001b[37m━━━━━━━━━━━━\u001b[0m \u001b[1m4:10\u001b[0m 1s/step - crit_mse: 11.0715 - lclk_acc: 0.8352 - loss: 1.0553 - m_x_acc: 0.1676 - m_y_acc: 0.4641 - no_fire: 0.1155 - wasd_acc: 0.7472(None, 32, 49152)\n",
      "\u001b[1m132/300\u001b[0m \u001b[32m━━━━━━━━\u001b[0m\u001b[37m━━━━━━━━━━━━\u001b[0m \u001b[1m4:08\u001b[0m 1s/step - crit_mse: 11.0667 - lclk_acc: 0.8359 - loss: 1.0546 - m_x_acc: 0.1678 - m_y_acc: 0.4646 - no_fire: 0.1152 - wasd_acc: 0.7474(None, 32, 49152)\n",
      "\u001b[1m133/300\u001b[0m \u001b[32m━━━━━━━━\u001b[0m\u001b[37m━━━━━━━━━━━━\u001b[0m \u001b[1m4:07\u001b[0m 1s/step - crit_mse: 11.0619 - lclk_acc: 0.8365 - loss: 1.0539 - m_x_acc: 0.1680 - m_y_acc: 0.4650 - no_fire: 0.1148 - wasd_acc: 0.7476(None, 32, 49152)\n",
      "\u001b[1m134/300\u001b[0m \u001b[32m━━━━━━━━\u001b[0m\u001b[37m━━━━━━━━━━━━\u001b[0m \u001b[1m4:05\u001b[0m 1s/step - crit_mse: 11.0570 - lclk_acc: 0.8372 - loss: 1.0532 - m_x_acc: 0.1682 - m_y_acc: 0.4654 - no_fire: 0.1144 - wasd_acc: 0.7477(None, 32, 49152)\n",
      "\u001b[1m135/300\u001b[0m \u001b[32m━━━━━━━━━\u001b[0m\u001b[37m━━━━━━━━━━━\u001b[0m \u001b[1m4:04\u001b[0m 1s/step - crit_mse: 11.0520 - lclk_acc: 0.8378 - loss: 1.0525 - m_x_acc: 0.1684 - m_y_acc: 0.4658 - no_fire: 0.1140 - wasd_acc: 0.7479(None, 32, 49152)\n",
      "\u001b[1m136/300\u001b[0m \u001b[32m━━━━━━━━━\u001b[0m\u001b[37m━━━━━━━━━━━\u001b[0m \u001b[1m4:02\u001b[0m 1s/step - crit_mse: 11.0470 - lclk_acc: 0.8384 - loss: 1.0518 - m_x_acc: 0.1685 - m_y_acc: 0.4662 - no_fire: 0.1137 - wasd_acc: 0.7481(None, 32, 49152)\n",
      "\u001b[1m137/300\u001b[0m \u001b[32m━━━━━━━━━\u001b[0m\u001b[37m━━━━━━━━━━━\u001b[0m \u001b[1m4:01\u001b[0m 1s/step - crit_mse: 11.0419 - lclk_acc: 0.8391 - loss: 1.0511 - m_x_acc: 0.1687 - m_y_acc: 0.4666 - no_fire: 0.1133 - wasd_acc: 0.7482(None, 32, 49152)\n",
      "\u001b[1m138/300\u001b[0m \u001b[32m━━━━━━━━━\u001b[0m\u001b[37m━━━━━━━━━━━\u001b[0m \u001b[1m3:59\u001b[0m 1s/step - crit_mse: 11.0371 - lclk_acc: 0.8397 - loss: 1.0505 - m_x_acc: 0.1688 - m_y_acc: 0.4670 - no_fire: 0.1129 - wasd_acc: 0.7484(None, 32, 49152)\n",
      "\u001b[1m139/300\u001b[0m \u001b[32m━━━━━━━━━\u001b[0m\u001b[37m━━━━━━━━━━━\u001b[0m \u001b[1m3:58\u001b[0m 1s/step - crit_mse: 11.0323 - lclk_acc: 0.8403 - loss: 1.0498 - m_x_acc: 0.1690 - m_y_acc: 0.4673 - no_fire: 0.1126 - wasd_acc: 0.7485(None, 32, 49152)\n",
      "\u001b[1m140/300\u001b[0m \u001b[32m━━━━━━━━━\u001b[0m\u001b[37m━━━━━━━━━━━\u001b[0m \u001b[1m3:56\u001b[0m 1s/step - crit_mse: 11.0275 - lclk_acc: 0.8409 - loss: 1.0491 - m_x_acc: 0.1691 - m_y_acc: 0.4677 - no_fire: 0.1122 - wasd_acc: 0.7487(None, 32, 49152)\n",
      "\u001b[1m141/300\u001b[0m \u001b[32m━━━━━━━━━\u001b[0m\u001b[37m━━━━━━━━━━━\u001b[0m \u001b[1m3:55\u001b[0m 1s/step - crit_mse: 11.0227 - lclk_acc: 0.8415 - loss: 1.0485 - m_x_acc: 0.1693 - m_y_acc: 0.4681 - no_fire: 0.1118 - wasd_acc: 0.7488(None, 32, 49152)\n",
      "\u001b[1m142/300\u001b[0m \u001b[32m━━━━━━━━━\u001b[0m\u001b[37m━━━━━━━━━━━\u001b[0m \u001b[1m3:53\u001b[0m 1s/step - crit_mse: 11.0179 - lclk_acc: 0.8421 - loss: 1.0478 - m_x_acc: 0.1694 - m_y_acc: 0.4685 - no_fire: 0.1115 - wasd_acc: 0.7489(None, 32, 49152)\n",
      "\u001b[1m143/300\u001b[0m \u001b[32m━━━━━━━━━\u001b[0m\u001b[37m━━━━━━━━━━━\u001b[0m \u001b[1m3:52\u001b[0m 1s/step - crit_mse: 11.0132 - lclk_acc: 0.8427 - loss: 1.0472 - m_x_acc: 0.1696 - m_y_acc: 0.4688 - no_fire: 0.1111 - wasd_acc: 0.7491(None, 32, 49152)\n",
      "\u001b[1m144/300\u001b[0m \u001b[32m━━━━━━━━━\u001b[0m\u001b[37m━━━━━━━━━━━\u001b[0m \u001b[1m3:50\u001b[0m 1s/step - crit_mse: 11.0084 - lclk_acc: 0.8433 - loss: 1.0465 - m_x_acc: 0.1697 - m_y_acc: 0.4692 - no_fire: 0.1108 - wasd_acc: 0.7492(None, 32, 49152)\n",
      "\u001b[1m145/300\u001b[0m \u001b[32m━━━━━━━━━\u001b[0m\u001b[37m━━━━━━━━━━━\u001b[0m \u001b[1m3:49\u001b[0m 1s/step - crit_mse: 11.0038 - lclk_acc: 0.8438 - loss: 1.0459 - m_x_acc: 0.1698 - m_y_acc: 0.4695 - no_fire: 0.1104 - wasd_acc: 0.7493(None, 32, 49152)\n",
      "\u001b[1m146/300\u001b[0m \u001b[32m━━━━━━━━━\u001b[0m\u001b[37m━━━━━━━━━━━\u001b[0m \u001b[1m3:47\u001b[0m 1s/step - crit_mse: 10.9992 - lclk_acc: 0.8444 - loss: 1.0453 - m_x_acc: 0.1700 - m_y_acc: 0.4698 - no_fire: 0.1101 - wasd_acc: 0.7495(None, 32, 49152)\n",
      "\u001b[1m147/300\u001b[0m \u001b[32m━━━━━━━━━\u001b[0m\u001b[37m━━━━━━━━━━━\u001b[0m \u001b[1m3:46\u001b[0m 1s/step - crit_mse: 10.9943 - lclk_acc: 0.8450 - loss: 1.0447 - m_x_acc: 0.1701 - m_y_acc: 0.4701 - no_fire: 0.1097 - wasd_acc: 0.7496(None, 32, 49152)\n",
      "\u001b[1m148/300\u001b[0m \u001b[32m━━━━━━━━━\u001b[0m\u001b[37m━━━━━━━━━━━\u001b[0m \u001b[1m3:44\u001b[0m 1s/step - crit_mse: 10.9894 - lclk_acc: 0.8456 - loss: 1.0441 - m_x_acc: 0.1702 - m_y_acc: 0.4704 - no_fire: 0.1094 - wasd_acc: 0.7497(None, 32, 49152)\n",
      "\u001b[1m149/300\u001b[0m \u001b[32m━━━━━━━━━\u001b[0m\u001b[37m━━━━━━━━━━━\u001b[0m \u001b[1m3:43\u001b[0m 1s/step - crit_mse: 10.9845 - lclk_acc: 0.8461 - loss: 1.0435 - m_x_acc: 0.1703 - m_y_acc: 0.4707 - no_fire: 0.1090 - wasd_acc: 0.7498(None, 32, 49152)\n",
      "\u001b[1m150/300\u001b[0m \u001b[32m━━━━━━━━━━\u001b[0m\u001b[37m━━━━━━━━━━\u001b[0m \u001b[1m3:41\u001b[0m 1s/step - crit_mse: 10.9793 - lclk_acc: 0.8467 - loss: 1.0429 - m_x_acc: 0.1705 - m_y_acc: 0.4710 - no_fire: 0.1087 - wasd_acc: 0.7499(None, 32, 49152)\n",
      "\u001b[1m151/300\u001b[0m \u001b[32m━━━━━━━━━━\u001b[0m\u001b[37m━━━━━━━━━━\u001b[0m \u001b[1m3:40\u001b[0m 1s/step - crit_mse: 10.9742 - lclk_acc: 0.8473 - loss: 1.0423 - m_x_acc: 0.1706 - m_y_acc: 0.4713 - no_fire: 0.1084 - wasd_acc: 0.7501(None, 32, 49152)\n",
      "\u001b[1m152/300\u001b[0m \u001b[32m━━━━━━━━━━\u001b[0m\u001b[37m━━━━━━━━━━\u001b[0m \u001b[1m3:38\u001b[0m 1s/step - crit_mse: 10.9691 - lclk_acc: 0.8478 - loss: 1.0417 - m_x_acc: 0.1707 - m_y_acc: 0.4716 - no_fire: 0.1080 - wasd_acc: 0.7502(None, 32, 49152)\n",
      "\u001b[1m153/300\u001b[0m \u001b[32m━━━━━━━━━━\u001b[0m\u001b[37m━━━━━━━━━━\u001b[0m \u001b[1m3:37\u001b[0m 1s/step - crit_mse: 10.9641 - lclk_acc: 0.8484 - loss: 1.0411 - m_x_acc: 0.1708 - m_y_acc: 0.4718 - no_fire: 0.1077 - wasd_acc: 0.7503(None, 32, 49152)\n",
      "\u001b[1m154/300\u001b[0m \u001b[32m━━━━━━━━━━\u001b[0m\u001b[37m━━━━━━━━━━\u001b[0m \u001b[1m3:35\u001b[0m 1s/step - crit_mse: 10.9590 - lclk_acc: 0.8489 - loss: 1.0405 - m_x_acc: 0.1709 - m_y_acc: 0.4721 - no_fire: 0.1073 - wasd_acc: 0.7504(None, 32, 49152)\n",
      "\u001b[1m155/300\u001b[0m \u001b[32m━━━━━━━━━━\u001b[0m\u001b[37m━━━━━━━━━━\u001b[0m \u001b[1m3:34\u001b[0m 1s/step - crit_mse: 10.9538 - lclk_acc: 0.8494 - loss: 1.0399 - m_x_acc: 0.1710 - m_y_acc: 0.4724 - no_fire: 0.1070 - wasd_acc: 0.7505(None, 32, 49152)\n",
      "\u001b[1m156/300\u001b[0m \u001b[32m━━━━━━━━━━\u001b[0m\u001b[37m━━━━━━━━━━\u001b[0m \u001b[1m3:32\u001b[0m 1s/step - crit_mse: 10.9486 - lclk_acc: 0.8500 - loss: 1.0394 - m_x_acc: 0.1711 - m_y_acc: 0.4727 - no_fire: 0.1067 - wasd_acc: 0.7506(None, 32, 49152)\n",
      "\u001b[1m157/300\u001b[0m \u001b[32m━━━━━━━━━━\u001b[0m\u001b[37m━━━━━━━━━━\u001b[0m \u001b[1m3:30\u001b[0m 1s/step - crit_mse: 10.9434 - lclk_acc: 0.8505 - loss: 1.0388 - m_x_acc: 0.1712 - m_y_acc: 0.4730 - no_fire: 0.1064 - wasd_acc: 0.7508(None, 32, 49152)\n",
      "\u001b[1m158/300\u001b[0m \u001b[32m━━━━━━━━━━\u001b[0m\u001b[37m━━━━━━━━━━\u001b[0m \u001b[1m3:29\u001b[0m 1s/step - crit_mse: 10.9382 - lclk_acc: 0.8510 - loss: 1.0382 - m_x_acc: 0.1713 - m_y_acc: 0.4732 - no_fire: 0.1060 - wasd_acc: 0.7509(None, 32, 49152)\n",
      "\u001b[1m159/300\u001b[0m \u001b[32m━━━━━━━━━━\u001b[0m\u001b[37m━━━━━━━━━━\u001b[0m \u001b[1m3:27\u001b[0m 1s/step - crit_mse: 10.9331 - lclk_acc: 0.8515 - loss: 1.0377 - m_x_acc: 0.1714 - m_y_acc: 0.4735 - no_fire: 0.1057 - wasd_acc: 0.7510(None, 32, 49152)\n",
      "\u001b[1m160/300\u001b[0m \u001b[32m━━━━━━━━━━\u001b[0m\u001b[37m━━━━━━━━━━\u001b[0m \u001b[1m3:26\u001b[0m 1s/step - crit_mse: 10.9278 - lclk_acc: 0.8520 - loss: 1.0371 - m_x_acc: 0.1715 - m_y_acc: 0.4737 - no_fire: 0.1054 - wasd_acc: 0.7511(None, 32, 49152)\n",
      "\u001b[1m161/300\u001b[0m \u001b[32m━━━━━━━━━━\u001b[0m\u001b[37m━━━━━━━━━━\u001b[0m \u001b[1m3:24\u001b[0m 1s/step - crit_mse: 10.9227 - lclk_acc: 0.8526 - loss: 1.0366 - m_x_acc: 0.1716 - m_y_acc: 0.4739 - no_fire: 0.1051 - wasd_acc: 0.7512(None, 32, 49152)\n",
      "\u001b[1m162/300\u001b[0m \u001b[32m━━━━━━━━━━\u001b[0m\u001b[37m━━━━━━━━━━\u001b[0m \u001b[1m3:23\u001b[0m 1s/step - crit_mse: 10.9174 - lclk_acc: 0.8530 - loss: 1.0360 - m_x_acc: 0.1718 - m_y_acc: 0.4742 - no_fire: 0.1048 - wasd_acc: 0.7513(None, 32, 49152)\n",
      "\u001b[1m163/300\u001b[0m \u001b[32m━━━━━━━━━━\u001b[0m\u001b[37m━━━━━━━━━━\u001b[0m \u001b[1m3:21\u001b[0m 1s/step - crit_mse: 10.9122 - lclk_acc: 0.8535 - loss: 1.0355 - m_x_acc: 0.1719 - m_y_acc: 0.4744 - no_fire: 0.1045 - wasd_acc: 0.7514(None, 32, 49152)\n",
      "\u001b[1m164/300\u001b[0m \u001b[32m━━━━━━━━━━\u001b[0m\u001b[37m━━━━━━━━━━\u001b[0m \u001b[1m3:20\u001b[0m 1s/step - crit_mse: 10.9070 - lclk_acc: 0.8540 - loss: 1.0350 - m_x_acc: 0.1720 - m_y_acc: 0.4747 - no_fire: 0.1042 - wasd_acc: 0.7515(None, 32, 49152)\n",
      "\u001b[1m165/300\u001b[0m \u001b[32m━━━━━━━━━━━\u001b[0m\u001b[37m━━━━━━━━━\u001b[0m \u001b[1m3:18\u001b[0m 1s/step - crit_mse: 10.9018 - lclk_acc: 0.8545 - loss: 1.0344 - m_x_acc: 0.1721 - m_y_acc: 0.4749 - no_fire: 0.1039 - wasd_acc: 0.7516(None, 32, 49152)\n",
      "\u001b[1m166/300\u001b[0m \u001b[32m━━━━━━━━━━━\u001b[0m\u001b[37m━━━━━━━━━\u001b[0m \u001b[1m3:16\u001b[0m 1s/step - crit_mse: 10.8967 - lclk_acc: 0.8550 - loss: 1.0339 - m_x_acc: 0.1722 - m_y_acc: 0.4752 - no_fire: 0.1036 - wasd_acc: 0.7517(None, 32, 49152)\n",
      "\u001b[1m167/300\u001b[0m \u001b[32m━━━━━━━━━━━\u001b[0m\u001b[37m━━━━━━━━━\u001b[0m \u001b[1m3:15\u001b[0m 1s/step - crit_mse: 10.8918 - lclk_acc: 0.8554 - loss: 1.0334 - m_x_acc: 0.1723 - m_y_acc: 0.4754 - no_fire: 0.1033 - wasd_acc: 0.7518(None, 32, 49152)\n",
      "\u001b[1m168/300\u001b[0m \u001b[32m━━━━━━━━━━━\u001b[0m\u001b[37m━━━━━━━━━\u001b[0m \u001b[1m3:13\u001b[0m 1s/step - crit_mse: 10.8867 - lclk_acc: 0.8559 - loss: 1.0329 - m_x_acc: 0.1724 - m_y_acc: 0.4756 - no_fire: 0.1031 - wasd_acc: 0.7519(None, 32, 49152)\n",
      "\u001b[1m169/300\u001b[0m \u001b[32m━━━━━━━━━━━\u001b[0m\u001b[37m━━━━━━━━━\u001b[0m \u001b[1m3:12\u001b[0m 1s/step - crit_mse: 10.8816 - lclk_acc: 0.8564 - loss: 1.0324 - m_x_acc: 0.1725 - m_y_acc: 0.4758 - no_fire: 0.1028 - wasd_acc: 0.7520(None, 32, 49152)\n",
      "\u001b[1m170/300\u001b[0m \u001b[32m━━━━━━━━━━━\u001b[0m\u001b[37m━━━━━━━━━\u001b[0m \u001b[1m3:10\u001b[0m 1s/step - crit_mse: 10.8767 - lclk_acc: 0.8568 - loss: 1.0319 - m_x_acc: 0.1727 - m_y_acc: 0.4761 - no_fire: 0.1025 - wasd_acc: 0.7520(None, 32, 49152)\n",
      "\u001b[1m171/300\u001b[0m \u001b[32m━━━━━━━━━━━\u001b[0m\u001b[37m━━━━━━━━━\u001b[0m \u001b[1m3:09\u001b[0m 1s/step - crit_mse: 10.8719 - lclk_acc: 0.8573 - loss: 1.0314 - m_x_acc: 0.1728 - m_y_acc: 0.4763 - no_fire: 0.1022 - wasd_acc: 0.7521(None, 32, 49152)\n",
      "\u001b[1m172/300\u001b[0m \u001b[32m━━━━━━━━━━━\u001b[0m\u001b[37m━━━━━━━━━\u001b[0m \u001b[1m3:07\u001b[0m 1s/step - crit_mse: 10.8671 - lclk_acc: 0.8577 - loss: 1.0309 - m_x_acc: 0.1729 - m_y_acc: 0.4765 - no_fire: 0.1019 - wasd_acc: 0.7522(None, 32, 49152)\n",
      "\u001b[1m173/300\u001b[0m \u001b[32m━━━━━━━━━━━\u001b[0m\u001b[37m━━━━━━━━━\u001b[0m \u001b[1m3:06\u001b[0m 1s/step - crit_mse: 10.8622 - lclk_acc: 0.8582 - loss: 1.0304 - m_x_acc: 0.1730 - m_y_acc: 0.4767 - no_fire: 0.1016 - wasd_acc: 0.7523(None, 32, 49152)\n",
      "\u001b[1m174/300\u001b[0m \u001b[32m━━━━━━━━━━━\u001b[0m\u001b[37m━━━━━━━━━\u001b[0m \u001b[1m3:04\u001b[0m 1s/step - crit_mse: 10.8571 - lclk_acc: 0.8586 - loss: 1.0299 - m_x_acc: 0.1731 - m_y_acc: 0.4769 - no_fire: 0.1014 - wasd_acc: 0.7524(None, 32, 49152)\n",
      "\u001b[1m175/300\u001b[0m \u001b[32m━━━━━━━━━━━\u001b[0m\u001b[37m━━━━━━━━━\u001b[0m \u001b[1m3:03\u001b[0m 1s/step - crit_mse: 10.8521 - lclk_acc: 0.8591 - loss: 1.0294 - m_x_acc: 0.1732 - m_y_acc: 0.4771 - no_fire: 0.1011 - wasd_acc: 0.7525(None, 32, 49152)\n",
      "\u001b[1m176/300\u001b[0m \u001b[32m━━━━━━━━━━━\u001b[0m\u001b[37m━━━━━━━━━\u001b[0m \u001b[1m3:01\u001b[0m 1s/step - crit_mse: 10.8469 - lclk_acc: 0.8595 - loss: 1.0290 - m_x_acc: 0.1733 - m_y_acc: 0.4774 - no_fire: 0.1009 - wasd_acc: 0.7525(None, 32, 49152)\n",
      "\u001b[1m177/300\u001b[0m \u001b[32m━━━━━━━━━━━\u001b[0m\u001b[37m━━━━━━━━━\u001b[0m \u001b[1m3:00\u001b[0m 1s/step - crit_mse: 10.8419 - lclk_acc: 0.8599 - loss: 1.0285 - m_x_acc: 0.1734 - m_y_acc: 0.4776 - no_fire: 0.1006 - wasd_acc: 0.7526(None, 32, 49152)\n",
      "\u001b[1m178/300\u001b[0m \u001b[32m━━━━━━━━━━━\u001b[0m\u001b[37m━━━━━━━━━\u001b[0m \u001b[1m2:58\u001b[0m 1s/step - crit_mse: 10.8371 - lclk_acc: 0.8603 - loss: 1.0280 - m_x_acc: 0.1735 - m_y_acc: 0.4779 - no_fire: 0.1003 - wasd_acc: 0.7527(None, 32, 49152)\n",
      "\u001b[1m179/300\u001b[0m \u001b[32m━━━━━━━━━━━\u001b[0m\u001b[37m━━━━━━━━━\u001b[0m \u001b[1m2:57\u001b[0m 1s/step - crit_mse: 10.8322 - lclk_acc: 0.8608 - loss: 1.0275 - m_x_acc: 0.1736 - m_y_acc: 0.4781 - no_fire: 0.1001 - wasd_acc: 0.7528(None, 32, 49152)\n",
      "\u001b[1m180/300\u001b[0m \u001b[32m━━━━━━━━━━━━\u001b[0m\u001b[37m━━━━━━━━\u001b[0m \u001b[1m2:55\u001b[0m 1s/step - crit_mse: 10.8272 - lclk_acc: 0.8612 - loss: 1.0270 - m_x_acc: 0.1737 - m_y_acc: 0.4784 - no_fire: 0.0998 - wasd_acc: 0.7528(None, 32, 49152)\n",
      "\u001b[1m181/300\u001b[0m \u001b[32m━━━━━━━━━━━━\u001b[0m\u001b[37m━━━━━━━━\u001b[0m \u001b[1m2:54\u001b[0m 1s/step - crit_mse: 10.8224 - lclk_acc: 0.8616 - loss: 1.0265 - m_x_acc: 0.1738 - m_y_acc: 0.4786 - no_fire: 0.0996 - wasd_acc: 0.7529(None, 32, 49152)\n",
      "\u001b[1m182/300\u001b[0m \u001b[32m━━━━━━━━━━━━\u001b[0m\u001b[37m━━━━━━━━\u001b[0m \u001b[1m2:52\u001b[0m 1s/step - crit_mse: 10.8178 - lclk_acc: 0.8620 - loss: 1.0261 - m_x_acc: 0.1739 - m_y_acc: 0.4788 - no_fire: 0.0993 - wasd_acc: 0.7530(None, 32, 49152)\n",
      "\u001b[1m183/300\u001b[0m \u001b[32m━━━━━━━━━━━━\u001b[0m\u001b[37m━━━━━━━━\u001b[0m \u001b[1m2:51\u001b[0m 1s/step - crit_mse: 10.8132 - lclk_acc: 0.8624 - loss: 1.0256 - m_x_acc: 0.1740 - m_y_acc: 0.4791 - no_fire: 0.0991 - wasd_acc: 0.7531(None, 32, 49152)\n",
      "\u001b[1m184/300\u001b[0m \u001b[32m━━━━━━━━━━━━\u001b[0m\u001b[37m━━━━━━━━\u001b[0m \u001b[1m2:49\u001b[0m 1s/step - crit_mse: 10.8087 - lclk_acc: 0.8628 - loss: 1.0252 - m_x_acc: 0.1741 - m_y_acc: 0.4793 - no_fire: 0.0988 - wasd_acc: 0.7531(None, 32, 49152)\n",
      "\u001b[1m185/300\u001b[0m \u001b[32m━━━━━━━━━━━━\u001b[0m\u001b[37m━━━━━━━━\u001b[0m \u001b[1m2:48\u001b[0m 1s/step - crit_mse: 10.8042 - lclk_acc: 0.8632 - loss: 1.0247 - m_x_acc: 0.1742 - m_y_acc: 0.4795 - no_fire: 0.0986 - wasd_acc: 0.7532(None, 32, 49152)\n",
      "\u001b[1m186/300\u001b[0m \u001b[32m━━━━━━━━━━━━\u001b[0m\u001b[37m━━━━━━━━\u001b[0m \u001b[1m2:47\u001b[0m 1s/step - crit_mse: 10.7997 - lclk_acc: 0.8636 - loss: 1.0243 - m_x_acc: 0.1743 - m_y_acc: 0.4797 - no_fire: 0.0983 - wasd_acc: 0.7533(None, 32, 49152)\n",
      "\u001b[1m187/300\u001b[0m \u001b[32m━━━━━━━━━━━━\u001b[0m\u001b[37m━━━━━━━━\u001b[0m \u001b[1m2:45\u001b[0m 1s/step - crit_mse: 10.7952 - lclk_acc: 0.8640 - loss: 1.0239 - m_x_acc: 0.1744 - m_y_acc: 0.4799 - no_fire: 0.0981 - wasd_acc: 0.7533(None, 32, 49152)\n",
      "\u001b[1m188/300\u001b[0m \u001b[32m━━━━━━━━━━━━\u001b[0m\u001b[37m━━━━━━━━\u001b[0m \u001b[1m2:44\u001b[0m 1s/step - crit_mse: 10.7909 - lclk_acc: 0.8644 - loss: 1.0234 - m_x_acc: 0.1744 - m_y_acc: 0.4800 - no_fire: 0.0978 - wasd_acc: 0.7534(None, 32, 49152)\n",
      "\u001b[1m189/300\u001b[0m \u001b[32m━━━━━━━━━━━━\u001b[0m\u001b[37m━━━━━━━━\u001b[0m \u001b[1m2:42\u001b[0m 1s/step - crit_mse: 10.7864 - lclk_acc: 0.8648 - loss: 1.0230 - m_x_acc: 0.1745 - m_y_acc: 0.4802 - no_fire: 0.0976 - wasd_acc: 0.7535(None, 32, 49152)\n",
      "\u001b[1m190/300\u001b[0m \u001b[32m━━━━━━━━━━━━\u001b[0m\u001b[37m━━━━━━━━\u001b[0m \u001b[1m2:41\u001b[0m 1s/step - crit_mse: 10.7821 - lclk_acc: 0.8652 - loss: 1.0226 - m_x_acc: 0.1746 - m_y_acc: 0.4804 - no_fire: 0.0973 - wasd_acc: 0.7536(None, 32, 49152)\n",
      "\u001b[1m191/300\u001b[0m \u001b[32m━━━━━━━━━━━━\u001b[0m\u001b[37m━━━━━━━━\u001b[0m \u001b[1m2:39\u001b[0m 1s/step - crit_mse: 10.7776 - lclk_acc: 0.8656 - loss: 1.0221 - m_x_acc: 0.1747 - m_y_acc: 0.4806 - no_fire: 0.0971 - wasd_acc: 0.7536(None, 32, 49152)\n",
      "\u001b[1m192/300\u001b[0m \u001b[32m━━━━━━━━━━━━\u001b[0m\u001b[37m━━━━━━━━\u001b[0m \u001b[1m2:38\u001b[0m 1s/step - crit_mse: 10.7732 - lclk_acc: 0.8660 - loss: 1.0217 - m_x_acc: 0.1748 - m_y_acc: 0.4808 - no_fire: 0.0969 - wasd_acc: 0.7537(None, 32, 49152)\n",
      "\u001b[1m193/300\u001b[0m \u001b[32m━━━━━━━━━━━━\u001b[0m\u001b[37m━━━━━━━━\u001b[0m \u001b[1m2:36\u001b[0m 1s/step - crit_mse: 10.7688 - lclk_acc: 0.8663 - loss: 1.0213 - m_x_acc: 0.1749 - m_y_acc: 0.4810 - no_fire: 0.0966 - wasd_acc: 0.7538(None, 32, 49152)\n",
      "\u001b[1m194/300\u001b[0m \u001b[32m━━━━━━━━━━━━\u001b[0m\u001b[37m━━━━━━━━\u001b[0m \u001b[1m2:35\u001b[0m 1s/step - crit_mse: 10.7644 - lclk_acc: 0.8667 - loss: 1.0209 - m_x_acc: 0.1750 - m_y_acc: 0.4812 - no_fire: 0.0964 - wasd_acc: 0.7538(None, 32, 49152)\n",
      "\u001b[1m195/300\u001b[0m \u001b[32m━━━━━━━━━━━━━\u001b[0m\u001b[37m━━━━━━━\u001b[0m \u001b[1m2:33\u001b[0m 1s/step - crit_mse: 10.7599 - lclk_acc: 0.8671 - loss: 1.0205 - m_x_acc: 0.1751 - m_y_acc: 0.4813 - no_fire: 0.0962 - wasd_acc: 0.7539(None, 32, 49152)\n",
      "\u001b[1m196/300\u001b[0m \u001b[32m━━━━━━━━━━━━━\u001b[0m\u001b[37m━━━━━━━\u001b[0m \u001b[1m2:32\u001b[0m 1s/step - crit_mse: 10.7553 - lclk_acc: 0.8674 - loss: 1.0201 - m_x_acc: 0.1752 - m_y_acc: 0.4815 - no_fire: 0.0960 - wasd_acc: 0.7540(None, 32, 49152)\n",
      "\u001b[1m197/300\u001b[0m \u001b[32m━━━━━━━━━━━━━\u001b[0m\u001b[37m━━━━━━━\u001b[0m \u001b[1m2:31\u001b[0m 1s/step - crit_mse: 10.7506 - lclk_acc: 0.8678 - loss: 1.0197 - m_x_acc: 0.1752 - m_y_acc: 0.4816 - no_fire: 0.0957 - wasd_acc: 0.7540(None, 32, 49152)\n",
      "\u001b[1m198/300\u001b[0m \u001b[32m━━━━━━━━━━━━━\u001b[0m\u001b[37m━━━━━━━\u001b[0m \u001b[1m2:29\u001b[0m 1s/step - crit_mse: 10.7460 - lclk_acc: 0.8682 - loss: 1.0193 - m_x_acc: 0.1753 - m_y_acc: 0.4818 - no_fire: 0.0955 - wasd_acc: 0.7541(None, 32, 49152)\n",
      "\u001b[1m199/300\u001b[0m \u001b[32m━━━━━━━━━━━━━\u001b[0m\u001b[37m━━━━━━━\u001b[0m \u001b[1m2:28\u001b[0m 1s/step - crit_mse: 10.7415 - lclk_acc: 0.8685 - loss: 1.0189 - m_x_acc: 0.1754 - m_y_acc: 0.4820 - no_fire: 0.0953 - wasd_acc: 0.7542(None, 32, 49152)\n",
      "\u001b[1m200/300\u001b[0m \u001b[32m━━━━━━━━━━━━━\u001b[0m\u001b[37m━━━━━━━\u001b[0m \u001b[1m2:26\u001b[0m 1s/step - crit_mse: 10.7370 - lclk_acc: 0.8689 - loss: 1.0185 - m_x_acc: 0.1755 - m_y_acc: 0.4821 - no_fire: 0.0951 - wasd_acc: 0.7543(None, 32, 49152)\n",
      "\u001b[1m201/300\u001b[0m \u001b[32m━━━━━━━━━━━━━\u001b[0m\u001b[37m━━━━━━━\u001b[0m \u001b[1m2:25\u001b[0m 1s/step - crit_mse: 10.7325 - lclk_acc: 0.8692 - loss: 1.0181 - m_x_acc: 0.1756 - m_y_acc: 0.4823 - no_fire: 0.0949 - wasd_acc: 0.7543(None, 32, 49152)\n",
      "\u001b[1m202/300\u001b[0m \u001b[32m━━━━━━━━━━━━━\u001b[0m\u001b[37m━━━━━━━\u001b[0m \u001b[1m2:23\u001b[0m 1s/step - crit_mse: 10.7281 - lclk_acc: 0.8696 - loss: 1.0178 - m_x_acc: 0.1757 - m_y_acc: 0.4824 - no_fire: 0.0946 - wasd_acc: 0.7544(None, 32, 49152)\n",
      "\u001b[1m203/300\u001b[0m \u001b[32m━━━━━━━━━━━━━\u001b[0m\u001b[37m━━━━━━━\u001b[0m \u001b[1m2:22\u001b[0m 1s/step - crit_mse: 10.7237 - lclk_acc: 0.8699 - loss: 1.0174 - m_x_acc: 0.1758 - m_y_acc: 0.4825 - no_fire: 0.0944 - wasd_acc: 0.7545(None, 32, 49152)\n",
      "\u001b[1m204/300\u001b[0m \u001b[32m━━━━━━━━━━━━━\u001b[0m\u001b[37m━━━━━━━\u001b[0m \u001b[1m2:20\u001b[0m 1s/step - crit_mse: 10.7192 - lclk_acc: 0.8703 - loss: 1.0170 - m_x_acc: 0.1759 - m_y_acc: 0.4827 - no_fire: 0.0942 - wasd_acc: 0.7545(None, 32, 49152)\n",
      "\u001b[1m205/300\u001b[0m \u001b[32m━━━━━━━━━━━━━\u001b[0m\u001b[37m━━━━━━━\u001b[0m \u001b[1m2:19\u001b[0m 1s/step - crit_mse: 10.7147 - lclk_acc: 0.8706 - loss: 1.0166 - m_x_acc: 0.1760 - m_y_acc: 0.4828 - no_fire: 0.0940 - wasd_acc: 0.7546(None, 32, 49152)\n",
      "\u001b[1m206/300\u001b[0m \u001b[32m━━━━━━━━━━━━━\u001b[0m\u001b[37m━━━━━━━\u001b[0m \u001b[1m2:17\u001b[0m 1s/step - crit_mse: 10.7102 - lclk_acc: 0.8709 - loss: 1.0162 - m_x_acc: 0.1761 - m_y_acc: 0.4830 - no_fire: 0.0938 - wasd_acc: 0.7547(None, 32, 49152)\n",
      "\u001b[1m207/300\u001b[0m \u001b[32m━━━━━━━━━━━━━\u001b[0m\u001b[37m━━━━━━━\u001b[0m \u001b[1m2:16\u001b[0m 1s/step - crit_mse: 10.7055 - lclk_acc: 0.8713 - loss: 1.0159 - m_x_acc: 0.1762 - m_y_acc: 0.4831 - no_fire: 0.0936 - wasd_acc: 0.7547(None, 32, 49152)\n",
      "\u001b[1m208/300\u001b[0m \u001b[32m━━━━━━━━━━━━━\u001b[0m\u001b[37m━━━━━━━\u001b[0m \u001b[1m2:14\u001b[0m 1s/step - crit_mse: 10.7009 - lclk_acc: 0.8716 - loss: 1.0155 - m_x_acc: 0.1763 - m_y_acc: 0.4833 - no_fire: 0.0934 - wasd_acc: 0.7548(None, 32, 49152)\n",
      "\u001b[1m209/300\u001b[0m \u001b[32m━━━━━━━━━━━━━\u001b[0m\u001b[37m━━━━━━━\u001b[0m \u001b[1m2:13\u001b[0m 1s/step - crit_mse: 10.6964 - lclk_acc: 0.8719 - loss: 1.0151 - m_x_acc: 0.1764 - m_y_acc: 0.4834 - no_fire: 0.0932 - wasd_acc: 0.7549(None, 32, 49152)\n",
      "\u001b[1m210/300\u001b[0m \u001b[32m━━━━━━━━━━━━━━\u001b[0m\u001b[37m━━━━━━\u001b[0m \u001b[1m2:11\u001b[0m 1s/step - crit_mse: 10.6919 - lclk_acc: 0.8722 - loss: 1.0148 - m_x_acc: 0.1765 - m_y_acc: 0.4836 - no_fire: 0.0930 - wasd_acc: 0.7549(None, 32, 49152)\n",
      "\u001b[1m211/300\u001b[0m \u001b[32m━━━━━━━━━━━━━━\u001b[0m\u001b[37m━━━━━━\u001b[0m \u001b[1m2:10\u001b[0m 1s/step - crit_mse: 10.6874 - lclk_acc: 0.8726 - loss: 1.0144 - m_x_acc: 0.1766 - m_y_acc: 0.4837 - no_fire: 0.0928 - wasd_acc: 0.7550(None, 32, 49152)\n",
      "\u001b[1m212/300\u001b[0m \u001b[32m━━━━━━━━━━━━━━\u001b[0m\u001b[37m━━━━━━\u001b[0m \u001b[1m2:08\u001b[0m 1s/step - crit_mse: 10.6828 - lclk_acc: 0.8729 - loss: 1.0140 - m_x_acc: 0.1766 - m_y_acc: 0.4838 - no_fire: 0.0926 - wasd_acc: 0.7551(None, 32, 49152)\n",
      "\u001b[1m213/300\u001b[0m \u001b[32m━━━━━━━━━━━━━━\u001b[0m\u001b[37m━━━━━━\u001b[0m \u001b[1m2:07\u001b[0m 1s/step - crit_mse: 10.6783 - lclk_acc: 0.8732 - loss: 1.0137 - m_x_acc: 0.1767 - m_y_acc: 0.4840 - no_fire: 0.0924 - wasd_acc: 0.7551(None, 32, 49152)\n",
      "\u001b[1m214/300\u001b[0m \u001b[32m━━━━━━━━━━━━━━\u001b[0m\u001b[37m━━━━━━\u001b[0m \u001b[1m2:05\u001b[0m 1s/step - crit_mse: 10.6736 - lclk_acc: 0.8735 - loss: 1.0133 - m_x_acc: 0.1768 - m_y_acc: 0.4841 - no_fire: 0.0922 - wasd_acc: 0.7552(None, 32, 49152)\n",
      "\u001b[1m215/300\u001b[0m \u001b[32m━━━━━━━━━━━━━━\u001b[0m\u001b[37m━━━━━━\u001b[0m \u001b[1m2:04\u001b[0m 1s/step - crit_mse: 10.6690 - lclk_acc: 0.8738 - loss: 1.0129 - m_x_acc: 0.1769 - m_y_acc: 0.4843 - no_fire: 0.0920 - wasd_acc: 0.7553(None, 32, 49152)\n",
      "\u001b[1m216/300\u001b[0m \u001b[32m━━━━━━━━━━━━━━\u001b[0m\u001b[37m━━━━━━\u001b[0m \u001b[1m2:02\u001b[0m 1s/step - crit_mse: 10.6643 - lclk_acc: 0.8741 - loss: 1.0126 - m_x_acc: 0.1770 - m_y_acc: 0.4844 - no_fire: 0.0919 - wasd_acc: 0.7553(None, 32, 49152)\n",
      "\u001b[1m217/300\u001b[0m \u001b[32m━━━━━━━━━━━━━━\u001b[0m\u001b[37m━━━━━━\u001b[0m \u001b[1m2:01\u001b[0m 1s/step - crit_mse: 10.6597 - lclk_acc: 0.8744 - loss: 1.0122 - m_x_acc: 0.1771 - m_y_acc: 0.4845 - no_fire: 0.0917 - wasd_acc: 0.7554(None, 32, 49152)\n",
      "\u001b[1m218/300\u001b[0m \u001b[32m━━━━━━━━━━━━━━\u001b[0m\u001b[37m━━━━━━\u001b[0m \u001b[1m2:00\u001b[0m 1s/step - crit_mse: 10.6551 - lclk_acc: 0.8747 - loss: 1.0118 - m_x_acc: 0.1773 - m_y_acc: 0.4847 - no_fire: 0.0915 - wasd_acc: 0.7555(None, 32, 49152)\n",
      "\u001b[1m219/300\u001b[0m \u001b[32m━━━━━━━━━━━━━━\u001b[0m\u001b[37m━━━━━━\u001b[0m \u001b[1m1:58\u001b[0m 1s/step - crit_mse: 10.6505 - lclk_acc: 0.8750 - loss: 1.0115 - m_x_acc: 0.1774 - m_y_acc: 0.4848 - no_fire: 0.0913 - wasd_acc: 0.7555(None, 32, 49152)\n",
      "\u001b[1m220/300\u001b[0m \u001b[32m━━━━━━━━━━━━━━\u001b[0m\u001b[37m━━━━━━\u001b[0m \u001b[1m1:56\u001b[0m 1s/step - crit_mse: 10.6460 - lclk_acc: 0.8753 - loss: 1.0111 - m_x_acc: 0.1775 - m_y_acc: 0.4849 - no_fire: 0.0912 - wasd_acc: 0.7556(None, 32, 49152)\n",
      "\u001b[1m221/300\u001b[0m \u001b[32m━━━━━━━━━━━━━━\u001b[0m\u001b[37m━━━━━━\u001b[0m \u001b[1m1:55\u001b[0m 1s/step - crit_mse: 10.6415 - lclk_acc: 0.8756 - loss: 1.0108 - m_x_acc: 0.1776 - m_y_acc: 0.4851 - no_fire: 0.0910 - wasd_acc: 0.7557(None, 32, 49152)\n",
      "\u001b[1m222/300\u001b[0m \u001b[32m━━━━━━━━━━━━━━\u001b[0m\u001b[37m━━━━━━\u001b[0m \u001b[1m1:54\u001b[0m 1s/step - crit_mse: 10.6369 - lclk_acc: 0.8759 - loss: 1.0104 - m_x_acc: 0.1777 - m_y_acc: 0.4852 - no_fire: 0.0908 - wasd_acc: 0.7558(None, 32, 49152)\n",
      "\u001b[1m223/300\u001b[0m \u001b[32m━━━━━━━━━━━━━━\u001b[0m\u001b[37m━━━━━━\u001b[0m \u001b[1m1:52\u001b[0m 1s/step - crit_mse: 10.6324 - lclk_acc: 0.8761 - loss: 1.0101 - m_x_acc: 0.1778 - m_y_acc: 0.4853 - no_fire: 0.0906 - wasd_acc: 0.7558(None, 32, 49152)\n",
      "\u001b[1m224/300\u001b[0m \u001b[32m━━━━━━━━━━━━━━\u001b[0m\u001b[37m━━━━━━\u001b[0m \u001b[1m1:51\u001b[0m 1s/step - crit_mse: 10.6281 - lclk_acc: 0.8764 - loss: 1.0097 - m_x_acc: 0.1779 - m_y_acc: 0.4854 - no_fire: 0.0905 - wasd_acc: 0.7559(None, 32, 49152)\n",
      "\u001b[1m225/300\u001b[0m \u001b[32m━━━━━━━━━━━━━━━\u001b[0m\u001b[37m━━━━━\u001b[0m \u001b[1m1:49\u001b[0m 1s/step - crit_mse: 10.6237 - lclk_acc: 0.8767 - loss: 1.0094 - m_x_acc: 0.1780 - m_y_acc: 0.4856 - no_fire: 0.0903 - wasd_acc: 0.7560(None, 32, 49152)\n",
      "\u001b[1m226/300\u001b[0m \u001b[32m━━━━━━━━━━━━━━━\u001b[0m\u001b[37m━━━━━\u001b[0m \u001b[1m1:48\u001b[0m 1s/step - crit_mse: 10.6193 - lclk_acc: 0.8770 - loss: 1.0090 - m_x_acc: 0.1782 - m_y_acc: 0.4857 - no_fire: 0.0902 - wasd_acc: 0.7561(None, 32, 49152)\n",
      "\u001b[1m227/300\u001b[0m \u001b[32m━━━━━━━━━━━━━━━\u001b[0m\u001b[37m━━━━━\u001b[0m \u001b[1m1:46\u001b[0m 1s/step - crit_mse: 10.6151 - lclk_acc: 0.8772 - loss: 1.0087 - m_x_acc: 0.1783 - m_y_acc: 0.4858 - no_fire: 0.0900 - wasd_acc: 0.7562(None, 32, 49152)\n",
      "\u001b[1m228/300\u001b[0m \u001b[32m━━━━━━━━━━━━━━━\u001b[0m\u001b[37m━━━━━\u001b[0m \u001b[1m1:45\u001b[0m 1s/step - crit_mse: 10.6110 - lclk_acc: 0.8775 - loss: 1.0083 - m_x_acc: 0.1784 - m_y_acc: 0.4859 - no_fire: 0.0898 - wasd_acc: 0.7562(None, 32, 49152)\n",
      "\u001b[1m229/300\u001b[0m \u001b[32m━━━━━━━━━━━━━━━\u001b[0m\u001b[37m━━━━━\u001b[0m \u001b[1m1:43\u001b[0m 1s/step - crit_mse: 10.6069 - lclk_acc: 0.8778 - loss: 1.0080 - m_x_acc: 0.1785 - m_y_acc: 0.4861 - no_fire: 0.0897 - wasd_acc: 0.7563(None, 32, 49152)\n",
      "\u001b[1m230/300\u001b[0m \u001b[32m━━━━━━━━━━━━━━━\u001b[0m\u001b[37m━━━━━\u001b[0m \u001b[1m1:42\u001b[0m 1s/step - crit_mse: 10.6027 - lclk_acc: 0.8780 - loss: 1.0076 - m_x_acc: 0.1786 - m_y_acc: 0.4862 - no_fire: 0.0895 - wasd_acc: 0.7564(None, 32, 49152)\n",
      "\u001b[1m231/300\u001b[0m \u001b[32m━━━━━━━━━━━━━━━\u001b[0m\u001b[37m━━━━━\u001b[0m \u001b[1m1:40\u001b[0m 1s/step - crit_mse: 10.5985 - lclk_acc: 0.8783 - loss: 1.0073 - m_x_acc: 0.1787 - m_y_acc: 0.4863 - no_fire: 0.0893 - wasd_acc: 0.7565(None, 32, 49152)\n",
      "\u001b[1m232/300\u001b[0m \u001b[32m━━━━━━━━━━━━━━━\u001b[0m\u001b[37m━━━━━\u001b[0m \u001b[1m1:39\u001b[0m 1s/step - crit_mse: 10.5943 - lclk_acc: 0.8786 - loss: 1.0069 - m_x_acc: 0.1789 - m_y_acc: 0.4864 - no_fire: 0.0892 - wasd_acc: 0.7566(None, 32, 49152)\n",
      "\u001b[1m233/300\u001b[0m \u001b[32m━━━━━━━━━━━━━━━\u001b[0m\u001b[37m━━━━━\u001b[0m \u001b[1m1:38\u001b[0m 1s/step - crit_mse: 10.5901 - lclk_acc: 0.8788 - loss: 1.0066 - m_x_acc: 0.1790 - m_y_acc: 0.4866 - no_fire: 0.0890 - wasd_acc: 0.7566(None, 32, 49152)\n",
      "\u001b[1m234/300\u001b[0m \u001b[32m━━━━━━━━━━━━━━━\u001b[0m\u001b[37m━━━━━\u001b[0m \u001b[1m1:36\u001b[0m 1s/step - crit_mse: 10.5859 - lclk_acc: 0.8791 - loss: 1.0063 - m_x_acc: 0.1791 - m_y_acc: 0.4867 - no_fire: 0.0889 - wasd_acc: 0.7567(None, 32, 49152)\n",
      "\u001b[1m235/300\u001b[0m \u001b[32m━━━━━━━━━━━━━━━\u001b[0m\u001b[37m━━━━━\u001b[0m \u001b[1m1:35\u001b[0m 1s/step - crit_mse: 10.5816 - lclk_acc: 0.8793 - loss: 1.0059 - m_x_acc: 0.1793 - m_y_acc: 0.4868 - no_fire: 0.0888 - wasd_acc: 0.7568(None, 32, 49152)\n",
      "\u001b[1m236/300\u001b[0m \u001b[32m━━━━━━━━━━━━━━━\u001b[0m\u001b[37m━━━━━\u001b[0m \u001b[1m1:33\u001b[0m 1s/step - crit_mse: 10.5774 - lclk_acc: 0.8796 - loss: 1.0056 - m_x_acc: 0.1794 - m_y_acc: 0.4869 - no_fire: 0.0886 - wasd_acc: 0.7569(None, 32, 49152)\n",
      "\u001b[1m237/300\u001b[0m \u001b[32m━━━━━━━━━━━━━━━\u001b[0m\u001b[37m━━━━━\u001b[0m \u001b[1m1:32\u001b[0m 1s/step - crit_mse: 10.5732 - lclk_acc: 0.8798 - loss: 1.0053 - m_x_acc: 0.1796 - m_y_acc: 0.4871 - no_fire: 0.0885 - wasd_acc: 0.7570(None, 32, 49152)\n",
      "\u001b[1m238/300\u001b[0m \u001b[32m━━━━━━━━━━━━━━━\u001b[0m\u001b[37m━━━━━\u001b[0m \u001b[1m1:30\u001b[0m 1s/step - crit_mse: 10.5691 - lclk_acc: 0.8800 - loss: 1.0049 - m_x_acc: 0.1797 - m_y_acc: 0.4872 - no_fire: 0.0883 - wasd_acc: 0.7570(None, 32, 49152)\n",
      "\u001b[1m239/300\u001b[0m \u001b[32m━━━━━━━━━━━━━━━\u001b[0m\u001b[37m━━━━━\u001b[0m \u001b[1m1:29\u001b[0m 1s/step - crit_mse: 10.5651 - lclk_acc: 0.8803 - loss: 1.0046 - m_x_acc: 0.1798 - m_y_acc: 0.4873 - no_fire: 0.0882 - wasd_acc: 0.7571(None, 32, 49152)\n",
      "\u001b[1m240/300\u001b[0m \u001b[32m━━━━━━━━━━━━━━━━\u001b[0m\u001b[37m━━━━\u001b[0m \u001b[1m1:27\u001b[0m 1s/step - crit_mse: 10.5609 - lclk_acc: 0.8805 - loss: 1.0043 - m_x_acc: 0.1799 - m_y_acc: 0.4874 - no_fire: 0.0881 - wasd_acc: 0.7572(None, 32, 49152)\n",
      "\u001b[1m241/300\u001b[0m \u001b[32m━━━━━━━━━━━━━━━━\u001b[0m\u001b[37m━━━━\u001b[0m \u001b[1m1:26\u001b[0m 1s/step - crit_mse: 10.5569 - lclk_acc: 0.8808 - loss: 1.0039 - m_x_acc: 0.1801 - m_y_acc: 0.4875 - no_fire: 0.0879 - wasd_acc: 0.7573(None, 32, 49152)\n",
      "\u001b[1m242/300\u001b[0m \u001b[32m━━━━━━━━━━━━━━━━\u001b[0m\u001b[37m━━━━\u001b[0m \u001b[1m1:24\u001b[0m 1s/step - crit_mse: 10.5528 - lclk_acc: 0.8810 - loss: 1.0036 - m_x_acc: 0.1802 - m_y_acc: 0.4876 - no_fire: 0.0878 - wasd_acc: 0.7574(None, 32, 49152)\n",
      "\u001b[1m243/300\u001b[0m \u001b[32m━━━━━━━━━━━━━━━━\u001b[0m\u001b[37m━━━━\u001b[0m \u001b[1m1:23\u001b[0m 1s/step - crit_mse: 10.5488 - lclk_acc: 0.8812 - loss: 1.0033 - m_x_acc: 0.1803 - m_y_acc: 0.4877 - no_fire: 0.0877 - wasd_acc: 0.7574(None, 32, 49152)\n",
      "\u001b[1m244/300\u001b[0m \u001b[32m━━━━━━━━━━━━━━━━\u001b[0m\u001b[37m━━━━\u001b[0m \u001b[1m1:21\u001b[0m 1s/step - crit_mse: 10.5447 - lclk_acc: 0.8815 - loss: 1.0030 - m_x_acc: 0.1805 - m_y_acc: 0.4878 - no_fire: 0.0875 - wasd_acc: 0.7575(None, 32, 49152)\n",
      "\u001b[1m245/300\u001b[0m \u001b[32m━━━━━━━━━━━━━━━━\u001b[0m\u001b[37m━━━━\u001b[0m \u001b[1m1:20\u001b[0m 1s/step - crit_mse: 10.5406 - lclk_acc: 0.8817 - loss: 1.0027 - m_x_acc: 0.1806 - m_y_acc: 0.4880 - no_fire: 0.0874 - wasd_acc: 0.7576(None, 32, 49152)\n",
      "\u001b[1m246/300\u001b[0m \u001b[32m━━━━━━━━━━━━━━━━\u001b[0m\u001b[37m━━━━\u001b[0m \u001b[1m1:18\u001b[0m 1s/step - crit_mse: 10.5365 - lclk_acc: 0.8819 - loss: 1.0023 - m_x_acc: 0.1808 - m_y_acc: 0.4881 - no_fire: 0.0873 - wasd_acc: 0.7577(None, 32, 49152)\n",
      "\u001b[1m247/300\u001b[0m \u001b[32m━━━━━━━━━━━━━━━━\u001b[0m\u001b[37m━━━━\u001b[0m \u001b[1m1:17\u001b[0m 1s/step - crit_mse: 10.5325 - lclk_acc: 0.8821 - loss: 1.0020 - m_x_acc: 0.1809 - m_y_acc: 0.4882 - no_fire: 0.0871 - wasd_acc: 0.7578(None, 32, 49152)\n",
      "\u001b[1m248/300\u001b[0m \u001b[32m━━━━━━━━━━━━━━━━\u001b[0m\u001b[37m━━━━\u001b[0m \u001b[1m1:15\u001b[0m 1s/step - crit_mse: 10.5285 - lclk_acc: 0.8824 - loss: 1.0017 - m_x_acc: 0.1810 - m_y_acc: 0.4883 - no_fire: 0.0870 - wasd_acc: 0.7578(None, 32, 49152)\n",
      "\u001b[1m249/300\u001b[0m \u001b[32m━━━━━━━━━━━━━━━━\u001b[0m\u001b[37m━━━━\u001b[0m \u001b[1m1:14\u001b[0m 1s/step - crit_mse: 10.5245 - lclk_acc: 0.8826 - loss: 1.0014 - m_x_acc: 0.1812 - m_y_acc: 0.4885 - no_fire: 0.0869 - wasd_acc: 0.7579(None, 32, 49152)\n",
      "\u001b[1m250/300\u001b[0m \u001b[32m━━━━━━━━━━━━━━━━\u001b[0m\u001b[37m━━━━\u001b[0m \u001b[1m1:12\u001b[0m 1s/step - crit_mse: 10.5205 - lclk_acc: 0.8828 - loss: 1.0010 - m_x_acc: 0.1813 - m_y_acc: 0.4886 - no_fire: 0.0867 - wasd_acc: 0.7580(None, 32, 49152)\n",
      "\u001b[1m251/300\u001b[0m \u001b[32m━━━━━━━━━━━━━━━━\u001b[0m\u001b[37m━━━━\u001b[0m \u001b[1m1:11\u001b[0m 1s/step - crit_mse: 10.5165 - lclk_acc: 0.8830 - loss: 1.0007 - m_x_acc: 0.1814 - m_y_acc: 0.4887 - no_fire: 0.0866 - wasd_acc: 0.7581(None, 32, 49152)\n",
      "\u001b[1m252/300\u001b[0m \u001b[32m━━━━━━━━━━━━━━━━\u001b[0m\u001b[37m━━━━\u001b[0m \u001b[1m1:10\u001b[0m 1s/step - crit_mse: 10.5124 - lclk_acc: 0.8833 - loss: 1.0004 - m_x_acc: 0.1816 - m_y_acc: 0.4888 - no_fire: 0.0865 - wasd_acc: 0.7582(None, 32, 49152)\n",
      "\u001b[1m253/300\u001b[0m \u001b[32m━━━━━━━━━━━━━━━━\u001b[0m\u001b[37m━━━━\u001b[0m \u001b[1m1:08\u001b[0m 1s/step - crit_mse: 10.5082 - lclk_acc: 0.8835 - loss: 1.0001 - m_x_acc: 0.1817 - m_y_acc: 0.4889 - no_fire: 0.0864 - wasd_acc: 0.7583(None, 32, 49152)\n",
      "\u001b[1m254/300\u001b[0m \u001b[32m━━━━━━━━━━━━━━━━\u001b[0m\u001b[37m━━━━\u001b[0m \u001b[1m1:07\u001b[0m 1s/step - crit_mse: 10.5041 - lclk_acc: 0.8837 - loss: 0.9998 - m_x_acc: 0.1818 - m_y_acc: 0.4890 - no_fire: 0.0862 - wasd_acc: 0.7584(None, 32, 49152)\n",
      "\u001b[1m255/300\u001b[0m \u001b[32m━━━━━━━━━━━━━━━━━\u001b[0m\u001b[37m━━━\u001b[0m \u001b[1m1:05\u001b[0m 1s/step - crit_mse: 10.5000 - lclk_acc: 0.8839 - loss: 0.9994 - m_x_acc: 0.1820 - m_y_acc: 0.4892 - no_fire: 0.0861 - wasd_acc: 0.7584(None, 32, 49152)\n",
      "\u001b[1m256/300\u001b[0m \u001b[32m━━━━━━━━━━━━━━━━━\u001b[0m\u001b[37m━━━\u001b[0m \u001b[1m1:04\u001b[0m 1s/step - crit_mse: 10.4958 - lclk_acc: 0.8841 - loss: 0.9991 - m_x_acc: 0.1821 - m_y_acc: 0.4893 - no_fire: 0.0860 - wasd_acc: 0.7585(None, 32, 49152)\n",
      "\u001b[1m257/300\u001b[0m \u001b[32m━━━━━━━━━━━━━━━━━\u001b[0m\u001b[37m━━━\u001b[0m \u001b[1m1:02\u001b[0m 1s/step - crit_mse: 10.4917 - lclk_acc: 0.8843 - loss: 0.9988 - m_x_acc: 0.1822 - m_y_acc: 0.4894 - no_fire: 0.0859 - wasd_acc: 0.7586(None, 32, 49152)\n",
      "\u001b[1m258/300\u001b[0m \u001b[32m━━━━━━━━━━━━━━━━━\u001b[0m\u001b[37m━━━\u001b[0m \u001b[1m1:01\u001b[0m 1s/step - crit_mse: 10.4875 - lclk_acc: 0.8845 - loss: 0.9985 - m_x_acc: 0.1824 - m_y_acc: 0.4895 - no_fire: 0.0858 - wasd_acc: 0.7587(None, 32, 49152)\n",
      "\u001b[1m259/300\u001b[0m \u001b[32m━━━━━━━━━━━━━━━━━\u001b[0m\u001b[37m━━━\u001b[0m \u001b[1m59s\u001b[0m 1s/step - crit_mse: 10.4834 - lclk_acc: 0.8847 - loss: 0.9982 - m_x_acc: 0.1825 - m_y_acc: 0.4896 - no_fire: 0.0856 - wasd_acc: 0.7588 (None, 32, 49152)\n",
      "\u001b[1m260/300\u001b[0m \u001b[32m━━━━━━━━━━━━━━━━━\u001b[0m\u001b[37m━━━\u001b[0m \u001b[1m58s\u001b[0m 1s/step - crit_mse: 10.4792 - lclk_acc: 0.8849 - loss: 0.9979 - m_x_acc: 0.1827 - m_y_acc: 0.4897 - no_fire: 0.0855 - wasd_acc: 0.7589(None, 32, 49152)\n",
      "\u001b[1m261/300\u001b[0m \u001b[32m━━━━━━━━━━━━━━━━━\u001b[0m\u001b[37m━━━\u001b[0m \u001b[1m56s\u001b[0m 1s/step - crit_mse: 10.4750 - lclk_acc: 0.8852 - loss: 0.9976 - m_x_acc: 0.1828 - m_y_acc: 0.4898 - no_fire: 0.0854 - wasd_acc: 0.7590(None, 32, 49152)\n",
      "\u001b[1m262/300\u001b[0m \u001b[32m━━━━━━━━━━━━━━━━━\u001b[0m\u001b[37m━━━\u001b[0m \u001b[1m55s\u001b[0m 1s/step - crit_mse: 10.4708 - lclk_acc: 0.8854 - loss: 0.9973 - m_x_acc: 0.1829 - m_y_acc: 0.4899 - no_fire: 0.0853 - wasd_acc: 0.7591(None, 32, 49152)\n",
      "\u001b[1m263/300\u001b[0m \u001b[32m━━━━━━━━━━━━━━━━━\u001b[0m\u001b[37m━━━\u001b[0m \u001b[1m54s\u001b[0m 1s/step - crit_mse: 10.4665 - lclk_acc: 0.8856 - loss: 0.9969 - m_x_acc: 0.1830 - m_y_acc: 0.4900 - no_fire: 0.0852 - wasd_acc: 0.7591(None, 32, 49152)\n",
      "\u001b[1m264/300\u001b[0m \u001b[32m━━━━━━━━━━━━━━━━━\u001b[0m\u001b[37m━━━\u001b[0m \u001b[1m52s\u001b[0m 1s/step - crit_mse: 10.4623 - lclk_acc: 0.8858 - loss: 0.9966 - m_x_acc: 0.1832 - m_y_acc: 0.4902 - no_fire: 0.0850 - wasd_acc: 0.7592(None, 32, 49152)\n",
      "\u001b[1m265/300\u001b[0m \u001b[32m━━━━━━━━━━━━━━━━━\u001b[0m\u001b[37m━━━\u001b[0m \u001b[1m51s\u001b[0m 1s/step - crit_mse: 10.4580 - lclk_acc: 0.8860 - loss: 0.9963 - m_x_acc: 0.1833 - m_y_acc: 0.4903 - no_fire: 0.0849 - wasd_acc: 0.7593(None, 32, 49152)\n",
      "\u001b[1m266/300\u001b[0m \u001b[32m━━━━━━━━━━━━━━━━━\u001b[0m\u001b[37m━━━\u001b[0m \u001b[1m49s\u001b[0m 1s/step - crit_mse: 10.4537 - lclk_acc: 0.8862 - loss: 0.9960 - m_x_acc: 0.1834 - m_y_acc: 0.4904 - no_fire: 0.0848 - wasd_acc: 0.7594(None, 32, 49152)\n",
      "\u001b[1m267/300\u001b[0m \u001b[32m━━━━━━━━━━━━━━━━━\u001b[0m\u001b[37m━━━\u001b[0m \u001b[1m48s\u001b[0m 1s/step - crit_mse: 10.4495 - lclk_acc: 0.8864 - loss: 0.9957 - m_x_acc: 0.1835 - m_y_acc: 0.4905 - no_fire: 0.0847 - wasd_acc: 0.7595(None, 32, 49152)\n",
      "\u001b[1m268/300\u001b[0m \u001b[32m━━━━━━━━━━━━━━━━━\u001b[0m\u001b[37m━━━\u001b[0m \u001b[1m46s\u001b[0m 1s/step - crit_mse: 10.4452 - lclk_acc: 0.8866 - loss: 0.9954 - m_x_acc: 0.1836 - m_y_acc: 0.4906 - no_fire: 0.0846 - wasd_acc: 0.7595(None, 32, 49152)\n",
      "\u001b[1m269/300\u001b[0m \u001b[32m━━━━━━━━━━━━━━━━━\u001b[0m\u001b[37m━━━\u001b[0m \u001b[1m45s\u001b[0m 1s/step - crit_mse: 10.4410 - lclk_acc: 0.8868 - loss: 0.9951 - m_x_acc: 0.1838 - m_y_acc: 0.4908 - no_fire: 0.0844 - wasd_acc: 0.7596(None, 32, 49152)\n",
      "\u001b[1m270/300\u001b[0m \u001b[32m━━━━━━━━━━━━━━━━━━\u001b[0m\u001b[37m━━\u001b[0m \u001b[1m43s\u001b[0m 1s/step - crit_mse: 10.4368 - lclk_acc: 0.8870 - loss: 0.9948 - m_x_acc: 0.1839 - m_y_acc: 0.4909 - no_fire: 0.0843 - wasd_acc: 0.7597(None, 32, 49152)\n",
      "\u001b[1m271/300\u001b[0m \u001b[32m━━━━━━━━━━━━━━━━━━\u001b[0m\u001b[37m━━\u001b[0m \u001b[1m42s\u001b[0m 1s/step - crit_mse: 10.4326 - lclk_acc: 0.8872 - loss: 0.9945 - m_x_acc: 0.1840 - m_y_acc: 0.4910 - no_fire: 0.0842 - wasd_acc: 0.7597(None, 32, 49152)\n",
      "\u001b[1m272/300\u001b[0m \u001b[32m━━━━━━━━━━━━━━━━━━\u001b[0m\u001b[37m━━\u001b[0m \u001b[1m40s\u001b[0m 1s/step - crit_mse: 10.4284 - lclk_acc: 0.8874 - loss: 0.9942 - m_x_acc: 0.1841 - m_y_acc: 0.4911 - no_fire: 0.0841 - wasd_acc: 0.7598(None, 32, 49152)\n",
      "\u001b[1m273/300\u001b[0m \u001b[32m━━━━━━━━━━━━━━━━━━\u001b[0m\u001b[37m━━\u001b[0m \u001b[1m39s\u001b[0m 1s/step - crit_mse: 10.4242 - lclk_acc: 0.8876 - loss: 0.9939 - m_x_acc: 0.1842 - m_y_acc: 0.4912 - no_fire: 0.0840 - wasd_acc: 0.7599(None, 32, 49152)\n",
      "\u001b[1m274/300\u001b[0m \u001b[32m━━━━━━━━━━━━━━━━━━\u001b[0m\u001b[37m━━\u001b[0m \u001b[1m37s\u001b[0m 1s/step - crit_mse: 10.4200 - lclk_acc: 0.8878 - loss: 0.9936 - m_x_acc: 0.1843 - m_y_acc: 0.4913 - no_fire: 0.0839 - wasd_acc: 0.7600(None, 32, 49152)\n",
      "\u001b[1m275/300\u001b[0m \u001b[32m━━━━━━━━━━━━━━━━━━\u001b[0m\u001b[37m━━\u001b[0m \u001b[1m36s\u001b[0m 1s/step - crit_mse: 10.4158 - lclk_acc: 0.8880 - loss: 0.9933 - m_x_acc: 0.1844 - m_y_acc: 0.4914 - no_fire: 0.0837 - wasd_acc: 0.7600(None, 32, 49152)\n",
      "\u001b[1m276/300\u001b[0m \u001b[32m━━━━━━━━━━━━━━━━━━\u001b[0m\u001b[37m━━\u001b[0m \u001b[1m35s\u001b[0m 1s/step - crit_mse: 10.4116 - lclk_acc: 0.8882 - loss: 0.9930 - m_x_acc: 0.1845 - m_y_acc: 0.4915 - no_fire: 0.0836 - wasd_acc: 0.7601(None, 32, 49152)\n",
      "\u001b[1m277/300\u001b[0m \u001b[32m━━━━━━━━━━━━━━━━━━\u001b[0m\u001b[37m━━\u001b[0m \u001b[1m33s\u001b[0m 1s/step - crit_mse: 10.4074 - lclk_acc: 0.8884 - loss: 0.9927 - m_x_acc: 0.1846 - m_y_acc: 0.4916 - no_fire: 0.0835 - wasd_acc: 0.7602(None, 32, 49152)\n",
      "\u001b[1m278/300\u001b[0m \u001b[32m━━━━━━━━━━━━━━━━━━\u001b[0m\u001b[37m━━\u001b[0m \u001b[1m32s\u001b[0m 1s/step - crit_mse: 10.4032 - lclk_acc: 0.8886 - loss: 0.9924 - m_x_acc: 0.1847 - m_y_acc: 0.4917 - no_fire: 0.0834 - wasd_acc: 0.7602(None, 32, 49152)\n",
      "\u001b[1m279/300\u001b[0m \u001b[32m━━━━━━━━━━━━━━━━━━\u001b[0m\u001b[37m━━\u001b[0m \u001b[1m30s\u001b[0m 1s/step - crit_mse: 10.3990 - lclk_acc: 0.8888 - loss: 0.9921 - m_x_acc: 0.1849 - m_y_acc: 0.4919 - no_fire: 0.0833 - wasd_acc: 0.7603(None, 32, 49152)\n",
      "\u001b[1m280/300\u001b[0m \u001b[32m━━━━━━━━━━━━━━━━━━\u001b[0m\u001b[37m━━\u001b[0m \u001b[1m29s\u001b[0m 1s/step - crit_mse: 10.3948 - lclk_acc: 0.8890 - loss: 0.9919 - m_x_acc: 0.1850 - m_y_acc: 0.4920 - no_fire: 0.0832 - wasd_acc: 0.7604(None, 32, 49152)\n",
      "\u001b[1m281/300\u001b[0m \u001b[32m━━━━━━━━━━━━━━━━━━\u001b[0m\u001b[37m━━\u001b[0m \u001b[1m27s\u001b[0m 1s/step - crit_mse: 10.3906 - lclk_acc: 0.8892 - loss: 0.9916 - m_x_acc: 0.1851 - m_y_acc: 0.4921 - no_fire: 0.0830 - wasd_acc: 0.7604(None, 32, 49152)\n",
      "\u001b[1m282/300\u001b[0m \u001b[32m━━━━━━━━━━━━━━━━━━\u001b[0m\u001b[37m━━\u001b[0m \u001b[1m26s\u001b[0m 1s/step - crit_mse: 10.3864 - lclk_acc: 0.8893 - loss: 0.9913 - m_x_acc: 0.1852 - m_y_acc: 0.4922 - no_fire: 0.0829 - wasd_acc: 0.7605(None, 32, 49152)\n",
      "\u001b[1m283/300\u001b[0m \u001b[32m━━━━━━━━━━━━━━━━━━\u001b[0m\u001b[37m━━\u001b[0m \u001b[1m24s\u001b[0m 1s/step - crit_mse: 10.3823 - lclk_acc: 0.8895 - loss: 0.9910 - m_x_acc: 0.1853 - m_y_acc: 0.4923 - no_fire: 0.0828 - wasd_acc: 0.7606(None, 32, 49152)\n",
      "\u001b[1m284/300\u001b[0m \u001b[32m━━━━━━━━━━━━━━━━━━\u001b[0m\u001b[37m━━\u001b[0m \u001b[1m23s\u001b[0m 1s/step - crit_mse: 10.3781 - lclk_acc: 0.8897 - loss: 0.9907 - m_x_acc: 0.1854 - m_y_acc: 0.4924 - no_fire: 0.0827 - wasd_acc: 0.7606(None, 32, 49152)\n",
      "\u001b[1m285/300\u001b[0m \u001b[32m━━━━━━━━━━━━━━━━━━━\u001b[0m\u001b[37m━\u001b[0m \u001b[1m21s\u001b[0m 1s/step - crit_mse: 10.3739 - lclk_acc: 0.8899 - loss: 0.9904 - m_x_acc: 0.1855 - m_y_acc: 0.4925 - no_fire: 0.0826 - wasd_acc: 0.7607(None, 32, 49152)\n",
      "\u001b[1m286/300\u001b[0m \u001b[32m━━━━━━━━━━━━━━━━━━━\u001b[0m\u001b[37m━\u001b[0m \u001b[1m20s\u001b[0m 1s/step - crit_mse: 10.3699 - lclk_acc: 0.8901 - loss: 0.9902 - m_x_acc: 0.1856 - m_y_acc: 0.4925 - no_fire: 0.0825 - wasd_acc: 0.7608(None, 32, 49152)\n",
      "\u001b[1m287/300\u001b[0m \u001b[32m━━━━━━━━━━━━━━━━━━━\u001b[0m\u001b[37m━\u001b[0m \u001b[1m18s\u001b[0m 1s/step - crit_mse: 10.3658 - lclk_acc: 0.8903 - loss: 0.9899 - m_x_acc: 0.1857 - m_y_acc: 0.4926 - no_fire: 0.0824 - wasd_acc: 0.7608(None, 32, 49152)\n",
      "\u001b[1m288/300\u001b[0m \u001b[32m━━━━━━━━━━━━━━━━━━━\u001b[0m\u001b[37m━\u001b[0m \u001b[1m17s\u001b[0m 1s/step - crit_mse: 10.3618 - lclk_acc: 0.8905 - loss: 0.9896 - m_x_acc: 0.1858 - m_y_acc: 0.4927 - no_fire: 0.0823 - wasd_acc: 0.7609(None, 32, 49152)\n",
      "\u001b[1m289/300\u001b[0m \u001b[32m━━━━━━━━━━━━━━━━━━━\u001b[0m\u001b[37m━\u001b[0m \u001b[1m16s\u001b[0m 1s/step - crit_mse: 10.3578 - lclk_acc: 0.8906 - loss: 0.9894 - m_x_acc: 0.1859 - m_y_acc: 0.4928 - no_fire: 0.0822 - wasd_acc: 0.7610(None, 32, 49152)\n",
      "\u001b[1m290/300\u001b[0m \u001b[32m━━━━━━━━━━━━━━━━━━━\u001b[0m\u001b[37m━\u001b[0m \u001b[1m14s\u001b[0m 1s/step - crit_mse: 10.3538 - lclk_acc: 0.8908 - loss: 0.9891 - m_x_acc: 0.1860 - m_y_acc: 0.4929 - no_fire: 0.0821 - wasd_acc: 0.7610(None, 32, 49152)\n",
      "\u001b[1m291/300\u001b[0m \u001b[32m━━━━━━━━━━━━━━━━━━━\u001b[0m\u001b[37m━\u001b[0m \u001b[1m13s\u001b[0m 1s/step - crit_mse: 10.3499 - lclk_acc: 0.8910 - loss: 0.9888 - m_x_acc: 0.1861 - m_y_acc: 0.4930 - no_fire: 0.0819 - wasd_acc: 0.7611(None, 32, 49152)\n",
      "\u001b[1m292/300\u001b[0m \u001b[32m━━━━━━━━━━━━━━━━━━━\u001b[0m\u001b[37m━\u001b[0m \u001b[1m11s\u001b[0m 1s/step - crit_mse: 10.3461 - lclk_acc: 0.8912 - loss: 0.9886 - m_x_acc: 0.1862 - m_y_acc: 0.4931 - no_fire: 0.0818 - wasd_acc: 0.7612(None, 32, 49152)\n",
      "\u001b[1m293/300\u001b[0m \u001b[32m━━━━━━━━━━━━━━━━━━━\u001b[0m\u001b[37m━\u001b[0m \u001b[1m10s\u001b[0m 1s/step - crit_mse: 10.3422 - lclk_acc: 0.8914 - loss: 0.9883 - m_x_acc: 0.1863 - m_y_acc: 0.4931 - no_fire: 0.0817 - wasd_acc: 0.7612(None, 32, 49152)\n",
      "\u001b[1m294/300\u001b[0m \u001b[32m━━━━━━━━━━━━━━━━━━━\u001b[0m\u001b[37m━\u001b[0m \u001b[1m8s\u001b[0m 1s/step - crit_mse: 10.3383 - lclk_acc: 0.8915 - loss: 0.9880 - m_x_acc: 0.1864 - m_y_acc: 0.4932 - no_fire: 0.0816 - wasd_acc: 0.7613 (None, 32, 49152)\n",
      "\u001b[1m299/300\u001b[0m \u001b[32m━━━━━━━━━━━━━━━━━━━\u001b[0m\u001b[37m━\u001b[0m \u001b[1m1s\u001b[0m 1s/step - crit_mse: 10.3193 - lclk_acc: 0.8924 - loss: 0.9868 - m_x_acc: 0.1868 - m_y_acc: 0.4936 - no_fire: 0.0811 - wasd_acc: 0.7616"
     ]
    },
    {
     "name": "stderr",
     "output_type": "stream",
     "text": [
      "2024-11-24 01:29:20.439256: I tensorflow/core/framework/local_rendezvous.cc:405] Local rendezvous is aborting with status: OUT_OF_RANGE: End of sequence\n",
      "\t [[{{node MultiDeviceIteratorGetNextFromShard}}]]\n",
      "2024-11-24 01:29:20.439347: I tensorflow/core/framework/local_rendezvous.cc:405] Local rendezvous is aborting with status: OUT_OF_RANGE: End of sequence\n",
      "\t [[{{node MultiDeviceIteratorGetNextFromShard}}]]\n",
      "\t [[RemoteCall]]\n"
     ]
    },
    {
     "name": "stdout",
     "output_type": "stream",
     "text": [
      "\u001b[1m300/300\u001b[0m \u001b[32m━━━━━━━━━━━━━━━━━━━━\u001b[0m\u001b[37m\u001b[0m \u001b[1m584s\u001b[0m 1s/step - crit_mse: 10.3118 - lclk_acc: 0.8928 - loss: 0.9863 - m_x_acc: 0.1870 - m_y_acc: 0.4937 - no_fire: 0.0809 - wasd_acc: 0.7617\n",
      "Saved model architecture to save_model_BC/model_10file_timestep_16_1.json\n",
      "Saved weights to save_model_BC/model_10file_timestep_16_1.weights.h5\n",
      "Saved optimizer state to save_model_BC/model_10file_timestep_16_1_opt.pkl\n",
      "Saved hyperparameters to save_model_BC/model_10file_timestep_16_1_hypers.pkl\n"
     ]
    }
   ],
   "source": [
    "# hist = model.fit(training_generator1,epochs=1,verbose=1)\n",
    "# tp_save_model(model, save_dir, 'model_10file_timestep_16_1')"
   ]
  },
  {
   "cell_type": "code",
   "execution_count": 25,
   "metadata": {},
   "outputs": [],
   "source": [
    "# # hist = model.fit(training_generator1,epochs=1,workers=4,verbose=1,use_multiprocessing=True, max_queue_size=20)\n",
    "# iter_letter = 'a'\n",
    "# # hist = model.fit(training_generator1[0], training_generator1[1], epochs=1,verbose=1)\n",
    "\n",
    "# hist = model.fit(training_generator1, validation_data=validation_generator1,epochs=1,verbose=1) "
   ]
  },
  {
   "cell_type": "code",
   "execution_count": 26,
   "metadata": {},
   "outputs": [],
   "source": [
    "#hist = model.fit(training_generator_full,validation_data=validation_generator_full,epochs=1,workers=4,verbose=1,use_multiprocessing=True, max_queue_size=20)"
   ]
  },
  {
   "cell_type": "markdown",
   "metadata": {},
   "source": [
    "#### train for loop"
   ]
  },
  {
   "cell_type": "code",
   "execution_count": 14,
   "metadata": {},
   "outputs": [
    {
     "name": "stdout",
     "output_type": "stream",
     "text": [
      "-- loading model from saved file model_timestep_16_3 --\n",
      "Loaded model architecture from save_model_BC/model_10file_timestep_16_3.json\n",
      "Loaded weights from save_model_BC/model_10file_timestep_16_3.weights.h5\n",
      "setting optimiser...\n"
     ]
    },
    {
     "name": "stderr",
     "output_type": "stream",
     "text": [
      "/home/tuan/.pyenv/versions/3.12.0/lib/python3.12/site-packages/keras/src/trainers/data_adapters/py_dataset_adapter.py:121: UserWarning: Your `PyDataset` class should call `super().__init__(**kwargs)` in its constructor. `**kwargs` can include `workers`, `use_multiprocessing`, `max_queue_size`. Do not pass these arguments to `fit()`, as they will be ignored.\n",
      "  self._warn_if_super_not_called()\n"
     ]
    },
    {
     "ename": "NameError",
     "evalue": "name 'x' is not defined",
     "output_type": "error",
     "traceback": [
      "\u001b[0;31m---------------------------------------------------------------------------\u001b[0m",
      "\u001b[0;31mNameError\u001b[0m                                 Traceback (most recent call last)",
      "Cell \u001b[0;32mIn[14], line 19\u001b[0m\n\u001b[1;32m     17\u001b[0m     model\u001b[38;5;241m.\u001b[39moptimizer\u001b[38;5;241m.\u001b[39mlearning_rate\u001b[38;5;241m.\u001b[39massign(\u001b[38;5;241m0.0\u001b[39m)\n\u001b[1;32m     18\u001b[0m     \u001b[38;5;66;03m#K.set_value(model.optimizer.learning_rate, 0.0)\u001b[39;00m\n\u001b[0;32m---> 19\u001b[0m hist \u001b[38;5;241m=\u001b[39m \u001b[43mmodel\u001b[49m\u001b[38;5;241;43m.\u001b[39;49m\u001b[43mfit\u001b[49m\u001b[43m(\u001b[49m\u001b[43mtmp_generator\u001b[49m\u001b[43m,\u001b[49m\u001b[43mepochs\u001b[49m\u001b[38;5;241;43m=\u001b[39;49m\u001b[38;5;241;43m1\u001b[39;49m\u001b[43m,\u001b[49m\u001b[43mverbose\u001b[49m\u001b[38;5;241;43m=\u001b[39;49m\u001b[38;5;241;43m1\u001b[39;49m\u001b[43m)\u001b[49m \n\u001b[1;32m     20\u001b[0m \u001b[38;5;66;03m# have to load the optimiser after we've compiled the model\u001b[39;00m\n\u001b[1;32m     21\u001b[0m \u001b[38;5;66;03m# model._make_train_function()\u001b[39;00m\n\u001b[1;32m     22\u001b[0m model_path \u001b[38;5;241m=\u001b[39m os\u001b[38;5;241m.\u001b[39mpath\u001b[38;5;241m.\u001b[39mjoin(save_dir, model_name\u001b[38;5;241m+\u001b[39m \u001b[38;5;28mstr\u001b[39m(i\u001b[38;5;241m-\u001b[39m\u001b[38;5;241m1\u001b[39m)\u001b[38;5;241m+\u001b[39m\u001b[38;5;124m'\u001b[39m\u001b[38;5;124m_opt.pkl\u001b[39m\u001b[38;5;124m'\u001b[39m)\n",
      "File \u001b[0;32m~/.pyenv/versions/3.12.0/lib/python3.12/site-packages/keras/src/utils/traceback_utils.py:122\u001b[0m, in \u001b[0;36mfilter_traceback.<locals>.error_handler\u001b[0;34m(*args, **kwargs)\u001b[0m\n\u001b[1;32m    119\u001b[0m     filtered_tb \u001b[38;5;241m=\u001b[39m _process_traceback_frames(e\u001b[38;5;241m.\u001b[39m__traceback__)\n\u001b[1;32m    120\u001b[0m     \u001b[38;5;66;03m# To get the full stack trace, call:\u001b[39;00m\n\u001b[1;32m    121\u001b[0m     \u001b[38;5;66;03m# `keras.config.disable_traceback_filtering()`\u001b[39;00m\n\u001b[0;32m--> 122\u001b[0m     \u001b[38;5;28;01mraise\u001b[39;00m e\u001b[38;5;241m.\u001b[39mwith_traceback(filtered_tb) \u001b[38;5;28;01mfrom\u001b[39;00m \u001b[38;5;28;01mNone\u001b[39;00m\n\u001b[1;32m    123\u001b[0m \u001b[38;5;28;01mfinally\u001b[39;00m:\n\u001b[1;32m    124\u001b[0m     \u001b[38;5;28;01mdel\u001b[39;00m filtered_tb\n",
      "Cell \u001b[0;32mIn[10], line 22\u001b[0m, in \u001b[0;36mDataGenerator.__getitem__\u001b[0;34m(self, index)\u001b[0m\n\u001b[1;32m     19\u001b[0m \u001b[38;5;66;03m# Find list of IDs\u001b[39;00m\n\u001b[1;32m     20\u001b[0m list_IDs_temp \u001b[38;5;241m=\u001b[39m [\u001b[38;5;28mself\u001b[39m\u001b[38;5;241m.\u001b[39mlist_IDs[k] \u001b[38;5;28;01mfor\u001b[39;00m k \u001b[38;5;129;01min\u001b[39;00m indexes]\n\u001b[0;32m---> 22\u001b[0m X, y \u001b[38;5;241m=\u001b[39m \u001b[38;5;28;43mself\u001b[39;49m\u001b[38;5;241;43m.\u001b[39;49m\u001b[43m__data_generation\u001b[49m\u001b[43m(\u001b[49m\u001b[43mlist_IDs_temp\u001b[49m\u001b[43m)\u001b[49m\n\u001b[1;32m     23\u001b[0m \u001b[38;5;28;01mreturn\u001b[39;00m (X, y)\n",
      "Cell \u001b[0;32mIn[10], line 43\u001b[0m, in \u001b[0;36mDataGenerator.__data_generation\u001b[0;34m(self, list_IDs_temp)\u001b[0m\n\u001b[1;32m     40\u001b[0m y_shape \u001b[38;5;241m=\u001b[39m [\u001b[38;5;28mself\u001b[39m\u001b[38;5;241m.\u001b[39mbatch_size,N_TIMESTEPS,n_keys\u001b[38;5;241m+\u001b[39mn_clicks\u001b[38;5;241m+\u001b[39mn_mouse_x\u001b[38;5;241m+\u001b[39mn_mouse_y\u001b[38;5;241m+\u001b[39m\u001b[38;5;241m1\u001b[39m\u001b[38;5;241m+\u001b[39m\u001b[38;5;241m1\u001b[39m] \u001b[38;5;66;03m# add 1 for reward, 1 for adv\u001b[39;00m\n\u001b[1;32m     42\u001b[0m X \u001b[38;5;241m=\u001b[39m np\u001b[38;5;241m.\u001b[39mempty(x_shape)\n\u001b[0;32m---> 43\u001b[0m \u001b[38;5;28mprint\u001b[39m(\u001b[43mx\u001b[49m\u001b[38;5;241m.\u001b[39mshape)\n\u001b[1;32m     44\u001b[0m y \u001b[38;5;241m=\u001b[39m np\u001b[38;5;241m.\u001b[39mempty(y_shape)\n\u001b[1;32m     46\u001b[0m \u001b[38;5;28;01mfor\u001b[39;00m i, ID \u001b[38;5;129;01min\u001b[39;00m \u001b[38;5;28menumerate\u001b[39m(list_IDs_temp): \n\u001b[1;32m     47\u001b[0m     \u001b[38;5;66;03m# print(i,end='\\r')\u001b[39;00m\n\u001b[1;32m     48\u001b[0m     \u001b[38;5;66;03m# ID is in format 'filenum-framenum'\u001b[39;00m\n",
      "\u001b[0;31mNameError\u001b[0m: name 'x' is not defined"
     ]
    }
   ],
   "source": [
    "save_dir = 'save_model_BC'\n",
    "model_name = 'model_10file_timestep_16_'\n",
    "starting_num = 31\n",
    "highest_num = 40\n",
    "for i in range(4, 181):   \n",
    "\n",
    "    ## LOAD MODEL AND SET LEARNING RATE\n",
    "\n",
    "    # pick up training from earlier spot\n",
    "    print(f'-- loading model from saved file model_timestep_16_{i-1} --')\n",
    "    model = tp_load_model(save_dir, model_name + str(i-1))\n",
    "    # TODO: if .p file exists, load and check if matches current config\n",
    "    # hypers_load = pickle.load(open(save_dir+'/'+weights_name+'.p', 'rb'))\n",
    "    # print(hypers_load)\n",
    "    print('setting optimiser...')\n",
    "    with strategy.scope():\n",
    "        model.optimizer.learning_rate.assign(0.0)\n",
    "        #K.set_value(model.optimizer.learning_rate, 0.0)\n",
    "    hist = model.fit(tmp_generator,epochs=1,verbose=1) \n",
    "    # have to load the optimiser after we've compiled the model\n",
    "    # model._make_train_function()\n",
    "    model_path = os.path.join(save_dir, model_name+ str(i-1)+'_opt.pkl')\n",
    "    with open(model_path, 'rb') as f:\n",
    "        opt_weight_values = pickle.load(f)\n",
    "        with strategy.scope():\n",
    "            model.optimizer.set_weights(opt_weight_values)\n",
    "        # opt.set_weights(weight_values)\n",
    "\n",
    "    # manually set the learning rate in case changed since save\n",
    "    model.optimizer.learning_rate.assign(l_rate)\n",
    "    #K.set_value(model.optimizer.learning_rate, l_rate)\n",
    "    print('updated optimiser to saved state')\n",
    "    print('starting to train...')\n",
    "\n",
    "    ## GET NEW DATASET\n",
    "    print(f'using file {starting_num} --> {highest_num} to train')\n",
    "    data_list = [str(x1)+'-'+str(x2) for x1 in np.arange(starting_num,highest_num+1) for x2 in np.arange(0,1000-N_TIMESTEPS-int(N_JITTER),N_TIMESTEPS)]\n",
    "    np.random.shuffle(data_list1) # shuffle it (in place)\n",
    "    partition = {}\n",
    "    partition['train'] = data_list1[:int(len(data_list)*1.)]\n",
    "    partition['validation'] = data_list1[int(len(data_list)*0.995):]\n",
    "    training_generator = DataGenerator(list_IDs=partition['train'], batch_size=batch_size, shuffle=True)\n",
    "    validation_generator = DataGenerator(list_IDs=partition['validation'], batch_size=batch_size, shuffle=True)\n",
    "\n",
    "    ## TRAIN MODEL\n",
    "\n",
    "    hist = model.fit(training_generator,validation_data=validation_generator,epochs=4,verbose=1) \n",
    "\n",
    "    ## SAVE MODEL\n",
    "    tp_save_model(model, save_dir, model_name + str(i))\n",
    "    print(f'saved model {model_name + str(i)}')\n",
    "\n",
    "    # CHANGE STARTING_NUM AND HIGHEST_NUM BY 10 (NEXT 10 FILE)\n",
    "    starting_num += 10\n",
    "    highest_num += 10"
   ]
  },
  {
   "cell_type": "code",
   "execution_count": null,
   "metadata": {},
   "outputs": [],
   "source": []
  },
  {
   "cell_type": "code",
   "execution_count": 3,
   "metadata": {},
   "outputs": [
    {
     "name": "stderr",
     "output_type": "stream",
     "text": [
      "I0000 00:00:1732995357.691669     685 gpu_device.cc:2022] Created device /job:localhost/replica:0/task:0/device:GPU:0 with 5563 MB memory:  -> device: 0, name: NVIDIA GeForce RTX 4060 Laptop GPU, pci bus id: 0000:01:00.0, compute capability: 8.9\n"
     ]
    },
    {
     "name": "stdout",
     "output_type": "stream",
     "text": [
      "Loaded model architecture from save_model_BC/model_10file_timestep_96_finetune_28_11_19.json\n",
      "Loaded weights from save_model_BC/model_10file_timestep_96_finetune_28_11_19.weights.h5\n"
     ]
    },
    {
     "data": {
      "text/html": [
       "<pre style=\"white-space:pre;overflow-x:auto;line-height:normal;font-family:Menlo,'DejaVu Sans Mono',consolas,'Courier New',monospace\"><span style=\"font-weight: bold\">Model: \"functional_1\"</span>\n",
       "</pre>\n"
      ],
      "text/plain": [
       "\u001b[1mModel: \"functional_1\"\u001b[0m\n"
      ]
     },
     "metadata": {},
     "output_type": "display_data"
    },
    {
     "data": {
      "text/html": [
       "<pre style=\"white-space:pre;overflow-x:auto;line-height:normal;font-family:Menlo,'DejaVu Sans Mono',consolas,'Courier New',monospace\">┏━━━━━━━━━━━━━━━━━━━━━┳━━━━━━━━━━━━━━━━━━━┳━━━━━━━━━━━━┳━━━━━━━━━━━━━━━━━━━┓\n",
       "┃<span style=\"font-weight: bold\"> Layer (type)        </span>┃<span style=\"font-weight: bold\"> Output Shape      </span>┃<span style=\"font-weight: bold\">    Param # </span>┃<span style=\"font-weight: bold\"> Connected to      </span>┃\n",
       "┡━━━━━━━━━━━━━━━━━━━━━╇━━━━━━━━━━━━━━━━━━━╇━━━━━━━━━━━━╇━━━━━━━━━━━━━━━━━━━┩\n",
       "│ main_in             │ (<span style=\"color: #00d7ff; text-decoration-color: #00d7ff\">None</span>, <span style=\"color: #00af00; text-decoration-color: #00af00\">96</span>, <span style=\"color: #00af00; text-decoration-color: #00af00\">150</span>,   │          <span style=\"color: #00af00; text-decoration-color: #00af00\">0</span> │ -                 │\n",
       "│ (<span style=\"color: #0087ff; text-decoration-color: #0087ff\">InputLayer</span>)        │ <span style=\"color: #00af00; text-decoration-color: #00af00\">412</span>, <span style=\"color: #00af00; text-decoration-color: #00af00\">3</span>)           │            │                   │\n",
       "├─────────────────────┼───────────────────┼────────────┼───────────────────┤\n",
       "│ time_distributed    │ (<span style=\"color: #00d7ff; text-decoration-color: #00d7ff\">None</span>, <span style=\"color: #00af00; text-decoration-color: #00af00\">96</span>, <span style=\"color: #00af00; text-decoration-color: #00af00\">10</span>,    │    <span style=\"color: #00af00; text-decoration-color: #00af00\">867,975</span> │ main_in[<span style=\"color: #00af00; text-decoration-color: #00af00\">0</span>][<span style=\"color: #00af00; text-decoration-color: #00af00\">0</span>]     │\n",
       "│ (<span style=\"color: #0087ff; text-decoration-color: #0087ff\">TimeDistributed</span>)   │ <span style=\"color: #00af00; text-decoration-color: #00af00\">26</span>, <span style=\"color: #00af00; text-decoration-color: #00af00\">112</span>)          │            │                   │\n",
       "├─────────────────────┼───────────────────┼────────────┼───────────────────┤\n",
       "│ conv_lstm2d         │ (<span style=\"color: #00d7ff; text-decoration-color: #00d7ff\">None</span>, <span style=\"color: #00af00; text-decoration-color: #00af00\">96</span>, <span style=\"color: #00af00; text-decoration-color: #00af00\">8</span>, <span style=\"color: #00af00; text-decoration-color: #00af00\">24</span>, │  <span style=\"color: #00af00; text-decoration-color: #00af00\">3,392,512</span> │ time_distributed… │\n",
       "│ (<span style=\"color: #0087ff; text-decoration-color: #0087ff\">ConvLSTM2D</span>)        │ <span style=\"color: #00af00; text-decoration-color: #00af00\">256</span>)              │            │                   │\n",
       "├─────────────────────┼───────────────────┼────────────┼───────────────────┤\n",
       "│ time_distributed_1  │ (<span style=\"color: #00d7ff; text-decoration-color: #00d7ff\">None</span>, <span style=\"color: #00af00; text-decoration-color: #00af00\">96</span>, <span style=\"color: #00af00; text-decoration-color: #00af00\">49152</span>) │          <span style=\"color: #00af00; text-decoration-color: #00af00\">0</span> │ conv_lstm2d[<span style=\"color: #00af00; text-decoration-color: #00af00\">0</span>][<span style=\"color: #00af00; text-decoration-color: #00af00\">0</span>] │\n",
       "│ (<span style=\"color: #0087ff; text-decoration-color: #0087ff\">TimeDistributed</span>)   │                   │            │                   │\n",
       "├─────────────────────┼───────────────────┼────────────┼───────────────────┤\n",
       "│ time_distributed_2  │ (<span style=\"color: #00d7ff; text-decoration-color: #00d7ff\">None</span>, <span style=\"color: #00af00; text-decoration-color: #00af00\">96</span>, <span style=\"color: #00af00; text-decoration-color: #00af00\">11</span>)    │    <span style=\"color: #00af00; text-decoration-color: #00af00\">540,683</span> │ time_distributed… │\n",
       "│ (<span style=\"color: #0087ff; text-decoration-color: #0087ff\">TimeDistributed</span>)   │                   │            │                   │\n",
       "├─────────────────────┼───────────────────┼────────────┼───────────────────┤\n",
       "│ time_distributed_3  │ (<span style=\"color: #00d7ff; text-decoration-color: #00d7ff\">None</span>, <span style=\"color: #00af00; text-decoration-color: #00af00\">96</span>, <span style=\"color: #00af00; text-decoration-color: #00af00\">2</span>)     │     <span style=\"color: #00af00; text-decoration-color: #00af00\">98,306</span> │ time_distributed… │\n",
       "│ (<span style=\"color: #0087ff; text-decoration-color: #0087ff\">TimeDistributed</span>)   │                   │            │                   │\n",
       "├─────────────────────┼───────────────────┼────────────┼───────────────────┤\n",
       "│ time_distributed_4  │ (<span style=\"color: #00d7ff; text-decoration-color: #00d7ff\">None</span>, <span style=\"color: #00af00; text-decoration-color: #00af00\">96</span>, <span style=\"color: #00af00; text-decoration-color: #00af00\">23</span>)    │  <span style=\"color: #00af00; text-decoration-color: #00af00\">1,130,519</span> │ time_distributed… │\n",
       "│ (<span style=\"color: #0087ff; text-decoration-color: #0087ff\">TimeDistributed</span>)   │                   │            │                   │\n",
       "├─────────────────────┼───────────────────┼────────────┼───────────────────┤\n",
       "│ time_distributed_5  │ (<span style=\"color: #00d7ff; text-decoration-color: #00d7ff\">None</span>, <span style=\"color: #00af00; text-decoration-color: #00af00\">96</span>, <span style=\"color: #00af00; text-decoration-color: #00af00\">15</span>)    │    <span style=\"color: #00af00; text-decoration-color: #00af00\">737,295</span> │ time_distributed… │\n",
       "│ (<span style=\"color: #0087ff; text-decoration-color: #0087ff\">TimeDistributed</span>)   │                   │            │                   │\n",
       "├─────────────────────┼───────────────────┼────────────┼───────────────────┤\n",
       "│ time_distributed_6  │ (<span style=\"color: #00d7ff; text-decoration-color: #00d7ff\">None</span>, <span style=\"color: #00af00; text-decoration-color: #00af00\">96</span>, <span style=\"color: #00af00; text-decoration-color: #00af00\">1</span>)     │     <span style=\"color: #00af00; text-decoration-color: #00af00\">49,153</span> │ time_distributed… │\n",
       "│ (<span style=\"color: #0087ff; text-decoration-color: #0087ff\">TimeDistributed</span>)   │                   │            │                   │\n",
       "├─────────────────────┼───────────────────┼────────────┼───────────────────┤\n",
       "│ concatenate         │ (<span style=\"color: #00d7ff; text-decoration-color: #00d7ff\">None</span>, <span style=\"color: #00af00; text-decoration-color: #00af00\">96</span>, <span style=\"color: #00af00; text-decoration-color: #00af00\">52</span>)    │          <span style=\"color: #00af00; text-decoration-color: #00af00\">0</span> │ time_distributed… │\n",
       "│ (<span style=\"color: #0087ff; text-decoration-color: #0087ff\">Concatenate</span>)       │                   │            │ time_distributed… │\n",
       "│                     │                   │            │ time_distributed… │\n",
       "│                     │                   │            │ time_distributed… │\n",
       "│                     │                   │            │ time_distributed… │\n",
       "└─────────────────────┴───────────────────┴────────────┴───────────────────┘\n",
       "</pre>\n"
      ],
      "text/plain": [
       "┏━━━━━━━━━━━━━━━━━━━━━┳━━━━━━━━━━━━━━━━━━━┳━━━━━━━━━━━━┳━━━━━━━━━━━━━━━━━━━┓\n",
       "┃\u001b[1m \u001b[0m\u001b[1mLayer (type)       \u001b[0m\u001b[1m \u001b[0m┃\u001b[1m \u001b[0m\u001b[1mOutput Shape     \u001b[0m\u001b[1m \u001b[0m┃\u001b[1m \u001b[0m\u001b[1m   Param #\u001b[0m\u001b[1m \u001b[0m┃\u001b[1m \u001b[0m\u001b[1mConnected to     \u001b[0m\u001b[1m \u001b[0m┃\n",
       "┡━━━━━━━━━━━━━━━━━━━━━╇━━━━━━━━━━━━━━━━━━━╇━━━━━━━━━━━━╇━━━━━━━━━━━━━━━━━━━┩\n",
       "│ main_in             │ (\u001b[38;5;45mNone\u001b[0m, \u001b[38;5;34m96\u001b[0m, \u001b[38;5;34m150\u001b[0m,   │          \u001b[38;5;34m0\u001b[0m │ -                 │\n",
       "│ (\u001b[38;5;33mInputLayer\u001b[0m)        │ \u001b[38;5;34m412\u001b[0m, \u001b[38;5;34m3\u001b[0m)           │            │                   │\n",
       "├─────────────────────┼───────────────────┼────────────┼───────────────────┤\n",
       "│ time_distributed    │ (\u001b[38;5;45mNone\u001b[0m, \u001b[38;5;34m96\u001b[0m, \u001b[38;5;34m10\u001b[0m,    │    \u001b[38;5;34m867,975\u001b[0m │ main_in[\u001b[38;5;34m0\u001b[0m][\u001b[38;5;34m0\u001b[0m]     │\n",
       "│ (\u001b[38;5;33mTimeDistributed\u001b[0m)   │ \u001b[38;5;34m26\u001b[0m, \u001b[38;5;34m112\u001b[0m)          │            │                   │\n",
       "├─────────────────────┼───────────────────┼────────────┼───────────────────┤\n",
       "│ conv_lstm2d         │ (\u001b[38;5;45mNone\u001b[0m, \u001b[38;5;34m96\u001b[0m, \u001b[38;5;34m8\u001b[0m, \u001b[38;5;34m24\u001b[0m, │  \u001b[38;5;34m3,392,512\u001b[0m │ time_distributed… │\n",
       "│ (\u001b[38;5;33mConvLSTM2D\u001b[0m)        │ \u001b[38;5;34m256\u001b[0m)              │            │                   │\n",
       "├─────────────────────┼───────────────────┼────────────┼───────────────────┤\n",
       "│ time_distributed_1  │ (\u001b[38;5;45mNone\u001b[0m, \u001b[38;5;34m96\u001b[0m, \u001b[38;5;34m49152\u001b[0m) │          \u001b[38;5;34m0\u001b[0m │ conv_lstm2d[\u001b[38;5;34m0\u001b[0m][\u001b[38;5;34m0\u001b[0m] │\n",
       "│ (\u001b[38;5;33mTimeDistributed\u001b[0m)   │                   │            │                   │\n",
       "├─────────────────────┼───────────────────┼────────────┼───────────────────┤\n",
       "│ time_distributed_2  │ (\u001b[38;5;45mNone\u001b[0m, \u001b[38;5;34m96\u001b[0m, \u001b[38;5;34m11\u001b[0m)    │    \u001b[38;5;34m540,683\u001b[0m │ time_distributed… │\n",
       "│ (\u001b[38;5;33mTimeDistributed\u001b[0m)   │                   │            │                   │\n",
       "├─────────────────────┼───────────────────┼────────────┼───────────────────┤\n",
       "│ time_distributed_3  │ (\u001b[38;5;45mNone\u001b[0m, \u001b[38;5;34m96\u001b[0m, \u001b[38;5;34m2\u001b[0m)     │     \u001b[38;5;34m98,306\u001b[0m │ time_distributed… │\n",
       "│ (\u001b[38;5;33mTimeDistributed\u001b[0m)   │                   │            │                   │\n",
       "├─────────────────────┼───────────────────┼────────────┼───────────────────┤\n",
       "│ time_distributed_4  │ (\u001b[38;5;45mNone\u001b[0m, \u001b[38;5;34m96\u001b[0m, \u001b[38;5;34m23\u001b[0m)    │  \u001b[38;5;34m1,130,519\u001b[0m │ time_distributed… │\n",
       "│ (\u001b[38;5;33mTimeDistributed\u001b[0m)   │                   │            │                   │\n",
       "├─────────────────────┼───────────────────┼────────────┼───────────────────┤\n",
       "│ time_distributed_5  │ (\u001b[38;5;45mNone\u001b[0m, \u001b[38;5;34m96\u001b[0m, \u001b[38;5;34m15\u001b[0m)    │    \u001b[38;5;34m737,295\u001b[0m │ time_distributed… │\n",
       "│ (\u001b[38;5;33mTimeDistributed\u001b[0m)   │                   │            │                   │\n",
       "├─────────────────────┼───────────────────┼────────────┼───────────────────┤\n",
       "│ time_distributed_6  │ (\u001b[38;5;45mNone\u001b[0m, \u001b[38;5;34m96\u001b[0m, \u001b[38;5;34m1\u001b[0m)     │     \u001b[38;5;34m49,153\u001b[0m │ time_distributed… │\n",
       "│ (\u001b[38;5;33mTimeDistributed\u001b[0m)   │                   │            │                   │\n",
       "├─────────────────────┼───────────────────┼────────────┼───────────────────┤\n",
       "│ concatenate         │ (\u001b[38;5;45mNone\u001b[0m, \u001b[38;5;34m96\u001b[0m, \u001b[38;5;34m52\u001b[0m)    │          \u001b[38;5;34m0\u001b[0m │ time_distributed… │\n",
       "│ (\u001b[38;5;33mConcatenate\u001b[0m)       │                   │            │ time_distributed… │\n",
       "│                     │                   │            │ time_distributed… │\n",
       "│                     │                   │            │ time_distributed… │\n",
       "│                     │                   │            │ time_distributed… │\n",
       "└─────────────────────┴───────────────────┴────────────┴───────────────────┘\n"
      ]
     },
     "metadata": {},
     "output_type": "display_data"
    },
    {
     "data": {
      "text/html": [
       "<pre style=\"white-space:pre;overflow-x:auto;line-height:normal;font-family:Menlo,'DejaVu Sans Mono',consolas,'Courier New',monospace\"><span style=\"font-weight: bold\"> Total params: </span><span style=\"color: #00af00; text-decoration-color: #00af00\">20,416,997</span> (77.88 MB)\n",
       "</pre>\n"
      ],
      "text/plain": [
       "\u001b[1m Total params: \u001b[0m\u001b[38;5;34m20,416,997\u001b[0m (77.88 MB)\n"
      ]
     },
     "metadata": {},
     "output_type": "display_data"
    },
    {
     "data": {
      "text/html": [
       "<pre style=\"white-space:pre;overflow-x:auto;line-height:normal;font-family:Menlo,'DejaVu Sans Mono',consolas,'Courier New',monospace\"><span style=\"font-weight: bold\"> Trainable params: </span><span style=\"color: #00af00; text-decoration-color: #00af00\">6,800,276</span> (25.94 MB)\n",
       "</pre>\n"
      ],
      "text/plain": [
       "\u001b[1m Trainable params: \u001b[0m\u001b[38;5;34m6,800,276\u001b[0m (25.94 MB)\n"
      ]
     },
     "metadata": {},
     "output_type": "display_data"
    },
    {
     "data": {
      "text/html": [
       "<pre style=\"white-space:pre;overflow-x:auto;line-height:normal;font-family:Menlo,'DejaVu Sans Mono',consolas,'Courier New',monospace\"><span style=\"font-weight: bold\"> Non-trainable params: </span><span style=\"color: #00af00; text-decoration-color: #00af00\">16,167</span> (63.16 KB)\n",
       "</pre>\n"
      ],
      "text/plain": [
       "\u001b[1m Non-trainable params: \u001b[0m\u001b[38;5;34m16,167\u001b[0m (63.16 KB)\n"
      ]
     },
     "metadata": {},
     "output_type": "display_data"
    },
    {
     "data": {
      "text/html": [
       "<pre style=\"white-space:pre;overflow-x:auto;line-height:normal;font-family:Menlo,'DejaVu Sans Mono',consolas,'Courier New',monospace\"><span style=\"font-weight: bold\"> Optimizer params: </span><span style=\"color: #00af00; text-decoration-color: #00af00\">13,600,554</span> (51.88 MB)\n",
       "</pre>\n"
      ],
      "text/plain": [
       "\u001b[1m Optimizer params: \u001b[0m\u001b[38;5;34m13,600,554\u001b[0m (51.88 MB)\n"
      ]
     },
     "metadata": {},
     "output_type": "display_data"
    }
   ],
   "source": [
    "model = tp_load_model(save_dir='save_model_BC', model_name='model_10file_timestep_96_finetune_28_11_19')\n",
    "model.summary()"
   ]
  },
  {
   "cell_type": "code",
   "execution_count": 4,
   "metadata": {},
   "outputs": [
    {
     "name": "stdout",
     "output_type": "stream",
     "text": [
      "Loaded model architecture from stateful_model/model_10file_timestep_96_finetune_28_11_19_stateful.json\n",
      "Loaded weights from stateful_model/model_10file_timestep_96_finetune_28_11_19_stateful.weights.h5\n"
     ]
    },
    {
     "name": "stderr",
     "output_type": "stream",
     "text": [
      "/home/tuan/.pyenv/versions/3.12.0/lib/python3.12/site-packages/keras/src/saving/saving_lib.py:719: UserWarning: Skipping variable loading for optimizer 'adam', because it has 314 variables whereas the saved optimizer has 2 variables. \n",
      "  saveable.load_own_variables(weights_store.get(inner_path))\n"
     ]
    },
    {
     "data": {
      "text/html": [
       "<pre style=\"white-space:pre;overflow-x:auto;line-height:normal;font-family:Menlo,'DejaVu Sans Mono',consolas,'Courier New',monospace\"><span style=\"font-weight: bold\">Model: \"functional_1\"</span>\n",
       "</pre>\n"
      ],
      "text/plain": [
       "\u001b[1mModel: \"functional_1\"\u001b[0m\n"
      ]
     },
     "metadata": {},
     "output_type": "display_data"
    },
    {
     "data": {
      "text/html": [
       "<pre style=\"white-space:pre;overflow-x:auto;line-height:normal;font-family:Menlo,'DejaVu Sans Mono',consolas,'Courier New',monospace\">┏━━━━━━━━━━━━━━━━━━━━━┳━━━━━━━━━━━━━━━━━━━┳━━━━━━━━━━━━┳━━━━━━━━━━━━━━━━━━━┓\n",
       "┃<span style=\"font-weight: bold\"> Layer (type)        </span>┃<span style=\"font-weight: bold\"> Output Shape      </span>┃<span style=\"font-weight: bold\">    Param # </span>┃<span style=\"font-weight: bold\"> Connected to      </span>┃\n",
       "┡━━━━━━━━━━━━━━━━━━━━━╇━━━━━━━━━━━━━━━━━━━╇━━━━━━━━━━━━╇━━━━━━━━━━━━━━━━━━━┩\n",
       "│ main_in             │ (<span style=\"color: #00af00; text-decoration-color: #00af00\">1</span>, <span style=\"color: #00af00; text-decoration-color: #00af00\">1</span>, <span style=\"color: #00af00; text-decoration-color: #00af00\">150</span>, <span style=\"color: #00af00; text-decoration-color: #00af00\">412</span>,  │          <span style=\"color: #00af00; text-decoration-color: #00af00\">0</span> │ -                 │\n",
       "│ (<span style=\"color: #0087ff; text-decoration-color: #0087ff\">InputLayer</span>)        │ <span style=\"color: #00af00; text-decoration-color: #00af00\">3</span>)                │            │                   │\n",
       "├─────────────────────┼───────────────────┼────────────┼───────────────────┤\n",
       "│ time_distributed    │ (<span style=\"color: #00af00; text-decoration-color: #00af00\">1</span>, <span style=\"color: #00af00; text-decoration-color: #00af00\">1</span>, <span style=\"color: #00af00; text-decoration-color: #00af00\">10</span>, <span style=\"color: #00af00; text-decoration-color: #00af00\">26</span>,    │    <span style=\"color: #00af00; text-decoration-color: #00af00\">867,975</span> │ main_in[<span style=\"color: #00af00; text-decoration-color: #00af00\">0</span>][<span style=\"color: #00af00; text-decoration-color: #00af00\">0</span>]     │\n",
       "│ (<span style=\"color: #0087ff; text-decoration-color: #0087ff\">TimeDistributed</span>)   │ <span style=\"color: #00af00; text-decoration-color: #00af00\">112</span>)              │            │                   │\n",
       "├─────────────────────┼───────────────────┼────────────┼───────────────────┤\n",
       "│ conv_lstm2d         │ (<span style=\"color: #00af00; text-decoration-color: #00af00\">1</span>, <span style=\"color: #00af00; text-decoration-color: #00af00\">1</span>, <span style=\"color: #00af00; text-decoration-color: #00af00\">8</span>, <span style=\"color: #00af00; text-decoration-color: #00af00\">24</span>,     │  <span style=\"color: #00af00; text-decoration-color: #00af00\">3,392,512</span> │ time_distributed… │\n",
       "│ (<span style=\"color: #0087ff; text-decoration-color: #0087ff\">ConvLSTM2D</span>)        │ <span style=\"color: #00af00; text-decoration-color: #00af00\">256</span>)              │            │                   │\n",
       "├─────────────────────┼───────────────────┼────────────┼───────────────────┤\n",
       "│ time_distributed_1  │ (<span style=\"color: #00af00; text-decoration-color: #00af00\">1</span>, <span style=\"color: #00af00; text-decoration-color: #00af00\">1</span>, <span style=\"color: #00af00; text-decoration-color: #00af00\">49152</span>)     │          <span style=\"color: #00af00; text-decoration-color: #00af00\">0</span> │ conv_lstm2d[<span style=\"color: #00af00; text-decoration-color: #00af00\">0</span>][<span style=\"color: #00af00; text-decoration-color: #00af00\">0</span>] │\n",
       "│ (<span style=\"color: #0087ff; text-decoration-color: #0087ff\">TimeDistributed</span>)   │                   │            │                   │\n",
       "├─────────────────────┼───────────────────┼────────────┼───────────────────┤\n",
       "│ dense (<span style=\"color: #0087ff; text-decoration-color: #0087ff\">Dense</span>)       │ (<span style=\"color: #00af00; text-decoration-color: #00af00\">1</span>, <span style=\"color: #00af00; text-decoration-color: #00af00\">1</span>, <span style=\"color: #00af00; text-decoration-color: #00af00\">11</span>)        │    <span style=\"color: #00af00; text-decoration-color: #00af00\">540,683</span> │ time_distributed… │\n",
       "├─────────────────────┼───────────────────┼────────────┼───────────────────┤\n",
       "│ dense_1 (<span style=\"color: #0087ff; text-decoration-color: #0087ff\">Dense</span>)     │ (<span style=\"color: #00af00; text-decoration-color: #00af00\">1</span>, <span style=\"color: #00af00; text-decoration-color: #00af00\">1</span>, <span style=\"color: #00af00; text-decoration-color: #00af00\">2</span>)         │     <span style=\"color: #00af00; text-decoration-color: #00af00\">98,306</span> │ time_distributed… │\n",
       "├─────────────────────┼───────────────────┼────────────┼───────────────────┤\n",
       "│ dense_2 (<span style=\"color: #0087ff; text-decoration-color: #0087ff\">Dense</span>)     │ (<span style=\"color: #00af00; text-decoration-color: #00af00\">1</span>, <span style=\"color: #00af00; text-decoration-color: #00af00\">1</span>, <span style=\"color: #00af00; text-decoration-color: #00af00\">23</span>)        │  <span style=\"color: #00af00; text-decoration-color: #00af00\">1,130,519</span> │ time_distributed… │\n",
       "├─────────────────────┼───────────────────┼────────────┼───────────────────┤\n",
       "│ dense_3 (<span style=\"color: #0087ff; text-decoration-color: #0087ff\">Dense</span>)     │ (<span style=\"color: #00af00; text-decoration-color: #00af00\">1</span>, <span style=\"color: #00af00; text-decoration-color: #00af00\">1</span>, <span style=\"color: #00af00; text-decoration-color: #00af00\">15</span>)        │    <span style=\"color: #00af00; text-decoration-color: #00af00\">737,295</span> │ time_distributed… │\n",
       "├─────────────────────┼───────────────────┼────────────┼───────────────────┤\n",
       "│ dense_4 (<span style=\"color: #0087ff; text-decoration-color: #0087ff\">Dense</span>)     │ (<span style=\"color: #00af00; text-decoration-color: #00af00\">1</span>, <span style=\"color: #00af00; text-decoration-color: #00af00\">1</span>, <span style=\"color: #00af00; text-decoration-color: #00af00\">1</span>)         │     <span style=\"color: #00af00; text-decoration-color: #00af00\">49,153</span> │ time_distributed… │\n",
       "├─────────────────────┼───────────────────┼────────────┼───────────────────┤\n",
       "│ concatenate         │ (<span style=\"color: #00af00; text-decoration-color: #00af00\">1</span>, <span style=\"color: #00af00; text-decoration-color: #00af00\">1</span>, <span style=\"color: #00af00; text-decoration-color: #00af00\">52</span>)        │          <span style=\"color: #00af00; text-decoration-color: #00af00\">0</span> │ dense[<span style=\"color: #00af00; text-decoration-color: #00af00\">0</span>][<span style=\"color: #00af00; text-decoration-color: #00af00\">0</span>],      │\n",
       "│ (<span style=\"color: #0087ff; text-decoration-color: #0087ff\">Concatenate</span>)       │                   │            │ dense_1[<span style=\"color: #00af00; text-decoration-color: #00af00\">0</span>][<span style=\"color: #00af00; text-decoration-color: #00af00\">0</span>],    │\n",
       "│                     │                   │            │ dense_2[<span style=\"color: #00af00; text-decoration-color: #00af00\">0</span>][<span style=\"color: #00af00; text-decoration-color: #00af00\">0</span>],    │\n",
       "│                     │                   │            │ dense_3[<span style=\"color: #00af00; text-decoration-color: #00af00\">0</span>][<span style=\"color: #00af00; text-decoration-color: #00af00\">0</span>],    │\n",
       "│                     │                   │            │ dense_4[<span style=\"color: #00af00; text-decoration-color: #00af00\">0</span>][<span style=\"color: #00af00; text-decoration-color: #00af00\">0</span>]     │\n",
       "└─────────────────────┴───────────────────┴────────────┴───────────────────┘\n",
       "</pre>\n"
      ],
      "text/plain": [
       "┏━━━━━━━━━━━━━━━━━━━━━┳━━━━━━━━━━━━━━━━━━━┳━━━━━━━━━━━━┳━━━━━━━━━━━━━━━━━━━┓\n",
       "┃\u001b[1m \u001b[0m\u001b[1mLayer (type)       \u001b[0m\u001b[1m \u001b[0m┃\u001b[1m \u001b[0m\u001b[1mOutput Shape     \u001b[0m\u001b[1m \u001b[0m┃\u001b[1m \u001b[0m\u001b[1m   Param #\u001b[0m\u001b[1m \u001b[0m┃\u001b[1m \u001b[0m\u001b[1mConnected to     \u001b[0m\u001b[1m \u001b[0m┃\n",
       "┡━━━━━━━━━━━━━━━━━━━━━╇━━━━━━━━━━━━━━━━━━━╇━━━━━━━━━━━━╇━━━━━━━━━━━━━━━━━━━┩\n",
       "│ main_in             │ (\u001b[38;5;34m1\u001b[0m, \u001b[38;5;34m1\u001b[0m, \u001b[38;5;34m150\u001b[0m, \u001b[38;5;34m412\u001b[0m,  │          \u001b[38;5;34m0\u001b[0m │ -                 │\n",
       "│ (\u001b[38;5;33mInputLayer\u001b[0m)        │ \u001b[38;5;34m3\u001b[0m)                │            │                   │\n",
       "├─────────────────────┼───────────────────┼────────────┼───────────────────┤\n",
       "│ time_distributed    │ (\u001b[38;5;34m1\u001b[0m, \u001b[38;5;34m1\u001b[0m, \u001b[38;5;34m10\u001b[0m, \u001b[38;5;34m26\u001b[0m,    │    \u001b[38;5;34m867,975\u001b[0m │ main_in[\u001b[38;5;34m0\u001b[0m][\u001b[38;5;34m0\u001b[0m]     │\n",
       "│ (\u001b[38;5;33mTimeDistributed\u001b[0m)   │ \u001b[38;5;34m112\u001b[0m)              │            │                   │\n",
       "├─────────────────────┼───────────────────┼────────────┼───────────────────┤\n",
       "│ conv_lstm2d         │ (\u001b[38;5;34m1\u001b[0m, \u001b[38;5;34m1\u001b[0m, \u001b[38;5;34m8\u001b[0m, \u001b[38;5;34m24\u001b[0m,     │  \u001b[38;5;34m3,392,512\u001b[0m │ time_distributed… │\n",
       "│ (\u001b[38;5;33mConvLSTM2D\u001b[0m)        │ \u001b[38;5;34m256\u001b[0m)              │            │                   │\n",
       "├─────────────────────┼───────────────────┼────────────┼───────────────────┤\n",
       "│ time_distributed_1  │ (\u001b[38;5;34m1\u001b[0m, \u001b[38;5;34m1\u001b[0m, \u001b[38;5;34m49152\u001b[0m)     │          \u001b[38;5;34m0\u001b[0m │ conv_lstm2d[\u001b[38;5;34m0\u001b[0m][\u001b[38;5;34m0\u001b[0m] │\n",
       "│ (\u001b[38;5;33mTimeDistributed\u001b[0m)   │                   │            │                   │\n",
       "├─────────────────────┼───────────────────┼────────────┼───────────────────┤\n",
       "│ dense (\u001b[38;5;33mDense\u001b[0m)       │ (\u001b[38;5;34m1\u001b[0m, \u001b[38;5;34m1\u001b[0m, \u001b[38;5;34m11\u001b[0m)        │    \u001b[38;5;34m540,683\u001b[0m │ time_distributed… │\n",
       "├─────────────────────┼───────────────────┼────────────┼───────────────────┤\n",
       "│ dense_1 (\u001b[38;5;33mDense\u001b[0m)     │ (\u001b[38;5;34m1\u001b[0m, \u001b[38;5;34m1\u001b[0m, \u001b[38;5;34m2\u001b[0m)         │     \u001b[38;5;34m98,306\u001b[0m │ time_distributed… │\n",
       "├─────────────────────┼───────────────────┼────────────┼───────────────────┤\n",
       "│ dense_2 (\u001b[38;5;33mDense\u001b[0m)     │ (\u001b[38;5;34m1\u001b[0m, \u001b[38;5;34m1\u001b[0m, \u001b[38;5;34m23\u001b[0m)        │  \u001b[38;5;34m1,130,519\u001b[0m │ time_distributed… │\n",
       "├─────────────────────┼───────────────────┼────────────┼───────────────────┤\n",
       "│ dense_3 (\u001b[38;5;33mDense\u001b[0m)     │ (\u001b[38;5;34m1\u001b[0m, \u001b[38;5;34m1\u001b[0m, \u001b[38;5;34m15\u001b[0m)        │    \u001b[38;5;34m737,295\u001b[0m │ time_distributed… │\n",
       "├─────────────────────┼───────────────────┼────────────┼───────────────────┤\n",
       "│ dense_4 (\u001b[38;5;33mDense\u001b[0m)     │ (\u001b[38;5;34m1\u001b[0m, \u001b[38;5;34m1\u001b[0m, \u001b[38;5;34m1\u001b[0m)         │     \u001b[38;5;34m49,153\u001b[0m │ time_distributed… │\n",
       "├─────────────────────┼───────────────────┼────────────┼───────────────────┤\n",
       "│ concatenate         │ (\u001b[38;5;34m1\u001b[0m, \u001b[38;5;34m1\u001b[0m, \u001b[38;5;34m52\u001b[0m)        │          \u001b[38;5;34m0\u001b[0m │ dense[\u001b[38;5;34m0\u001b[0m][\u001b[38;5;34m0\u001b[0m],      │\n",
       "│ (\u001b[38;5;33mConcatenate\u001b[0m)       │                   │            │ dense_1[\u001b[38;5;34m0\u001b[0m][\u001b[38;5;34m0\u001b[0m],    │\n",
       "│                     │                   │            │ dense_2[\u001b[38;5;34m0\u001b[0m][\u001b[38;5;34m0\u001b[0m],    │\n",
       "│                     │                   │            │ dense_3[\u001b[38;5;34m0\u001b[0m][\u001b[38;5;34m0\u001b[0m],    │\n",
       "│                     │                   │            │ dense_4[\u001b[38;5;34m0\u001b[0m][\u001b[38;5;34m0\u001b[0m]     │\n",
       "└─────────────────────┴───────────────────┴────────────┴───────────────────┘\n"
      ]
     },
     "metadata": {},
     "output_type": "display_data"
    },
    {
     "data": {
      "text/html": [
       "<pre style=\"white-space:pre;overflow-x:auto;line-height:normal;font-family:Menlo,'DejaVu Sans Mono',consolas,'Courier New',monospace\"><span style=\"font-weight: bold\"> Total params: </span><span style=\"color: #00af00; text-decoration-color: #00af00\">20,416,997</span> (77.88 MB)\n",
       "</pre>\n"
      ],
      "text/plain": [
       "\u001b[1m Total params: \u001b[0m\u001b[38;5;34m20,416,997\u001b[0m (77.88 MB)\n"
      ]
     },
     "metadata": {},
     "output_type": "display_data"
    },
    {
     "data": {
      "text/html": [
       "<pre style=\"white-space:pre;overflow-x:auto;line-height:normal;font-family:Menlo,'DejaVu Sans Mono',consolas,'Courier New',monospace\"><span style=\"font-weight: bold\"> Trainable params: </span><span style=\"color: #00af00; text-decoration-color: #00af00\">6,800,276</span> (25.94 MB)\n",
       "</pre>\n"
      ],
      "text/plain": [
       "\u001b[1m Trainable params: \u001b[0m\u001b[38;5;34m6,800,276\u001b[0m (25.94 MB)\n"
      ]
     },
     "metadata": {},
     "output_type": "display_data"
    },
    {
     "data": {
      "text/html": [
       "<pre style=\"white-space:pre;overflow-x:auto;line-height:normal;font-family:Menlo,'DejaVu Sans Mono',consolas,'Courier New',monospace\"><span style=\"font-weight: bold\"> Non-trainable params: </span><span style=\"color: #00af00; text-decoration-color: #00af00\">16,167</span> (63.16 KB)\n",
       "</pre>\n"
      ],
      "text/plain": [
       "\u001b[1m Non-trainable params: \u001b[0m\u001b[38;5;34m16,167\u001b[0m (63.16 KB)\n"
      ]
     },
     "metadata": {},
     "output_type": "display_data"
    },
    {
     "data": {
      "text/html": [
       "<pre style=\"white-space:pre;overflow-x:auto;line-height:normal;font-family:Menlo,'DejaVu Sans Mono',consolas,'Courier New',monospace\"><span style=\"font-weight: bold\"> Optimizer params: </span><span style=\"color: #00af00; text-decoration-color: #00af00\">13,600,554</span> (51.88 MB)\n",
       "</pre>\n"
      ],
      "text/plain": [
       "\u001b[1m Optimizer params: \u001b[0m\u001b[38;5;34m13,600,554\u001b[0m (51.88 MB)\n"
      ]
     },
     "metadata": {},
     "output_type": "display_data"
    }
   ],
   "source": [
    "model = tp_load_model(save_dir='stateful_model', model_name='model_10file_timestep_96_finetune_28_11_19_stateful')\n",
    "model.summary()"
   ]
  },
  {
   "cell_type": "code",
   "execution_count": 8,
   "metadata": {},
   "outputs": [
    {
     "name": "stdout",
     "output_type": "stream",
     "text": [
      "Loaded model architecture from save_model_BC/model_10file_timestep_16_1.json\n",
      "Loaded weights from save_model_BC/model_10file_timestep_16_1.weights.h5\n"
     ]
    },
    {
     "data": {
      "text/html": [
       "<pre style=\"white-space:pre;overflow-x:auto;line-height:normal;font-family:Menlo,'DejaVu Sans Mono',consolas,'Courier New',monospace\"><span style=\"font-weight: bold\">Model: \"functional_1\"</span>\n",
       "</pre>\n"
      ],
      "text/plain": [
       "\u001b[1mModel: \"functional_1\"\u001b[0m\n"
      ]
     },
     "metadata": {},
     "output_type": "display_data"
    },
    {
     "data": {
      "text/html": [
       "<pre style=\"white-space:pre;overflow-x:auto;line-height:normal;font-family:Menlo,'DejaVu Sans Mono',consolas,'Courier New',monospace\">┏━━━━━━━━━━━━━━━━━━━━━┳━━━━━━━━━━━━━━━━━━━┳━━━━━━━━━━━━┳━━━━━━━━━━━━━━━━━━━┓\n",
       "┃<span style=\"font-weight: bold\"> Layer (type)        </span>┃<span style=\"font-weight: bold\"> Output Shape      </span>┃<span style=\"font-weight: bold\">    Param # </span>┃<span style=\"font-weight: bold\"> Connected to      </span>┃\n",
       "┡━━━━━━━━━━━━━━━━━━━━━╇━━━━━━━━━━━━━━━━━━━╇━━━━━━━━━━━━╇━━━━━━━━━━━━━━━━━━━┩\n",
       "│ main_in             │ (<span style=\"color: #00d7ff; text-decoration-color: #00d7ff\">None</span>, <span style=\"color: #00af00; text-decoration-color: #00af00\">32</span>, <span style=\"color: #00af00; text-decoration-color: #00af00\">150</span>,   │          <span style=\"color: #00af00; text-decoration-color: #00af00\">0</span> │ -                 │\n",
       "│ (<span style=\"color: #0087ff; text-decoration-color: #0087ff\">InputLayer</span>)        │ <span style=\"color: #00af00; text-decoration-color: #00af00\">412</span>, <span style=\"color: #00af00; text-decoration-color: #00af00\">3</span>)           │            │                   │\n",
       "├─────────────────────┼───────────────────┼────────────┼───────────────────┤\n",
       "│ time_distributed    │ (<span style=\"color: #00d7ff; text-decoration-color: #00d7ff\">None</span>, <span style=\"color: #00af00; text-decoration-color: #00af00\">32</span>, <span style=\"color: #00af00; text-decoration-color: #00af00\">10</span>,    │    <span style=\"color: #00af00; text-decoration-color: #00af00\">867,975</span> │ main_in[<span style=\"color: #00af00; text-decoration-color: #00af00\">0</span>][<span style=\"color: #00af00; text-decoration-color: #00af00\">0</span>]     │\n",
       "│ (<span style=\"color: #0087ff; text-decoration-color: #0087ff\">TimeDistributed</span>)   │ <span style=\"color: #00af00; text-decoration-color: #00af00\">26</span>, <span style=\"color: #00af00; text-decoration-color: #00af00\">112</span>)          │            │                   │\n",
       "├─────────────────────┼───────────────────┼────────────┼───────────────────┤\n",
       "│ conv_lstm2d         │ (<span style=\"color: #00d7ff; text-decoration-color: #00d7ff\">None</span>, <span style=\"color: #00af00; text-decoration-color: #00af00\">32</span>, <span style=\"color: #00af00; text-decoration-color: #00af00\">8</span>, <span style=\"color: #00af00; text-decoration-color: #00af00\">24</span>, │  <span style=\"color: #00af00; text-decoration-color: #00af00\">3,392,512</span> │ time_distributed… │\n",
       "│ (<span style=\"color: #0087ff; text-decoration-color: #0087ff\">ConvLSTM2D</span>)        │ <span style=\"color: #00af00; text-decoration-color: #00af00\">256</span>)              │            │                   │\n",
       "├─────────────────────┼───────────────────┼────────────┼───────────────────┤\n",
       "│ time_distributed_1  │ (<span style=\"color: #00d7ff; text-decoration-color: #00d7ff\">None</span>, <span style=\"color: #00af00; text-decoration-color: #00af00\">32</span>, <span style=\"color: #00af00; text-decoration-color: #00af00\">49152</span>) │          <span style=\"color: #00af00; text-decoration-color: #00af00\">0</span> │ conv_lstm2d[<span style=\"color: #00af00; text-decoration-color: #00af00\">0</span>][<span style=\"color: #00af00; text-decoration-color: #00af00\">0</span>] │\n",
       "│ (<span style=\"color: #0087ff; text-decoration-color: #0087ff\">TimeDistributed</span>)   │                   │            │                   │\n",
       "├─────────────────────┼───────────────────┼────────────┼───────────────────┤\n",
       "│ time_distributed_2  │ (<span style=\"color: #00d7ff; text-decoration-color: #00d7ff\">None</span>, <span style=\"color: #00af00; text-decoration-color: #00af00\">32</span>, <span style=\"color: #00af00; text-decoration-color: #00af00\">11</span>)    │    <span style=\"color: #00af00; text-decoration-color: #00af00\">540,683</span> │ time_distributed… │\n",
       "│ (<span style=\"color: #0087ff; text-decoration-color: #0087ff\">TimeDistributed</span>)   │                   │            │                   │\n",
       "├─────────────────────┼───────────────────┼────────────┼───────────────────┤\n",
       "│ time_distributed_3  │ (<span style=\"color: #00d7ff; text-decoration-color: #00d7ff\">None</span>, <span style=\"color: #00af00; text-decoration-color: #00af00\">32</span>, <span style=\"color: #00af00; text-decoration-color: #00af00\">2</span>)     │     <span style=\"color: #00af00; text-decoration-color: #00af00\">98,306</span> │ time_distributed… │\n",
       "│ (<span style=\"color: #0087ff; text-decoration-color: #0087ff\">TimeDistributed</span>)   │                   │            │                   │\n",
       "├─────────────────────┼───────────────────┼────────────┼───────────────────┤\n",
       "│ time_distributed_4  │ (<span style=\"color: #00d7ff; text-decoration-color: #00d7ff\">None</span>, <span style=\"color: #00af00; text-decoration-color: #00af00\">32</span>, <span style=\"color: #00af00; text-decoration-color: #00af00\">23</span>)    │  <span style=\"color: #00af00; text-decoration-color: #00af00\">1,130,519</span> │ time_distributed… │\n",
       "│ (<span style=\"color: #0087ff; text-decoration-color: #0087ff\">TimeDistributed</span>)   │                   │            │                   │\n",
       "├─────────────────────┼───────────────────┼────────────┼───────────────────┤\n",
       "│ time_distributed_5  │ (<span style=\"color: #00d7ff; text-decoration-color: #00d7ff\">None</span>, <span style=\"color: #00af00; text-decoration-color: #00af00\">32</span>, <span style=\"color: #00af00; text-decoration-color: #00af00\">15</span>)    │    <span style=\"color: #00af00; text-decoration-color: #00af00\">737,295</span> │ time_distributed… │\n",
       "│ (<span style=\"color: #0087ff; text-decoration-color: #0087ff\">TimeDistributed</span>)   │                   │            │                   │\n",
       "├─────────────────────┼───────────────────┼────────────┼───────────────────┤\n",
       "│ time_distributed_6  │ (<span style=\"color: #00d7ff; text-decoration-color: #00d7ff\">None</span>, <span style=\"color: #00af00; text-decoration-color: #00af00\">32</span>, <span style=\"color: #00af00; text-decoration-color: #00af00\">1</span>)     │     <span style=\"color: #00af00; text-decoration-color: #00af00\">49,153</span> │ time_distributed… │\n",
       "│ (<span style=\"color: #0087ff; text-decoration-color: #0087ff\">TimeDistributed</span>)   │                   │            │                   │\n",
       "├─────────────────────┼───────────────────┼────────────┼───────────────────┤\n",
       "│ concatenate         │ (<span style=\"color: #00d7ff; text-decoration-color: #00d7ff\">None</span>, <span style=\"color: #00af00; text-decoration-color: #00af00\">32</span>, <span style=\"color: #00af00; text-decoration-color: #00af00\">52</span>)    │          <span style=\"color: #00af00; text-decoration-color: #00af00\">0</span> │ time_distributed… │\n",
       "│ (<span style=\"color: #0087ff; text-decoration-color: #0087ff\">Concatenate</span>)       │                   │            │ time_distributed… │\n",
       "│                     │                   │            │ time_distributed… │\n",
       "│                     │                   │            │ time_distributed… │\n",
       "│                     │                   │            │ time_distributed… │\n",
       "└─────────────────────┴───────────────────┴────────────┴───────────────────┘\n",
       "</pre>\n"
      ],
      "text/plain": [
       "┏━━━━━━━━━━━━━━━━━━━━━┳━━━━━━━━━━━━━━━━━━━┳━━━━━━━━━━━━┳━━━━━━━━━━━━━━━━━━━┓\n",
       "┃\u001b[1m \u001b[0m\u001b[1mLayer (type)       \u001b[0m\u001b[1m \u001b[0m┃\u001b[1m \u001b[0m\u001b[1mOutput Shape     \u001b[0m\u001b[1m \u001b[0m┃\u001b[1m \u001b[0m\u001b[1m   Param #\u001b[0m\u001b[1m \u001b[0m┃\u001b[1m \u001b[0m\u001b[1mConnected to     \u001b[0m\u001b[1m \u001b[0m┃\n",
       "┡━━━━━━━━━━━━━━━━━━━━━╇━━━━━━━━━━━━━━━━━━━╇━━━━━━━━━━━━╇━━━━━━━━━━━━━━━━━━━┩\n",
       "│ main_in             │ (\u001b[38;5;45mNone\u001b[0m, \u001b[38;5;34m32\u001b[0m, \u001b[38;5;34m150\u001b[0m,   │          \u001b[38;5;34m0\u001b[0m │ -                 │\n",
       "│ (\u001b[38;5;33mInputLayer\u001b[0m)        │ \u001b[38;5;34m412\u001b[0m, \u001b[38;5;34m3\u001b[0m)           │            │                   │\n",
       "├─────────────────────┼───────────────────┼────────────┼───────────────────┤\n",
       "│ time_distributed    │ (\u001b[38;5;45mNone\u001b[0m, \u001b[38;5;34m32\u001b[0m, \u001b[38;5;34m10\u001b[0m,    │    \u001b[38;5;34m867,975\u001b[0m │ main_in[\u001b[38;5;34m0\u001b[0m][\u001b[38;5;34m0\u001b[0m]     │\n",
       "│ (\u001b[38;5;33mTimeDistributed\u001b[0m)   │ \u001b[38;5;34m26\u001b[0m, \u001b[38;5;34m112\u001b[0m)          │            │                   │\n",
       "├─────────────────────┼───────────────────┼────────────┼───────────────────┤\n",
       "│ conv_lstm2d         │ (\u001b[38;5;45mNone\u001b[0m, \u001b[38;5;34m32\u001b[0m, \u001b[38;5;34m8\u001b[0m, \u001b[38;5;34m24\u001b[0m, │  \u001b[38;5;34m3,392,512\u001b[0m │ time_distributed… │\n",
       "│ (\u001b[38;5;33mConvLSTM2D\u001b[0m)        │ \u001b[38;5;34m256\u001b[0m)              │            │                   │\n",
       "├─────────────────────┼───────────────────┼────────────┼───────────────────┤\n",
       "│ time_distributed_1  │ (\u001b[38;5;45mNone\u001b[0m, \u001b[38;5;34m32\u001b[0m, \u001b[38;5;34m49152\u001b[0m) │          \u001b[38;5;34m0\u001b[0m │ conv_lstm2d[\u001b[38;5;34m0\u001b[0m][\u001b[38;5;34m0\u001b[0m] │\n",
       "│ (\u001b[38;5;33mTimeDistributed\u001b[0m)   │                   │            │                   │\n",
       "├─────────────────────┼───────────────────┼────────────┼───────────────────┤\n",
       "│ time_distributed_2  │ (\u001b[38;5;45mNone\u001b[0m, \u001b[38;5;34m32\u001b[0m, \u001b[38;5;34m11\u001b[0m)    │    \u001b[38;5;34m540,683\u001b[0m │ time_distributed… │\n",
       "│ (\u001b[38;5;33mTimeDistributed\u001b[0m)   │                   │            │                   │\n",
       "├─────────────────────┼───────────────────┼────────────┼───────────────────┤\n",
       "│ time_distributed_3  │ (\u001b[38;5;45mNone\u001b[0m, \u001b[38;5;34m32\u001b[0m, \u001b[38;5;34m2\u001b[0m)     │     \u001b[38;5;34m98,306\u001b[0m │ time_distributed… │\n",
       "│ (\u001b[38;5;33mTimeDistributed\u001b[0m)   │                   │            │                   │\n",
       "├─────────────────────┼───────────────────┼────────────┼───────────────────┤\n",
       "│ time_distributed_4  │ (\u001b[38;5;45mNone\u001b[0m, \u001b[38;5;34m32\u001b[0m, \u001b[38;5;34m23\u001b[0m)    │  \u001b[38;5;34m1,130,519\u001b[0m │ time_distributed… │\n",
       "│ (\u001b[38;5;33mTimeDistributed\u001b[0m)   │                   │            │                   │\n",
       "├─────────────────────┼───────────────────┼────────────┼───────────────────┤\n",
       "│ time_distributed_5  │ (\u001b[38;5;45mNone\u001b[0m, \u001b[38;5;34m32\u001b[0m, \u001b[38;5;34m15\u001b[0m)    │    \u001b[38;5;34m737,295\u001b[0m │ time_distributed… │\n",
       "│ (\u001b[38;5;33mTimeDistributed\u001b[0m)   │                   │            │                   │\n",
       "├─────────────────────┼───────────────────┼────────────┼───────────────────┤\n",
       "│ time_distributed_6  │ (\u001b[38;5;45mNone\u001b[0m, \u001b[38;5;34m32\u001b[0m, \u001b[38;5;34m1\u001b[0m)     │     \u001b[38;5;34m49,153\u001b[0m │ time_distributed… │\n",
       "│ (\u001b[38;5;33mTimeDistributed\u001b[0m)   │                   │            │                   │\n",
       "├─────────────────────┼───────────────────┼────────────┼───────────────────┤\n",
       "│ concatenate         │ (\u001b[38;5;45mNone\u001b[0m, \u001b[38;5;34m32\u001b[0m, \u001b[38;5;34m52\u001b[0m)    │          \u001b[38;5;34m0\u001b[0m │ time_distributed… │\n",
       "│ (\u001b[38;5;33mConcatenate\u001b[0m)       │                   │            │ time_distributed… │\n",
       "│                     │                   │            │ time_distributed… │\n",
       "│                     │                   │            │ time_distributed… │\n",
       "│                     │                   │            │ time_distributed… │\n",
       "└─────────────────────┴───────────────────┴────────────┴───────────────────┘\n"
      ]
     },
     "metadata": {},
     "output_type": "display_data"
    },
    {
     "data": {
      "text/html": [
       "<pre style=\"white-space:pre;overflow-x:auto;line-height:normal;font-family:Menlo,'DejaVu Sans Mono',consolas,'Courier New',monospace\"><span style=\"font-weight: bold\"> Total params: </span><span style=\"color: #00af00; text-decoration-color: #00af00\">20,416,997</span> (77.88 MB)\n",
       "</pre>\n"
      ],
      "text/plain": [
       "\u001b[1m Total params: \u001b[0m\u001b[38;5;34m20,416,997\u001b[0m (77.88 MB)\n"
      ]
     },
     "metadata": {},
     "output_type": "display_data"
    },
    {
     "data": {
      "text/html": [
       "<pre style=\"white-space:pre;overflow-x:auto;line-height:normal;font-family:Menlo,'DejaVu Sans Mono',consolas,'Courier New',monospace\"><span style=\"font-weight: bold\"> Trainable params: </span><span style=\"color: #00af00; text-decoration-color: #00af00\">6,800,276</span> (25.94 MB)\n",
       "</pre>\n"
      ],
      "text/plain": [
       "\u001b[1m Trainable params: \u001b[0m\u001b[38;5;34m6,800,276\u001b[0m (25.94 MB)\n"
      ]
     },
     "metadata": {},
     "output_type": "display_data"
    },
    {
     "data": {
      "text/html": [
       "<pre style=\"white-space:pre;overflow-x:auto;line-height:normal;font-family:Menlo,'DejaVu Sans Mono',consolas,'Courier New',monospace\"><span style=\"font-weight: bold\"> Non-trainable params: </span><span style=\"color: #00af00; text-decoration-color: #00af00\">16,167</span> (63.16 KB)\n",
       "</pre>\n"
      ],
      "text/plain": [
       "\u001b[1m Non-trainable params: \u001b[0m\u001b[38;5;34m16,167\u001b[0m (63.16 KB)\n"
      ]
     },
     "metadata": {},
     "output_type": "display_data"
    },
    {
     "data": {
      "text/html": [
       "<pre style=\"white-space:pre;overflow-x:auto;line-height:normal;font-family:Menlo,'DejaVu Sans Mono',consolas,'Courier New',monospace\"><span style=\"font-weight: bold\"> Optimizer params: </span><span style=\"color: #00af00; text-decoration-color: #00af00\">13,600,554</span> (51.88 MB)\n",
       "</pre>\n"
      ],
      "text/plain": [
       "\u001b[1m Optimizer params: \u001b[0m\u001b[38;5;34m13,600,554\u001b[0m (51.88 MB)\n"
      ]
     },
     "metadata": {},
     "output_type": "display_data"
    }
   ],
   "source": [
    "model = tp_load_model(save_dir='save_model_BC', model_name='model_10file_timestep_16_1')\n",
    "model.summary()"
   ]
  }
 ],
 "metadata": {
  "kernelspec": {
   "display_name": "Python 3",
   "language": "python",
   "name": "python3"
  },
  "language_info": {
   "codemirror_mode": {
    "name": "ipython",
    "version": 3
   },
   "file_extension": ".py",
   "mimetype": "text/x-python",
   "name": "python",
   "nbconvert_exporter": "python",
   "pygments_lexer": "ipython3",
   "version": "3.12.3"
  }
 },
 "nbformat": 4,
 "nbformat_minor": 2
}
