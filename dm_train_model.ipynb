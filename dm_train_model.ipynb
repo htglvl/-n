{
 "cells": [
  {
   "cell_type": "code",
   "execution_count": 1,
   "metadata": {},
   "outputs": [],
   "source": [
    "import os\n",
    "import tensorflow as tf\n",
    "import numpy as np\n",
    "import time\n",
    "import datetime\n",
    "import pickle\n",
    "import random\n",
    "import h5py\n",
    "from tensorflow.keras.models import Sequential, Model\n",
    "from tensorflow.keras.layers import Dense, Dropout, Activation, Flatten, BatchNormalization, Add, ReLU, LSTM, ConvLSTM2D\n",
    "from tensorflow.keras.layers import Conv2D, Conv3D, MaxPooling2D, concatenate, Input, AveragePooling2D, TimeDistributed, Dropout\n",
    "from tensorflow.keras import optimizers\n",
    "from tensorflow.keras import losses\n",
    "from tensorflow import keras\n",
    "import tensorflow.keras.backend as K\n",
    "from tensorflow.keras.applications import EfficientNetB0\n",
    "from config import *"
   ]
  },
  {
   "cell_type": "code",
   "execution_count": 2,
   "metadata": {},
   "outputs": [],
   "source": [
    "# inputs\n",
    "batch_size = 1 # this is total batchsize using all GPUs, so make divisible by num_gpus!\n",
    "l_rate = 0.0001\n",
    "\n",
    "# training data location\n",
    "file_name_stub = 'hdf5_dm_test_auto_' # dm_july2021_ aim_july2021_expert_ dm_july2021_expert_\n",
    "# file_name_stub = 'dm_6nov_aim_' \n",
    "folder_name = '..\\\\raw_data\\\\' \n",
    "starting_num = 1 # lowest file name to use in training\n",
    "highest_num = 30 # highest file name to use in training 4000, 5500, 190, 45, 10\n",
    "\n",
    "# whether to save model if training and where\n",
    "model_name = 'all_55k_sub_drop_'\n",
    "save_dir = '..\\\\save_model\\\\'\n",
    "SAVE_MODEL = True\n",
    "\n",
    "# whether to resume training from a previous model\n",
    "IS_LOAD_WEIGHTS_AND_MODEL=False\n",
    "weights_name = 'test_model_1'"
   ]
  },
  {
   "cell_type": "code",
   "execution_count": 4,
   "metadata": {},
   "outputs": [
    {
     "name": "stdout",
     "output_type": "stream",
     "text": [
      "-- building model from scratch --\n"
     ]
    },
    {
     "ename": "NotImplementedError",
     "evalue": "Exception encountered when calling TimeDistributed.call().\n\n\u001b[1mLayer Functional should implement `def compute_output_shape(self, input_shape)`.\u001b[0m\n\nArguments received by TimeDistributed.call():\n  • args=('<KerasTensor shape=(None, 96, 150, 280, 3), dtype=float32, sparse=None, name=main_in>',)\n  • kwargs={'mask': 'None'}",
     "output_type": "error",
     "traceback": [
      "\u001b[1;31m---------------------------------------------------------------------------\u001b[0m",
      "\u001b[1;31mNotImplementedError\u001b[0m                       Traceback (most recent call last)",
      "Cell \u001b[1;32mIn[4], line 25\u001b[0m\n\u001b[0;32m     22\u001b[0m intermediate_model\u001b[38;5;241m.\u001b[39mtrainable \u001b[38;5;241m=\u001b[39m \u001b[38;5;28;01mTrue\u001b[39;00m\n\u001b[0;32m     24\u001b[0m input_1 \u001b[38;5;241m=\u001b[39m Input(shape\u001b[38;5;241m=\u001b[39minput_shape,name\u001b[38;5;241m=\u001b[39m\u001b[38;5;124m'\u001b[39m\u001b[38;5;124mmain_in\u001b[39m\u001b[38;5;124m'\u001b[39m)\n\u001b[1;32m---> 25\u001b[0m x \u001b[38;5;241m=\u001b[39m \u001b[43mTimeDistributed\u001b[49m\u001b[43m(\u001b[49m\u001b[43mintermediate_model\u001b[49m\u001b[43m)\u001b[49m\u001b[43m(\u001b[49m\u001b[43minput_1\u001b[49m\u001b[43m)\u001b[49m\n",
      "File \u001b[1;32mc:\\Users\\Admin\\AppData\\Local\\Programs\\Python\\Python311\\Lib\\site-packages\\keras\\src\\utils\\traceback_utils.py:122\u001b[0m, in \u001b[0;36mfilter_traceback.<locals>.error_handler\u001b[1;34m(*args, **kwargs)\u001b[0m\n\u001b[0;32m    119\u001b[0m     filtered_tb \u001b[38;5;241m=\u001b[39m _process_traceback_frames(e\u001b[38;5;241m.\u001b[39m__traceback__)\n\u001b[0;32m    120\u001b[0m     \u001b[38;5;66;03m# To get the full stack trace, call:\u001b[39;00m\n\u001b[0;32m    121\u001b[0m     \u001b[38;5;66;03m# `keras.config.disable_traceback_filtering()`\u001b[39;00m\n\u001b[1;32m--> 122\u001b[0m     \u001b[38;5;28;01mraise\u001b[39;00m e\u001b[38;5;241m.\u001b[39mwith_traceback(filtered_tb) \u001b[38;5;28;01mfrom\u001b[39;00m \u001b[38;5;28;01mNone\u001b[39;00m\n\u001b[0;32m    123\u001b[0m \u001b[38;5;28;01mfinally\u001b[39;00m:\n\u001b[0;32m    124\u001b[0m     \u001b[38;5;28;01mdel\u001b[39;00m filtered_tb\n",
      "File \u001b[1;32mc:\\Users\\Admin\\AppData\\Local\\Programs\\Python\\Python311\\Lib\\site-packages\\keras\\src\\layers\\layer.py:1055\u001b[0m, in \u001b[0;36mLayer.compute_output_shape\u001b[1;34m(self, *args, **kwargs)\u001b[0m\n\u001b[0;32m   1053\u001b[0m \u001b[38;5;129m@utils\u001b[39m\u001b[38;5;241m.\u001b[39mdefault\n\u001b[0;32m   1054\u001b[0m \u001b[38;5;28;01mdef\u001b[39;00m \u001b[38;5;21mcompute_output_shape\u001b[39m(\u001b[38;5;28mself\u001b[39m, \u001b[38;5;241m*\u001b[39margs, \u001b[38;5;241m*\u001b[39m\u001b[38;5;241m*\u001b[39mkwargs):\n\u001b[1;32m-> 1055\u001b[0m     \u001b[38;5;28;01mraise\u001b[39;00m \u001b[38;5;167;01mNotImplementedError\u001b[39;00m(\n\u001b[0;32m   1056\u001b[0m         \u001b[38;5;124mf\u001b[39m\u001b[38;5;124m\"\u001b[39m\u001b[38;5;124mLayer \u001b[39m\u001b[38;5;132;01m{\u001b[39;00m\u001b[38;5;28mself\u001b[39m\u001b[38;5;241m.\u001b[39m\u001b[38;5;18m__class__\u001b[39m\u001b[38;5;241m.\u001b[39m\u001b[38;5;18m__name__\u001b[39m\u001b[38;5;132;01m}\u001b[39;00m\u001b[38;5;124m should implement \u001b[39m\u001b[38;5;124m\"\u001b[39m\n\u001b[0;32m   1057\u001b[0m         \u001b[38;5;124m\"\u001b[39m\u001b[38;5;124m`def compute_output_shape(self, input_shape)`.\u001b[39m\u001b[38;5;124m\"\u001b[39m\n\u001b[0;32m   1058\u001b[0m     )\n",
      "\u001b[1;31mNotImplementedError\u001b[0m: Exception encountered when calling TimeDistributed.call().\n\n\u001b[1mLayer Functional should implement `def compute_output_shape(self, input_shape)`.\u001b[0m\n\nArguments received by TimeDistributed.call():\n  • args=('<KerasTensor shape=(None, 96, 150, 280, 3), dtype=float32, sparse=None, name=main_in>',)\n  • kwargs={'mask': 'None'}"
     ]
    }
   ],
   "source": [
    "start_time=time.time()\n",
    "\n",
    "if IS_LOAD_WEIGHTS_AND_MODEL:\n",
    "    # pick up training from earlier spot\n",
    "    print('-- loading model from saved file --')\n",
    "    model = tp_load_model(save_dir, weights_name)\n",
    "    # TODO: if .p file exists, load and check if matches current config\n",
    "    hypers_load = pickle.load(open(save_dir+'/'+weights_name+'.p', 'rb'))\n",
    "    print(hypers_load)\n",
    "\n",
    "else:\n",
    "    # useful tutorial for building, https://keras.io/getting-started/functional-api-guide/\n",
    "    print('-- building model from scratch --')\n",
    "\n",
    "    base_model = EfficientNetB0(weights='imagenet',input_shape=(input_shape[1:]),include_top=False,drop_connect_rate=0.2)\n",
    "    if 'randinit' in model_name:\n",
    "        print('random initialisation!\\n\\n')\n",
    "        base_model = EfficientNetB0(weights=None,input_shape=(input_shape[1:]),include_top=False,drop_connect_rate=0.2)\n",
    "    base_model.trainable = True\n",
    "\n",
    "    intermediate_model= Model(inputs=base_model.input, outputs=base_model.layers[1].output)\n",
    "    intermediate_model.trainable = True\n",
    "\n",
    "    input_1 = Input(shape=input_shape,name='main_in')\n",
    "    x = TimeDistributed(intermediate_model)(input_1)\n"
   ]
  }
 ],
 "metadata": {
  "kernelspec": {
   "display_name": "Python 3",
   "language": "python",
   "name": "python3"
  },
  "language_info": {
   "codemirror_mode": {
    "name": "ipython",
    "version": 3
   },
   "file_extension": ".py",
   "mimetype": "text/x-python",
   "name": "python",
   "nbconvert_exporter": "python",
   "pygments_lexer": "ipython3",
   "version": "3.11.3"
  }
 },
 "nbformat": 4,
 "nbformat_minor": 2
}
